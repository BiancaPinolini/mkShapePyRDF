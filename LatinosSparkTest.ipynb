{
 "cells": [
  {
   "cell_type": "code",
   "execution_count": 1,
   "metadata": {
    "ExecuteTime": {
     "end_time": "2020-01-19T14:44:26.388817Z",
     "start_time": "2020-01-19T14:44:22.588192Z"
    }
   },
   "outputs": [
    {
     "name": "stdout",
     "output_type": "stream",
     "text": [
      "Welcome to JupyROOT 6.19/01\n"
     ]
    }
   ],
   "source": [
    "debug = False\n",
    "\n",
    "import ROOT as R\n",
    "if debug:\n",
    "    R.ROOT.EnableImplicitMT() # only for ROOT rdf\n",
    "\n",
    "import os\n",
    "from pprint import pprint\n",
    "import pandas as pd \n"
   ]
  },
  {
   "cell_type": "code",
   "execution_count": 2,
   "metadata": {
    "ExecuteTime": {
     "end_time": "2020-01-19T14:44:41.102972Z",
     "start_time": "2020-01-19T14:44:36.240846Z"
    }
   },
   "outputs": [
    {
     "name": "stdout",
     "output_type": "stream",
     "text": [
      "['Define', 'Filter', 'Histo1D', 'Histo2D', 'Histo3D', 'Profile1D', 'Profile2D', 'Profile3D', 'Count', 'Sum', 'Fill', 'Snapshot', 'Graph', 'AsNumpy']\n"
     ]
    }
   ],
   "source": [
    "# this cell is only for spark\n",
    "import PyRDF\n",
    "if not debug:\n",
    "    PyRDF.use(\"spark\")\n",
    "PyRDF.include_headers(\"headers.hh\")\n",
    "\n",
    "print(PyRDF.current_backend.supported_operations)"
   ]
  },
  {
   "cell_type": "code",
   "execution_count": 3,
   "metadata": {
    "ExecuteTime": {
     "end_time": "2020-01-19T11:47:12.440368Z",
     "start_time": "2020-01-19T11:47:12.306788Z"
    }
   },
   "outputs": [],
   "source": [
    "# this is only for root rdf \"interactive\"\n",
    "if debug:\n",
    "    R.gInterpreter.ProcessLine(\".L headers.hh\")"
   ]
  },
  {
   "cell_type": "code",
   "execution_count": 4,
   "metadata": {
    "ExecuteTime": {
     "end_time": "2020-01-19T14:44:31.729863Z",
     "start_time": "2020-01-19T14:44:31.657770Z"
    }
   },
   "outputs": [],
   "source": [
    "import latinos_rdf as lrdf"
   ]
  },
  {
   "cell_type": "code",
   "execution_count": 5,
   "metadata": {
    "ExecuteTime": {
     "end_time": "2020-01-19T14:44:32.058200Z",
     "start_time": "2020-01-19T14:44:32.049433Z"
    }
   },
   "outputs": [],
   "source": [
    "#samples = [\"DATA\",\"VBS\", \"VBF-V\", \"Wjets\", \"singleTop\", \"ttbar\",  \"VV\",\"DY\",\"FakeQCD\", \"VVV\"]\n",
    "samples = [\"VBS\", \"Wjets\", \"DY\", \"singleTop\", \"ttbar\"]\n",
    "cut = \"lowen_looseVBS\"\n",
    "output_basedir = \"/eos/user/d/dmapelli/public/latino/Full2017_v1_200119/\""
   ]
  },
  {
   "cell_type": "code",
   "execution_count": 6,
   "metadata": {
    "ExecuteTime": {
     "end_time": "2020-01-19T14:44:46.107033Z",
     "start_time": "2020-01-19T14:44:46.096029Z"
    }
   },
   "outputs": [],
   "source": [
    "# # FIXME\n",
    "\n",
    "columns_MC = [\"events\"]\n",
    "#columns_MC = [\"weight\", \"XSWeight\", \"TriggerEffWeight_1l\", \"btagSF\"] + columns\n",
    "#columns_DATA = columns\n",
    "columns_MC = [ cut+\"_\"+c for c in columns_MC]"
   ]
  },
  {
   "cell_type": "code",
   "execution_count": 7,
   "metadata": {
    "ExecuteTime": {
     "end_time": "2020-01-19T14:44:49.173947Z",
     "start_time": "2020-01-19T14:44:48.443091Z"
    },
    "scrolled": false
   },
   "outputs": [],
   "source": [
    "joblist = []\n",
    "\n",
    "for sample in samples:\n",
    "    if debug:\n",
    "        trees, nfiles = lrdf.build_dataframe(\"Full2017v6\", sample, R, \"root\") # ROOT RDF \"interactive\"\n",
    "    else:\n",
    "        trees, nfiles = lrdf.build_dataframe(\"Full2017v6\",  sample, PyRDF , \"pyrdf\") # Spark\n",
    "    for tree, nfile in zip(trees,nfiles):\n",
    "        joblist.append((tree,nfile))\n",
    "        \n",
    "######## Now sort by number of files\n",
    "jobslist = sorted(joblist, key=lambda v: v[1], reverse=True)\n"
   ]
  },
  {
   "cell_type": "code",
   "execution_count": 8,
   "metadata": {},
   "outputs": [
    {
     "name": "stdout",
     "output_type": "stream",
     "text": [
      "Tree: Wjets\n",
      "name: supercut\n",
      "parent: None\n",
      "cut: METFilter_MC && nLepton==1 && Lepton_pt[0]>30\n",
      "vars: \n",
      "aliases: bVeto,bReq,bVetoSF,bReqSF,btagSF\n",
      "weight: (puWeight*                   TriggerEffWeight_1l*                   Lepton_RecoSF[0]*                   EMTFbug_veto*Lepton_tightElectron_mvaFall17V1Iso_WP90_IdIsoSF[0]*                Lepton_tightMuon_cut_Tight_HWWW_IdIsoSF[0]*(Lepton_isTightElectron_mvaFall17V1Iso_WP90[0]>0.5 || Lepton_isTightMuon_cut_Tight_HWWW[0]>0.5)*PrefireWeight*btagSF)\n",
      "--------------------------------------------------------------------------------\n",
      "name: lowen_looseVBS\n",
      "parent: supercut\n",
      "cut: VBS_category==1             && vbs_0_pt > 30 && vbs_1_pt > 30              && vjet_0_pt > 30 && vjet_1_pt > 30             && mjj_vbs >=300                && deltaeta_vbs >= 2              && PuppiMET_pt > 30             && bVeto             && mjj_vjet > 65 && mjj_vjet < 105             \n",
      "vars: lowen_looseVBS_events,lowen_looseVBS_Lepton_pt,lowen_looseVBS_Lepton_eta,lowen_looseVBS_Lepton_phi,lowen_looseVBS_Lepton_flavour,lowen_looseVBS_PuppiMET,lowen_looseVBS_PuppiMET_phi,lowen_looseVBS_MET_pt,lowen_looseVBS_recoMET_pz,lowen_looseVBS_nJets,lowen_looseVBS_N_jets_central,lowen_looseVBS_N_jets_forward,lowen_looseVBS_mjj_vbs,lowen_looseVBS_deltaeta_vbs,lowen_looseVBS_deltaphi_vbs,lowen_looseVBS_vbs_etaprod,lowen_looseVBS_vbs_0_pt,lowen_looseVBS_vbs_1_pt,lowen_looseVBS_vbs_0_eta,lowen_looseVBS_vbs_1_eta,lowen_looseVBS_vbs_0_phi,lowen_looseVBS_vbs_1_phi,lowen_looseVBS_vbs_index_0,lowen_looseVBS_vbs_index_1,lowen_looseVBS_mjj_vjet,lowen_looseVBS_vjet_0_pt,lowen_looseVBS_vjet_1_pt,lowen_looseVBS_vjet_0_eta,lowen_looseVBS_vjet_1_eta,lowen_looseVBS_vjet_0_phi,lowen_looseVBS_vjet_1_phi,lowen_looseVBS_vjet_index_0,lowen_looseVBS_vjet_index_1,lowen_looseVBS_Zvjets_0,lowen_looseVBS_Zlep,lowen_looseVBS_Asym_vbs,lowen_looseVBS_Asym_vjet,lowen_looseVBS_Mw_lep_reco,lowen_looseVBS_Mtw_lep,lowen_looseVBS_w_lep_pt,lowen_looseVBS_Mww,lowen_looseVBS_R_ww,lowen_looseVBS_R_mw,lowen_looseVBS_A_ww,lowen_looseVBS_Centr_vbs,lowen_looseVBS_Centr_ww,lowen_looseVBS_mll,lowen_looseVBS_nvtx,lowen_looseVBS_qgl\n",
      "aliases: \n",
      "weight: None\n",
      "--------------------------------------------------------------------------------\n",
      "name: boost_CR_looseVBS\n",
      "parent: supercut\n",
      "cut: VBS_category==0             && vbs_0_pt > 30 && vbs_1_pt > 30              && vjet_0_pt > 200             && mjj_vbs >=300                && deltaeta_vbs >= 2              && PuppiMET_pt > 30             && bVeto             && mjj_vjet > 65 && mjj_vjet < 105             \n",
      "vars: boost_CR_looseVBS_events,boost_CR_looseVBS_Lepton_pt,boost_CR_looseVBS_Lepton_eta,boost_CR_looseVBS_Lepton_phi,boost_CR_looseVBS_Lepton_flavour,boost_CR_looseVBS_PuppiMET,boost_CR_looseVBS_PuppiMET_phi,boost_CR_looseVBS_MET_pt,boost_CR_looseVBS_recoMET_pz,boost_CR_looseVBS_nJets,boost_CR_looseVBS_N_jets_central,boost_CR_looseVBS_N_jets_forward,boost_CR_looseVBS_mjj_vbs,boost_CR_looseVBS_deltaeta_vbs,boost_CR_looseVBS_deltaphi_vbs,boost_CR_looseVBS_vbs_etaprod,boost_CR_looseVBS_vbs_0_pt,boost_CR_looseVBS_vbs_1_pt,boost_CR_looseVBS_vbs_0_eta,boost_CR_looseVBS_vbs_1_eta,boost_CR_looseVBS_vbs_0_phi,boost_CR_looseVBS_vbs_1_phi,boost_CR_looseVBS_vbs_index_0,boost_CR_looseVBS_vbs_index_1,boost_CR_looseVBS_mjj_vjet,boost_CR_looseVBS_vjet_0_pt,boost_CR_looseVBS_vjet_1_pt,boost_CR_looseVBS_vjet_0_eta,boost_CR_looseVBS_vjet_1_eta,boost_CR_looseVBS_vjet_0_phi,boost_CR_looseVBS_vjet_1_phi,boost_CR_looseVBS_vjet_index_0,boost_CR_looseVBS_vjet_index_1,boost_CR_looseVBS_Zvjets_0,boost_CR_looseVBS_Zlep,boost_CR_looseVBS_Asym_vbs,boost_CR_looseVBS_Asym_vjet,boost_CR_looseVBS_Mw_lep_reco,boost_CR_looseVBS_Mtw_lep,boost_CR_looseVBS_w_lep_pt,boost_CR_looseVBS_Mww,boost_CR_looseVBS_R_ww,boost_CR_looseVBS_R_mw,boost_CR_looseVBS_A_ww,boost_CR_looseVBS_Centr_vbs,boost_CR_looseVBS_Centr_ww,boost_CR_looseVBS_mll,boost_CR_looseVBS_nvtx,boost_CR_looseVBS_qgl\n",
      "aliases: \n",
      "weight: None\n",
      "--------------------------------------------------------------------------------\n",
      "Tree: ttbar\n",
      "name: supercut\n",
      "parent: None\n",
      "cut: METFilter_MC && nLepton==1 && Lepton_pt[0]>30\n",
      "vars: \n",
      "aliases: bVeto,bReq,bVetoSF,bReqSF,btagSF,isTTbar,isSingleTop,topGenPtOTF,antitopGenPtOTF,Top_pTrw\n",
      "weight: (puWeight*                   TriggerEffWeight_1l*                   Lepton_RecoSF[0]*                   EMTFbug_veto*Lepton_tightElectron_mvaFall17V1Iso_WP90_IdIsoSF[0]*                Lepton_tightMuon_cut_Tight_HWWW_IdIsoSF[0]*(Lepton_isTightElectron_mvaFall17V1Iso_WP90[0]>0.5 || Lepton_isTightMuon_cut_Tight_HWWW[0]>0.5)*PrefireWeight*btagSF* Top_pTrw)\n",
      "--------------------------------------------------------------------------------\n",
      "name: lowen_looseVBS\n",
      "parent: supercut\n",
      "cut: VBS_category==1             && vbs_0_pt > 30 && vbs_1_pt > 30              && vjet_0_pt > 30 && vjet_1_pt > 30             && mjj_vbs >=300                && deltaeta_vbs >= 2              && PuppiMET_pt > 30             && bVeto             && mjj_vjet > 65 && mjj_vjet < 105             \n",
      "vars: lowen_looseVBS_events,lowen_looseVBS_Lepton_pt,lowen_looseVBS_Lepton_eta,lowen_looseVBS_Lepton_phi,lowen_looseVBS_Lepton_flavour,lowen_looseVBS_PuppiMET,lowen_looseVBS_PuppiMET_phi,lowen_looseVBS_MET_pt,lowen_looseVBS_recoMET_pz,lowen_looseVBS_nJets,lowen_looseVBS_N_jets_central,lowen_looseVBS_N_jets_forward,lowen_looseVBS_mjj_vbs,lowen_looseVBS_deltaeta_vbs,lowen_looseVBS_deltaphi_vbs,lowen_looseVBS_vbs_etaprod,lowen_looseVBS_vbs_0_pt,lowen_looseVBS_vbs_1_pt,lowen_looseVBS_vbs_0_eta,lowen_looseVBS_vbs_1_eta,lowen_looseVBS_vbs_0_phi,lowen_looseVBS_vbs_1_phi,lowen_looseVBS_vbs_index_0,lowen_looseVBS_vbs_index_1,lowen_looseVBS_mjj_vjet,lowen_looseVBS_vjet_0_pt,lowen_looseVBS_vjet_1_pt,lowen_looseVBS_vjet_0_eta,lowen_looseVBS_vjet_1_eta,lowen_looseVBS_vjet_0_phi,lowen_looseVBS_vjet_1_phi,lowen_looseVBS_vjet_index_0,lowen_looseVBS_vjet_index_1,lowen_looseVBS_Zvjets_0,lowen_looseVBS_Zlep,lowen_looseVBS_Asym_vbs,lowen_looseVBS_Asym_vjet,lowen_looseVBS_Mw_lep_reco,lowen_looseVBS_Mtw_lep,lowen_looseVBS_w_lep_pt,lowen_looseVBS_Mww,lowen_looseVBS_R_ww,lowen_looseVBS_R_mw,lowen_looseVBS_A_ww,lowen_looseVBS_Centr_vbs,lowen_looseVBS_Centr_ww,lowen_looseVBS_mll,lowen_looseVBS_nvtx,lowen_looseVBS_qgl\n",
      "aliases: \n",
      "weight: None\n",
      "--------------------------------------------------------------------------------\n",
      "name: boost_CR_looseVBS\n",
      "parent: supercut\n",
      "cut: VBS_category==0             && vbs_0_pt > 30 && vbs_1_pt > 30              && vjet_0_pt > 200             && mjj_vbs >=300                && deltaeta_vbs >= 2              && PuppiMET_pt > 30             && bVeto             && mjj_vjet > 65 && mjj_vjet < 105             \n",
      "vars: boost_CR_looseVBS_events,boost_CR_looseVBS_Lepton_pt,boost_CR_looseVBS_Lepton_eta,boost_CR_looseVBS_Lepton_phi,boost_CR_looseVBS_Lepton_flavour,boost_CR_looseVBS_PuppiMET,boost_CR_looseVBS_PuppiMET_phi,boost_CR_looseVBS_MET_pt,boost_CR_looseVBS_recoMET_pz,boost_CR_looseVBS_nJets,boost_CR_looseVBS_N_jets_central,boost_CR_looseVBS_N_jets_forward,boost_CR_looseVBS_mjj_vbs,boost_CR_looseVBS_deltaeta_vbs,boost_CR_looseVBS_deltaphi_vbs,boost_CR_looseVBS_vbs_etaprod,boost_CR_looseVBS_vbs_0_pt,boost_CR_looseVBS_vbs_1_pt,boost_CR_looseVBS_vbs_0_eta,boost_CR_looseVBS_vbs_1_eta,boost_CR_looseVBS_vbs_0_phi,boost_CR_looseVBS_vbs_1_phi,boost_CR_looseVBS_vbs_index_0,boost_CR_looseVBS_vbs_index_1,boost_CR_looseVBS_mjj_vjet,boost_CR_looseVBS_vjet_0_pt,boost_CR_looseVBS_vjet_1_pt,boost_CR_looseVBS_vjet_0_eta,boost_CR_looseVBS_vjet_1_eta,boost_CR_looseVBS_vjet_0_phi,boost_CR_looseVBS_vjet_1_phi,boost_CR_looseVBS_vjet_index_0,boost_CR_looseVBS_vjet_index_1,boost_CR_looseVBS_Zvjets_0,boost_CR_looseVBS_Zlep,boost_CR_looseVBS_Asym_vbs,boost_CR_looseVBS_Asym_vjet,boost_CR_looseVBS_Mw_lep_reco,boost_CR_looseVBS_Mtw_lep,boost_CR_looseVBS_w_lep_pt,boost_CR_looseVBS_Mww,boost_CR_looseVBS_R_ww,boost_CR_looseVBS_R_mw,boost_CR_looseVBS_A_ww,boost_CR_looseVBS_Centr_vbs,boost_CR_looseVBS_Centr_ww,boost_CR_looseVBS_mll,boost_CR_looseVBS_nvtx,boost_CR_looseVBS_qgl\n",
      "aliases: \n",
      "weight: None\n",
      "--------------------------------------------------------------------------------\n"
     ]
    },
    {
     "ename": "KeyboardInterrupt",
     "evalue": "",
     "output_type": "error",
     "traceback": [
      "\u001b[0;31m---------------------------------------------------------------------------\u001b[0m",
      "\u001b[0;31mKeyboardInterrupt\u001b[0m                         Traceback (most recent call last)",
      "\u001b[0;32m<ipython-input-8-fcb38ccade38>\u001b[0m in \u001b[0;36m<module>\u001b[0;34m\u001b[0m\n\u001b[1;32m      7\u001b[0m         \u001b[0;32melse\u001b[0m\u001b[0;34m:\u001b[0m \u001b[0moutputcols\u001b[0m \u001b[0;34m=\u001b[0m \u001b[0mcolumns_MC\u001b[0m\u001b[0;34m\u001b[0m\u001b[0m\n\u001b[1;32m      8\u001b[0m \u001b[0;34m\u001b[0m\u001b[0m\n\u001b[0;32m----> 9\u001b[0;31m         \u001b[0mdf\u001b[0m \u001b[0;34m=\u001b[0m \u001b[0mpd\u001b[0m\u001b[0;34m.\u001b[0m\u001b[0mDataFrame\u001b[0m\u001b[0;34m(\u001b[0m\u001b[0mtree\u001b[0m\u001b[0;34m[\u001b[0m\u001b[0mcut\u001b[0m\u001b[0;34m]\u001b[0m\u001b[0;34m.\u001b[0m\u001b[0mrdf_node\u001b[0m\u001b[0;34m.\u001b[0m\u001b[0mAsNumpy\u001b[0m\u001b[0;34m(\u001b[0m\u001b[0mcolumns\u001b[0m\u001b[0;34m=\u001b[0m\u001b[0moutputcols\u001b[0m\u001b[0;34m)\u001b[0m\u001b[0;34m)\u001b[0m\u001b[0;34m\u001b[0m\u001b[0m\n\u001b[0m\u001b[1;32m     10\u001b[0m         \u001b[0mdfs\u001b[0m\u001b[0;34m.\u001b[0m\u001b[0mappend\u001b[0m\u001b[0;34m(\u001b[0m\u001b[0mdf\u001b[0m\u001b[0;34m)\u001b[0m\u001b[0;34m\u001b[0m\u001b[0m\n",
      "\u001b[0;32m/cvmfs/sft-nightlies.cern.ch/lcg/views/dev3python3/Sun/x86_64-centos7-gcc8-opt/lib/python3.6/site-packages/PyRDF/Proxy.py\u001b[0m in \u001b[0;36m_create_new_op\u001b[0;34m(self, *args, **kwargs)\u001b[0m\n\u001b[1;32m    181\u001b[0m             \u001b[0;32mfrom\u001b[0m \u001b[0mPyRDF\u001b[0m \u001b[0;32mimport\u001b[0m \u001b[0mcurrent_backend\u001b[0m\u001b[0;34m\u001b[0m\u001b[0m\n\u001b[1;32m    182\u001b[0m             \u001b[0mgenerator\u001b[0m \u001b[0;34m=\u001b[0m \u001b[0mCallableGenerator\u001b[0m\u001b[0;34m(\u001b[0m\u001b[0mself\u001b[0m\u001b[0;34m.\u001b[0m\u001b[0mproxied_node\u001b[0m\u001b[0;34m.\u001b[0m\u001b[0mget_head\u001b[0m\u001b[0;34m(\u001b[0m\u001b[0;34m)\u001b[0m\u001b[0;34m)\u001b[0m\u001b[0;34m\u001b[0m\u001b[0m\n\u001b[0;32m--> 183\u001b[0;31m             \u001b[0mcurrent_backend\u001b[0m\u001b[0;34m.\u001b[0m\u001b[0mexecute\u001b[0m\u001b[0;34m(\u001b[0m\u001b[0mgenerator\u001b[0m\u001b[0;34m)\u001b[0m\u001b[0;34m\u001b[0m\u001b[0m\n\u001b[0m\u001b[1;32m    184\u001b[0m             \u001b[0;32mreturn\u001b[0m \u001b[0mnewNode\u001b[0m\u001b[0;34m.\u001b[0m\u001b[0mvalue\u001b[0m\u001b[0;34m\u001b[0m\u001b[0m\n\u001b[1;32m    185\u001b[0m         \u001b[0;32melse\u001b[0m\u001b[0;34m:\u001b[0m\u001b[0;34m\u001b[0m\u001b[0m\n",
      "\u001b[0;32m/cvmfs/sft-nightlies.cern.ch/lcg/views/dev3python3/Sun/x86_64-centos7-gcc8-opt/lib/python3.6/site-packages/PyRDF/backend/Dist.py\u001b[0m in \u001b[0;36mexecute\u001b[0;34m(self, generator)\u001b[0m\n\u001b[1;32m    580\u001b[0m \u001b[0;34m\u001b[0m\u001b[0m\n\u001b[1;32m    581\u001b[0m         \u001b[0;31m# Values produced after Map-Reduce\u001b[0m\u001b[0;34m\u001b[0m\u001b[0;34m\u001b[0m\u001b[0m\n\u001b[0;32m--> 582\u001b[0;31m         \u001b[0mvalues\u001b[0m \u001b[0;34m=\u001b[0m \u001b[0mself\u001b[0m\u001b[0;34m.\u001b[0m\u001b[0mProcessAndMerge\u001b[0m\u001b[0;34m(\u001b[0m\u001b[0mmapper\u001b[0m\u001b[0;34m,\u001b[0m \u001b[0mreducer\u001b[0m\u001b[0;34m)\u001b[0m\u001b[0;34m\u001b[0m\u001b[0m\n\u001b[0m\u001b[1;32m    583\u001b[0m         \u001b[0;31m# List of action nodes in the same order as values\u001b[0m\u001b[0;34m\u001b[0m\u001b[0;34m\u001b[0m\u001b[0m\n\u001b[1;32m    584\u001b[0m         \u001b[0mnodes\u001b[0m \u001b[0;34m=\u001b[0m \u001b[0mgenerator\u001b[0m\u001b[0;34m.\u001b[0m\u001b[0mget_action_nodes\u001b[0m\u001b[0;34m(\u001b[0m\u001b[0;34m)\u001b[0m\u001b[0;34m\u001b[0m\u001b[0m\n",
      "\u001b[0;32m/cvmfs/sft-nightlies.cern.ch/lcg/views/dev3python3/Sun/x86_64-centos7-gcc8-opt/lib/python3.6/site-packages/PyRDF/backend/Spark.py\u001b[0m in \u001b[0;36mProcessAndMerge\u001b[0;34m(self, mapper, reducer)\u001b[0m\n\u001b[1;32m    111\u001b[0m \u001b[0;34m\u001b[0m\u001b[0m\n\u001b[1;32m    112\u001b[0m         \u001b[0;31m# Map-Reduce using Spark\u001b[0m\u001b[0;34m\u001b[0m\u001b[0;34m\u001b[0m\u001b[0m\n\u001b[0;32m--> 113\u001b[0;31m         \u001b[0;32mreturn\u001b[0m \u001b[0mparallel_collection\u001b[0m\u001b[0;34m.\u001b[0m\u001b[0mmap\u001b[0m\u001b[0;34m(\u001b[0m\u001b[0mspark_mapper\u001b[0m\u001b[0;34m)\u001b[0m\u001b[0;34m.\u001b[0m\u001b[0mtreeReduce\u001b[0m\u001b[0;34m(\u001b[0m\u001b[0mreducer\u001b[0m\u001b[0;34m)\u001b[0m\u001b[0;34m\u001b[0m\u001b[0m\n\u001b[0m\u001b[1;32m    114\u001b[0m \u001b[0;34m\u001b[0m\u001b[0m\n\u001b[1;32m    115\u001b[0m     \u001b[0;32mdef\u001b[0m \u001b[0mdistribute_files\u001b[0m\u001b[0;34m(\u001b[0m\u001b[0mself\u001b[0m\u001b[0;34m,\u001b[0m \u001b[0mincludes_list\u001b[0m\u001b[0;34m)\u001b[0m\u001b[0;34m:\u001b[0m\u001b[0;34m\u001b[0m\u001b[0m\n",
      "\u001b[0;32m/cvmfs/sft-nightlies.cern.ch/lcg/views/dev3python3/Sun/x86_64-centos7-gcc8-opt/python/pyspark/rdd.py\u001b[0m in \u001b[0;36mtreeReduce\u001b[0;34m(self, f, depth)\u001b[0m\n\u001b[1;32m    879\u001b[0m                 \u001b[0;32mreturn\u001b[0m \u001b[0mf\u001b[0m\u001b[0;34m(\u001b[0m\u001b[0mx\u001b[0m\u001b[0;34m[\u001b[0m\u001b[0;36m0\u001b[0m\u001b[0;34m]\u001b[0m\u001b[0;34m,\u001b[0m \u001b[0my\u001b[0m\u001b[0;34m[\u001b[0m\u001b[0;36m0\u001b[0m\u001b[0;34m]\u001b[0m\u001b[0;34m)\u001b[0m\u001b[0;34m,\u001b[0m \u001b[0;32mFalse\u001b[0m\u001b[0;34m\u001b[0m\u001b[0m\n\u001b[1;32m    880\u001b[0m \u001b[0;34m\u001b[0m\u001b[0m\n\u001b[0;32m--> 881\u001b[0;31m         \u001b[0mreduced\u001b[0m \u001b[0;34m=\u001b[0m \u001b[0mself\u001b[0m\u001b[0;34m.\u001b[0m\u001b[0mmap\u001b[0m\u001b[0;34m(\u001b[0m\u001b[0;32mlambda\u001b[0m \u001b[0mx\u001b[0m\u001b[0;34m:\u001b[0m \u001b[0;34m(\u001b[0m\u001b[0mx\u001b[0m\u001b[0;34m,\u001b[0m \u001b[0;32mFalse\u001b[0m\u001b[0;34m)\u001b[0m\u001b[0;34m)\u001b[0m\u001b[0;34m.\u001b[0m\u001b[0mtreeAggregate\u001b[0m\u001b[0;34m(\u001b[0m\u001b[0mzeroValue\u001b[0m\u001b[0;34m,\u001b[0m \u001b[0mop\u001b[0m\u001b[0;34m,\u001b[0m \u001b[0mop\u001b[0m\u001b[0;34m,\u001b[0m \u001b[0mdepth\u001b[0m\u001b[0;34m)\u001b[0m\u001b[0;34m\u001b[0m\u001b[0m\n\u001b[0m\u001b[1;32m    882\u001b[0m         \u001b[0;32mif\u001b[0m \u001b[0mreduced\u001b[0m\u001b[0;34m[\u001b[0m\u001b[0;36m1\u001b[0m\u001b[0;34m]\u001b[0m\u001b[0;34m:\u001b[0m\u001b[0;34m\u001b[0m\u001b[0m\n\u001b[1;32m    883\u001b[0m             \u001b[0;32mraise\u001b[0m \u001b[0mValueError\u001b[0m\u001b[0;34m(\u001b[0m\u001b[0;34m\"Cannot reduce empty RDD.\"\u001b[0m\u001b[0;34m)\u001b[0m\u001b[0;34m\u001b[0m\u001b[0m\n",
      "\u001b[0;32m/cvmfs/sft-nightlies.cern.ch/lcg/views/dev3python3/Sun/x86_64-centos7-gcc8-opt/python/pyspark/rdd.py\u001b[0m in \u001b[0;36mtreeAggregate\u001b[0;34m(self, zeroValue, seqOp, combOp, depth)\u001b[0m\n\u001b[1;32m   1003\u001b[0m                 \u001b[0;34m.\u001b[0m\u001b[0mvalues\u001b[0m\u001b[0;34m(\u001b[0m\u001b[0;34m)\u001b[0m\u001b[0;34m\u001b[0m\u001b[0m\n\u001b[1;32m   1004\u001b[0m \u001b[0;34m\u001b[0m\u001b[0m\n\u001b[0;32m-> 1005\u001b[0;31m         \u001b[0;32mreturn\u001b[0m \u001b[0mpartiallyAggregated\u001b[0m\u001b[0;34m.\u001b[0m\u001b[0mreduce\u001b[0m\u001b[0;34m(\u001b[0m\u001b[0mcombOp\u001b[0m\u001b[0;34m)\u001b[0m\u001b[0;34m\u001b[0m\u001b[0m\n\u001b[0m\u001b[1;32m   1006\u001b[0m \u001b[0;34m\u001b[0m\u001b[0m\n\u001b[1;32m   1007\u001b[0m     \u001b[0;32mdef\u001b[0m \u001b[0mmax\u001b[0m\u001b[0;34m(\u001b[0m\u001b[0mself\u001b[0m\u001b[0;34m,\u001b[0m \u001b[0mkey\u001b[0m\u001b[0;34m=\u001b[0m\u001b[0;32mNone\u001b[0m\u001b[0;34m)\u001b[0m\u001b[0;34m:\u001b[0m\u001b[0;34m\u001b[0m\u001b[0m\n",
      "\u001b[0;32m/cvmfs/sft-nightlies.cern.ch/lcg/views/dev3python3/Sun/x86_64-centos7-gcc8-opt/python/pyspark/rdd.py\u001b[0m in \u001b[0;36mreduce\u001b[0;34m(self, f)\u001b[0m\n\u001b[1;32m    842\u001b[0m             \u001b[0;32myield\u001b[0m \u001b[0mreduce\u001b[0m\u001b[0;34m(\u001b[0m\u001b[0mf\u001b[0m\u001b[0;34m,\u001b[0m \u001b[0miterator\u001b[0m\u001b[0;34m,\u001b[0m \u001b[0minitial\u001b[0m\u001b[0;34m)\u001b[0m\u001b[0;34m\u001b[0m\u001b[0m\n\u001b[1;32m    843\u001b[0m \u001b[0;34m\u001b[0m\u001b[0m\n\u001b[0;32m--> 844\u001b[0;31m         \u001b[0mvals\u001b[0m \u001b[0;34m=\u001b[0m \u001b[0mself\u001b[0m\u001b[0;34m.\u001b[0m\u001b[0mmapPartitions\u001b[0m\u001b[0;34m(\u001b[0m\u001b[0mfunc\u001b[0m\u001b[0;34m)\u001b[0m\u001b[0;34m.\u001b[0m\u001b[0mcollect\u001b[0m\u001b[0;34m(\u001b[0m\u001b[0;34m)\u001b[0m\u001b[0;34m\u001b[0m\u001b[0m\n\u001b[0m\u001b[1;32m    845\u001b[0m         \u001b[0;32mif\u001b[0m \u001b[0mvals\u001b[0m\u001b[0;34m:\u001b[0m\u001b[0;34m\u001b[0m\u001b[0m\n\u001b[1;32m    846\u001b[0m             \u001b[0;32mreturn\u001b[0m \u001b[0mreduce\u001b[0m\u001b[0;34m(\u001b[0m\u001b[0mf\u001b[0m\u001b[0;34m,\u001b[0m \u001b[0mvals\u001b[0m\u001b[0;34m)\u001b[0m\u001b[0;34m\u001b[0m\u001b[0m\n",
      "\u001b[0;32m/cvmfs/sft-nightlies.cern.ch/lcg/views/dev3python3/Sun/x86_64-centos7-gcc8-opt/python/pyspark/rdd.py\u001b[0m in \u001b[0;36mcollect\u001b[0;34m(self)\u001b[0m\n\u001b[1;32m    814\u001b[0m         \"\"\"\n\u001b[1;32m    815\u001b[0m         \u001b[0;32mwith\u001b[0m \u001b[0mSCCallSiteSync\u001b[0m\u001b[0;34m(\u001b[0m\u001b[0mself\u001b[0m\u001b[0;34m.\u001b[0m\u001b[0mcontext\u001b[0m\u001b[0;34m)\u001b[0m \u001b[0;32mas\u001b[0m \u001b[0mcss\u001b[0m\u001b[0;34m:\u001b[0m\u001b[0;34m\u001b[0m\u001b[0m\n\u001b[0;32m--> 816\u001b[0;31m             \u001b[0msock_info\u001b[0m \u001b[0;34m=\u001b[0m \u001b[0mself\u001b[0m\u001b[0;34m.\u001b[0m\u001b[0mctx\u001b[0m\u001b[0;34m.\u001b[0m\u001b[0m_jvm\u001b[0m\u001b[0;34m.\u001b[0m\u001b[0mPythonRDD\u001b[0m\u001b[0;34m.\u001b[0m\u001b[0mcollectAndServe\u001b[0m\u001b[0;34m(\u001b[0m\u001b[0mself\u001b[0m\u001b[0;34m.\u001b[0m\u001b[0m_jrdd\u001b[0m\u001b[0;34m.\u001b[0m\u001b[0mrdd\u001b[0m\u001b[0;34m(\u001b[0m\u001b[0;34m)\u001b[0m\u001b[0;34m)\u001b[0m\u001b[0;34m\u001b[0m\u001b[0m\n\u001b[0m\u001b[1;32m    817\u001b[0m         \u001b[0;32mreturn\u001b[0m \u001b[0mlist\u001b[0m\u001b[0;34m(\u001b[0m\u001b[0m_load_from_socket\u001b[0m\u001b[0;34m(\u001b[0m\u001b[0msock_info\u001b[0m\u001b[0;34m,\u001b[0m \u001b[0mself\u001b[0m\u001b[0;34m.\u001b[0m\u001b[0m_jrdd_deserializer\u001b[0m\u001b[0;34m)\u001b[0m\u001b[0;34m)\u001b[0m\u001b[0;34m\u001b[0m\u001b[0m\n\u001b[1;32m    818\u001b[0m \u001b[0;34m\u001b[0m\u001b[0m\n",
      "\u001b[0;32m/cvmfs/sft-nightlies.cern.ch/lcg/views/dev3python3/Sun/x86_64-centos7-gcc8-opt/lib/python3.6/site-packages/py4j/java_gateway.py\u001b[0m in \u001b[0;36m__call__\u001b[0;34m(self, *args)\u001b[0m\n\u001b[1;32m   1253\u001b[0m             \u001b[0mproto\u001b[0m\u001b[0;34m.\u001b[0m\u001b[0mEND_COMMAND_PART\u001b[0m\u001b[0;34m\u001b[0m\u001b[0m\n\u001b[1;32m   1254\u001b[0m \u001b[0;34m\u001b[0m\u001b[0m\n\u001b[0;32m-> 1255\u001b[0;31m         \u001b[0manswer\u001b[0m \u001b[0;34m=\u001b[0m \u001b[0mself\u001b[0m\u001b[0;34m.\u001b[0m\u001b[0mgateway_client\u001b[0m\u001b[0;34m.\u001b[0m\u001b[0msend_command\u001b[0m\u001b[0;34m(\u001b[0m\u001b[0mcommand\u001b[0m\u001b[0;34m)\u001b[0m\u001b[0;34m\u001b[0m\u001b[0m\n\u001b[0m\u001b[1;32m   1256\u001b[0m         return_value = get_return_value(\n\u001b[1;32m   1257\u001b[0m             answer, self.gateway_client, self.target_id, self.name)\n",
      "\u001b[0;32m/cvmfs/sft-nightlies.cern.ch/lcg/views/dev3python3/Sun/x86_64-centos7-gcc8-opt/lib/python3.6/site-packages/py4j/java_gateway.py\u001b[0m in \u001b[0;36msend_command\u001b[0;34m(self, command, retry, binary)\u001b[0m\n\u001b[1;32m    983\u001b[0m         \u001b[0mconnection\u001b[0m \u001b[0;34m=\u001b[0m \u001b[0mself\u001b[0m\u001b[0;34m.\u001b[0m\u001b[0m_get_connection\u001b[0m\u001b[0;34m(\u001b[0m\u001b[0;34m)\u001b[0m\u001b[0;34m\u001b[0m\u001b[0m\n\u001b[1;32m    984\u001b[0m         \u001b[0;32mtry\u001b[0m\u001b[0;34m:\u001b[0m\u001b[0;34m\u001b[0m\u001b[0m\n\u001b[0;32m--> 985\u001b[0;31m             \u001b[0mresponse\u001b[0m \u001b[0;34m=\u001b[0m \u001b[0mconnection\u001b[0m\u001b[0;34m.\u001b[0m\u001b[0msend_command\u001b[0m\u001b[0;34m(\u001b[0m\u001b[0mcommand\u001b[0m\u001b[0;34m)\u001b[0m\u001b[0;34m\u001b[0m\u001b[0m\n\u001b[0m\u001b[1;32m    986\u001b[0m             \u001b[0;32mif\u001b[0m \u001b[0mbinary\u001b[0m\u001b[0;34m:\u001b[0m\u001b[0;34m\u001b[0m\u001b[0m\n\u001b[1;32m    987\u001b[0m                 \u001b[0;32mreturn\u001b[0m \u001b[0mresponse\u001b[0m\u001b[0;34m,\u001b[0m \u001b[0mself\u001b[0m\u001b[0;34m.\u001b[0m\u001b[0m_create_connection_guard\u001b[0m\u001b[0;34m(\u001b[0m\u001b[0mconnection\u001b[0m\u001b[0;34m)\u001b[0m\u001b[0;34m\u001b[0m\u001b[0m\n",
      "\u001b[0;32m/cvmfs/sft-nightlies.cern.ch/lcg/views/dev3python3/Sun/x86_64-centos7-gcc8-opt/lib/python3.6/site-packages/py4j/java_gateway.py\u001b[0m in \u001b[0;36msend_command\u001b[0;34m(self, command)\u001b[0m\n\u001b[1;32m   1150\u001b[0m \u001b[0;34m\u001b[0m\u001b[0m\n\u001b[1;32m   1151\u001b[0m         \u001b[0;32mtry\u001b[0m\u001b[0;34m:\u001b[0m\u001b[0;34m\u001b[0m\u001b[0m\n\u001b[0;32m-> 1152\u001b[0;31m             \u001b[0manswer\u001b[0m \u001b[0;34m=\u001b[0m \u001b[0msmart_decode\u001b[0m\u001b[0;34m(\u001b[0m\u001b[0mself\u001b[0m\u001b[0;34m.\u001b[0m\u001b[0mstream\u001b[0m\u001b[0;34m.\u001b[0m\u001b[0mreadline\u001b[0m\u001b[0;34m(\u001b[0m\u001b[0;34m)\u001b[0m\u001b[0;34m[\u001b[0m\u001b[0;34m:\u001b[0m\u001b[0;34m-\u001b[0m\u001b[0;36m1\u001b[0m\u001b[0;34m]\u001b[0m\u001b[0;34m)\u001b[0m\u001b[0;34m\u001b[0m\u001b[0m\n\u001b[0m\u001b[1;32m   1153\u001b[0m             \u001b[0mlogger\u001b[0m\u001b[0;34m.\u001b[0m\u001b[0mdebug\u001b[0m\u001b[0;34m(\u001b[0m\u001b[0;34m\"Answer received: {0}\"\u001b[0m\u001b[0;34m.\u001b[0m\u001b[0mformat\u001b[0m\u001b[0;34m(\u001b[0m\u001b[0manswer\u001b[0m\u001b[0;34m)\u001b[0m\u001b[0;34m)\u001b[0m\u001b[0;34m\u001b[0m\u001b[0m\n\u001b[1;32m   1154\u001b[0m             \u001b[0;32mif\u001b[0m \u001b[0manswer\u001b[0m\u001b[0;34m.\u001b[0m\u001b[0mstartswith\u001b[0m\u001b[0;34m(\u001b[0m\u001b[0mproto\u001b[0m\u001b[0;34m.\u001b[0m\u001b[0mRETURN_MESSAGE\u001b[0m\u001b[0;34m)\u001b[0m\u001b[0;34m:\u001b[0m\u001b[0;34m\u001b[0m\u001b[0m\n",
      "\u001b[0;32m/cvmfs/sft.cern.ch/lcg/releases/Python/3.6.5-f74f0/x86_64-centos7-gcc8-opt/lib/python3.6/socket.py\u001b[0m in \u001b[0;36mreadinto\u001b[0;34m(self, b)\u001b[0m\n\u001b[1;32m    584\u001b[0m         \u001b[0;32mwhile\u001b[0m \u001b[0;32mTrue\u001b[0m\u001b[0;34m:\u001b[0m\u001b[0;34m\u001b[0m\u001b[0m\n\u001b[1;32m    585\u001b[0m             \u001b[0;32mtry\u001b[0m\u001b[0;34m:\u001b[0m\u001b[0;34m\u001b[0m\u001b[0m\n\u001b[0;32m--> 586\u001b[0;31m                 \u001b[0;32mreturn\u001b[0m \u001b[0mself\u001b[0m\u001b[0;34m.\u001b[0m\u001b[0m_sock\u001b[0m\u001b[0;34m.\u001b[0m\u001b[0mrecv_into\u001b[0m\u001b[0;34m(\u001b[0m\u001b[0mb\u001b[0m\u001b[0;34m)\u001b[0m\u001b[0;34m\u001b[0m\u001b[0m\n\u001b[0m\u001b[1;32m    587\u001b[0m             \u001b[0;32mexcept\u001b[0m \u001b[0mtimeout\u001b[0m\u001b[0;34m:\u001b[0m\u001b[0;34m\u001b[0m\u001b[0m\n\u001b[1;32m    588\u001b[0m                 \u001b[0mself\u001b[0m\u001b[0;34m.\u001b[0m\u001b[0m_timeout_occurred\u001b[0m \u001b[0;34m=\u001b[0m \u001b[0;32mTrue\u001b[0m\u001b[0;34m\u001b[0m\u001b[0m\n",
      "\u001b[0;31mKeyboardInterrupt\u001b[0m: "
     ]
    },
    {
     "name": "stderr",
     "output_type": "stream",
     "text": [
      "Warning in <TClass::Init>: no dictionary for class edm::Hash<1> is available\n",
      "Warning in <TClass::Init>: no dictionary for class edm::ProcessHistory is available\n",
      "Warning in <TClass::Init>: no dictionary for class edm::ProcessConfiguration is available\n",
      "Warning in <TClass::Init>: no dictionary for class edm::ParameterSetBlob is available\n",
      "Warning in <TClass::Init>: no dictionary for class pair<edm::Hash<1>,edm::ParameterSetBlob> is available\n"
     ]
    }
   ],
   "source": [
    "########\n",
    "dfs = []\n",
    "for tree,_ in jobslist:\n",
    "        print(tree)\n",
    "        # Choose the right output columns\n",
    "        if sample == \"DATA\": outputcols = columns_DATA\n",
    "        else: outputcols = columns_MC\n",
    "\n",
    "        df = pd.DataFrame(tree[cut].rdf_node.AsNumpy(columns=outputcols))\n",
    "        dfs.append(df)\n",
    "        "
   ]
  },
  {
   "cell_type": "code",
   "execution_count": null,
   "metadata": {
    "ExecuteTime": {
     "end_time": "2020-01-19T14:17:26.843371Z",
     "start_time": "2020-01-19T14:17:26.745239Z"
    }
   },
   "outputs": [],
   "source": [
    "all_df = dfs[0]\n",
    "for df in dfs[1:]:\n",
    "    all_df = all_df.append(df)  \n",
    "\n",
    "all_df = all_df[ ( (all_df.lep_flavour == 11) & (all_df.lep_pt > 40))  | (all_df.lep_flavour == 13)]\n",
    "\n",
    "all_df.to_pickle(output_basedir + sample + \".pkl\")"
   ]
  },
  {
   "cell_type": "code",
   "execution_count": 9,
   "metadata": {},
   "outputs": [
    {
     "data": {
      "text/plain": [
       "[        lowen_looseVBS_events\n",
       " 0                           1\n",
       " 1                           1\n",
       " 2                           1\n",
       " 3                           1\n",
       " 4                           1\n",
       " 5                           1\n",
       " 6                           1\n",
       " 7                           1\n",
       " 8                           1\n",
       " 9                           1\n",
       " 10                          1\n",
       " 11                          1\n",
       " 12                          1\n",
       " 13                          1\n",
       " 14                          1\n",
       " 15                          1\n",
       " 16                          1\n",
       " 17                          1\n",
       " 18                          1\n",
       " 19                          1\n",
       " 20                          1\n",
       " 21                          1\n",
       " 22                          1\n",
       " 23                          1\n",
       " 24                          1\n",
       " 25                          1\n",
       " 26                          1\n",
       " 27                          1\n",
       " 28                          1\n",
       " 29                          1\n",
       " ...                       ...\n",
       " 644900                      1\n",
       " 644901                      1\n",
       " 644902                      1\n",
       " 644903                      1\n",
       " 644904                      1\n",
       " 644905                      1\n",
       " 644906                      1\n",
       " 644907                      1\n",
       " 644908                      1\n",
       " 644909                      1\n",
       " 644910                      1\n",
       " 644911                      1\n",
       " 644912                      1\n",
       " 644913                      1\n",
       " 644914                      1\n",
       " 644915                      1\n",
       " 644916                      1\n",
       " 644917                      1\n",
       " 644918                      1\n",
       " 644919                      1\n",
       " 644920                      1\n",
       " 644921                      1\n",
       " 644922                      1\n",
       " 644923                      1\n",
       " 644924                      1\n",
       " 644925                      1\n",
       " 644926                      1\n",
       " 644927                      1\n",
       " 644928                      1\n",
       " 644929                      1\n",
       " \n",
       " [644930 rows x 1 columns]]"
      ]
     },
     "execution_count": 9,
     "metadata": {},
     "output_type": "execute_result"
    }
   ],
   "source": [
    "dfs"
   ]
  },
  {
   "cell_type": "code",
   "execution_count": null,
   "metadata": {},
   "outputs": [],
   "source": []
  }
 ],
 "metadata": {
  "kernelspec": {
   "display_name": "Python 3",
   "language": "python",
   "name": "python3"
  },
  "language_info": {
   "codemirror_mode": {
    "name": "ipython",
    "version": 3
   },
   "file_extension": ".py",
   "mimetype": "text/x-python",
   "name": "python",
   "nbconvert_exporter": "python",
   "pygments_lexer": "ipython3",
   "version": "3.6.5"
  },
  "sparkconnect": {
   "bundled_options": [
    "SparkMetrics",
    "EnableS3",
    "ComputeIntensive",
    "LongRunningAnalysis",
    "MemoryIntensive"
   ],
   "list_of_options": [
    {
     "name": "spark.app.name",
     "value": "NanoAOD_PyRDF"
    },
    {
     "name": "spark.dynamicAllocation.enabled",
     "value": "False"
    },
    {
     "name": "spark.executor.instances",
     "value": "100"
    }
   ]
  },
  "toc": {
   "base_numbering": 1,
   "nav_menu": {},
   "number_sections": true,
   "sideBar": true,
   "skip_h1_title": false,
   "title_cell": "Table of Contents",
   "title_sidebar": "Contents",
   "toc_cell": false,
   "toc_position": {},
   "toc_section_display": true,
   "toc_window_display": false
  },
  "varInspector": {
   "cols": {
    "lenName": 16,
    "lenType": 16,
    "lenVar": 40
   },
   "kernels_config": {
    "python": {
     "delete_cmd_postfix": "",
     "delete_cmd_prefix": "del ",
     "library": "var_list.py",
     "varRefreshCmd": "print(var_dic_list())"
    },
    "r": {
     "delete_cmd_postfix": ") ",
     "delete_cmd_prefix": "rm(",
     "library": "var_list.r",
     "varRefreshCmd": "cat(var_dic_list()) "
    }
   },
   "types_to_exclude": [
    "module",
    "function",
    "builtin_function_or_method",
    "instance",
    "_Feature"
   ],
   "window_display": false
  }
 },
 "nbformat": 4,
 "nbformat_minor": 2
}
