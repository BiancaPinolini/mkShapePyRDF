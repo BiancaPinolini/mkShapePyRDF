{
 "cells": [
  {
   "cell_type": "code",
   "execution_count": 2,
   "metadata": {
    "ExecuteTime": {
     "end_time": "2019-09-20T08:36:13.741171Z",
     "start_time": "2019-09-20T08:36:04.710523Z"
    }
   },
   "outputs": [
    {
     "name": "stdout",
     "output_type": "stream",
     "text": [
      "Welcome to JupyROOT 6.19/01\n"
     ]
    }
   ],
   "source": [
    "import ROOT as R\n",
    "R.ROOT.EnableImplicitMT()\n",
    "\n",
    "import os\n",
    "from pprint import pprint\n",
    "import pandas as pd "
   ]
  },
  {
   "cell_type": "code",
   "execution_count": 3,
   "metadata": {
    "ExecuteTime": {
     "end_time": "2019-09-20T08:36:14.682901Z",
     "start_time": "2019-09-20T08:36:14.064474Z"
    }
   },
   "outputs": [],
   "source": [
    "import PyRDF\n",
    "PyRDF.use(\"spark\")\n",
    "PyRDF.include_headers(\"headers.hh\")\n",
    "\n",
    "#R.gInterpreter.ProcessLine(\".L headers.hh\")"
   ]
  },
  {
   "cell_type": "code",
   "execution_count": 4,
   "metadata": {
    "ExecuteTime": {
     "end_time": "2019-09-20T08:36:24.257211Z",
     "start_time": "2019-09-20T08:36:24.216864Z"
    }
   },
   "outputs": [],
   "source": [
    "import latinos_rdf as lrdf"
   ]
  },
  {
   "cell_type": "code",
   "execution_count": 5,
   "metadata": {
    "ExecuteTime": {
     "end_time": "2019-09-20T08:37:26.472788Z",
     "start_time": "2019-09-20T08:37:26.457388Z"
    }
   },
   "outputs": [],
   "source": [
    "samples = [\"DATA\", \"VBS\", \"DY\", \"singleTop\", \"ttbar\",  \"Wjets\", \"VV\", \"FakeQCD\", \"VVV\", \"VBF-V\"]\n",
    "cut = \"lowen_looseVBS\"\n",
    "output_basedir = \"/eos/user/d/dmapelli/public/latino/Full2017_v1_190920/\""
   ]
  },
  {
   "cell_type": "code",
   "execution_count": 6,
   "metadata": {
    "ExecuteTime": {
     "end_time": "2019-09-20T08:37:30.310610Z",
     "start_time": "2019-09-20T08:37:30.299581Z"
    }
   },
   "outputs": [],
   "source": [
    "columns = [ \"weight\", \"XSWeight\", \"TriggerEffWeight_1l\", \"btagSF\",\n",
    "            \"nJets\", \"lep_flavour\", \"lep_pt\",\"lep_eta\", \n",
    "            \"mjj_vbs\", \"mjj_vjet\",\n",
    "            \"vbs_pt_high\", \"vbs_pt_low\", \"vbs_etaprod\",\n",
    "            \"vjet_pt_high\", \"vjet_pt_low\", \n",
    "            \"vbs_eta_high\", \"vbs_eta_low\",\n",
    "            \"vjet_eta_high\", \"vjet_eta_low\",\n",
    "            \"deltaeta_vbs\",  \"deltaphi_vbs\", \n",
    "            \"deltaeta_vjet\", \"deltaphi_vjet\",\n",
    "            \"deltaR_vbs\", \"deltaR_vjet\",\n",
    "            \"deltaR_lep_vbs\", \"deltaR_lep_vjet\",\n",
    "            \"deltaphi_lep_nu\", \"deltaeta_lep_nu\",\n",
    "            \"deltaR_lep_nu\", \n",
    "            \"Rvjets_high\", \"Rvjets_low\",\n",
    "            \"Zvjets_high\", \"Zvjets_low\", \"Zlep\",\n",
    "            \"Asym_vbs\", \"Asym_vjet\", \"Mw_lep\", \"Mtw_lep\", \"w_lep_pt\", \n",
    "            \"Mww\", \"R_ww\", \"R_mw\", \"A_ww\",\n",
    "            \"Centr_vbs\", \"Centr_ww\", \"Lep_proj\", \"Lep_projw\", \"Ht\",\n",
    "            \"recoMET\", \"recoMET_pz\", \n",
    "            \"vbs_index_high\", \"vbs_index_low\", \"vjet_index_high\", \"vjet_index_low\"\n",
    "          ]"
   ]
  },
  {
   "cell_type": "code",
   "execution_count": 7,
   "metadata": {
    "ExecuteTime": {
     "end_time": "2019-09-20T08:37:33.214901Z",
     "start_time": "2019-09-20T08:37:33.202482Z"
    }
   },
   "outputs": [],
   "source": [
    "def sample_to_numpy(sample, basedir):\n",
    "    trees = lrdf.build_dataframe(\"lowenergy\", sample, PyRDF, \"pyrdf\")\n",
    "    #trees = lrdf.build_dataframe(\"mkShapePyRDF/lowenergy\",  R, \"root\")\n",
    "\n",
    "    dfs = []\n",
    "    for tree in trees:\n",
    "        print(tree)\n",
    "        df = pd.DataFrame(tree[cut].rdf_node.AsNumpy(columns=columns))\n",
    "        dfs.append(df)\n",
    "\n",
    "    all_df = dfs[0]\n",
    "    for df in dfs[1:]:\n",
    "        all_df = all_df.append(df)  \n",
    "\n",
    "    all_df = all_df[ ( (all_df.lep_flavour == 11) & (all_df.lep_pt > 40))  | (all_df.lep_flavour == 13)]\n",
    "\n",
    "    all_df.to_pickle(basedir + sample + \".pkl\")"
   ]
  },
  {
   "cell_type": "code",
   "execution_count": 8,
   "metadata": {
    "ExecuteTime": {
     "end_time": "2019-09-20T08:39:29.981936Z",
     "start_time": "2019-09-20T08:37:35.810342Z"
    },
    "scrolled": false
   },
   "outputs": [
    {
     "name": "stdout",
     "output_type": "stream",
     "text": [
      "lep_flavour abs(Lepton_pdgId[0])\n",
      "events 1\n",
      "nJets Sum(CleanJet_pt >= 30)\n",
      "lep_eta abs(Lepton_eta[0])\n",
      "lep_pt Lepton_pt[0]\n",
      "vbs_index_high VBS_jets_maxmjj_massWZ[0]\n",
      "vbs_index_low VBS_jets_maxmjj_massWZ[1]\n",
      "vjet_index_high V_jets_maxmjj_massWZ[0]\n",
      "vjet_index_low V_jets_maxmjj_massWZ[1]\n",
      "lep_flavour abs(Lepton_pdgId[0])\n",
      "events 1\n",
      "nJets Sum(CleanJet_pt >= 30)\n",
      "lep_eta abs(Lepton_eta[0])\n",
      "lep_pt Lepton_pt[0]\n",
      "vbs_index_high VBS_jets_maxmjj_massWZ[0]\n",
      "vbs_index_low VBS_jets_maxmjj_massWZ[1]\n",
      "vjet_index_high V_jets_maxmjj_massWZ[0]\n",
      "vjet_index_low V_jets_maxmjj_massWZ[1]\n",
      "name: supercut\n",
      "parent: None\n",
      "cut: (nLepton==1 && Lepton_pt[0]>30 )             && (  Lepton_isTightElectron_mvaFall17V1Iso_WP90[0] > 0.5                     || Lepton_isTightMuon_cut_Tight_HWWW[0] > 0.5)                 && Alt(Lepton_pt,1, 0)<=10 && Alt(Lepton_isLoose,1, 1)>0.5                && ( Alt(Lepton_isTightElectron_mvaFall17V1Iso_WP90,1,  0) < 0.5                 && Alt(Lepton_isTightMuon_cut_Tight_HWWW,1, 0) < 0.5 )             && VBS_category ==1                && vbs_pt_low >= 30                && vjet_pt_low >= 30               \n",
      "vars: \n",
      "aliases: bVeto,btag0,btag1,btag2,bVetoSF,btag0SF,btag1SF,btag2SF,btagSF,btagSFjesup,btagSFjesdown,btagSFlfup,btagSFlfdown,btagSFhfup,btagSFhfdown,btagSFlfstats1up,btagSFlfstats1down,btagSFlfstats2up,btagSFlfstats2down,btagSFhfstats1up,btagSFhfstats1down,btagSFhfstats2up,btagSFhfstats2down,btagSFcferr1up,btagSFcferr1down,btagSFcferr2up,btagSFcferr2down\n",
      "weight: (METFilter_DATA*(Lepton_isTightElectron_mvaFall17V1Iso_WP90[0]>0.5 || Lepton_isTightMuon_cut_Tight_HWWW[0]>0.5))*(Trigger_sngMu)\n",
      "--------------------------------------------------------------------------------\n",
      "name: lowen_looseVBS\n",
      "parent: supercut\n",
      "cut: mjj_vbs >=300                && deltaeta_vbs >= 2              && PuppiMET_pt > 20             && bVeto             && mjj_vjet > 65 && mjj_vjet < 105             \n",
      "vars: lep_flavour,events,nJets,lep_eta,lep_pt,vbs_index_high,vbs_index_low,vjet_index_high,vjet_index_low\n",
      "aliases: \n",
      "weight: None\n",
      "--------------------------------------------------------------------------------\n"
     ]
    },
    {
     "ename": "Py4JJavaError",
     "evalue": "An error occurred while calling z:org.apache.spark.api.python.PythonRDD.collectAndServe.\n: org.apache.spark.SparkException: Job aborted due to stage failure: Task 93 in stage 0.0 failed 4 times, most recent failure: Lost task 93.3 in stage 0.0 (TID 304, 10.100.71.232, executor 58): org.apache.spark.api.python.PythonException: Traceback (most recent call last):\n  File \"/cvmfs/sft-nightlies.cern.ch/lcg/nightlies/dev3python3/Thu/spark/2.4.3-cern2/x86_64-centos7-gcc8-opt/python/lib/pyspark.zip/pyspark/worker.py\", line 377, in main\n    process()\n  File \"/cvmfs/sft-nightlies.cern.ch/lcg/nightlies/dev3python3/Thu/spark/2.4.3-cern2/x86_64-centos7-gcc8-opt/python/lib/pyspark.zip/pyspark/worker.py\", line 372, in process\n    serializer.dump_stream(func(split_index, iterator), outfile)\n  File \"/cvmfs/sft-nightlies.cern.ch/lcg/views/dev3python3/Thu/x86_64-centos7-gcc8-opt/python/pyspark/rdd.py\", line 2499, in pipeline_func\n    return func(split, prev_func(split, iterator))\n  File \"/cvmfs/sft-nightlies.cern.ch/lcg/views/dev3python3/Thu/x86_64-centos7-gcc8-opt/python/pyspark/rdd.py\", line 2499, in pipeline_func\n    return func(split, prev_func(split, iterator))\n  File \"/cvmfs/sft-nightlies.cern.ch/lcg/views/dev3python3/Thu/x86_64-centos7-gcc8-opt/python/pyspark/rdd.py\", line 352, in func\n    return f(iterator)\n  File \"/cvmfs/sft-nightlies.cern.ch/lcg/views/dev3python3/Thu/x86_64-centos7-gcc8-opt/python/pyspark/rdd.py\", line 1861, in combineLocally\n    merger.mergeValues(iterator)\n  File \"/cvmfs/sft-nightlies.cern.ch/lcg/nightlies/dev3python3/Thu/spark/2.4.3-cern2/x86_64-centos7-gcc8-opt/python/lib/pyspark.zip/pyspark/shuffle.py\", line 238, in mergeValues\n    for k, v in iterator:\n  File \"/cvmfs/sft-nightlies.cern.ch/lcg/views/dev3python3/Thu/x86_64-centos7-gcc8-opt/python/pyspark/rdd.py\", line 997, in mapPartition\n    for obj in iterator:\n  File \"/cvmfs/sft-nightlies.cern.ch/lcg/views/dev3python3/Thu/x86_64-centos7-gcc8-opt/python/pyspark/rdd.py\", line 983, in aggregatePartition\n    for obj in iterator:\n  File \"/cvmfs/sft-nightlies.cern.ch/lcg/nightlies/dev3python3/Thu/spark/2.4.3-cern2/x86_64-centos7-gcc8-opt/python/lib/pyspark.zip/pyspark/util.py\", line 99, in wrapper\n    return f(*args, **kwargs)\n  File \"/cvmfs/sft-nightlies.cern.ch/lcg/views/dev3python3/Thu/x86_64-centos7-gcc8-opt/lib/python3.6/site-packages/PyRDF/backend/Spark.py\", line 104, in spark_mapper\n    return mapper(current_range)\n  File \"/cvmfs/sft-nightlies.cern.ch/lcg/views/dev3python3/Thu/x86_64-centos7-gcc8-opt/lib/python3.6/site-packages/PyRDF/backend/Dist.py\", line 460, in mapper\n    output = callable_function(rdf, rdf_range=current_range)\n  File \"/cvmfs/sft-nightlies.cern.ch/lcg/views/dev3python3/Thu/x86_64-centos7-gcc8-opt/lib/python3.6/site-packages/PyRDF/CallableGenerator.py\", line 133, in mapper\n    prev_vals = mapper(parent_node, node_py=n, rdf_range=rdf_range)\n  File \"/cvmfs/sft-nightlies.cern.ch/lcg/views/dev3python3/Thu/x86_64-centos7-gcc8-opt/lib/python3.6/site-packages/PyRDF/CallableGenerator.py\", line 133, in mapper\n    prev_vals = mapper(parent_node, node_py=n, rdf_range=rdf_range)\n  File \"/cvmfs/sft-nightlies.cern.ch/lcg/views/dev3python3/Thu/x86_64-centos7-gcc8-opt/lib/python3.6/site-packages/PyRDF/CallableGenerator.py\", line 133, in mapper\n    prev_vals = mapper(parent_node, node_py=n, rdf_range=rdf_range)\n  [Previous line repeated 1 more times]\n  File \"/cvmfs/sft-nightlies.cern.ch/lcg/views/dev3python3/Thu/x86_64-centos7-gcc8-opt/lib/python3.6/site-packages/PyRDF/CallableGenerator.py\", line 109, in mapper\n    **operation.kwargs)\nTypeError: can not resolve method template call for 'Define'\n\n\tat org.apache.spark.api.python.BasePythonRunner$ReaderIterator.handlePythonException(PythonRunner.scala:452)\n\tat org.apache.spark.api.python.PythonRunner$$anon$1.read(PythonRunner.scala:588)\n\tat org.apache.spark.api.python.PythonRunner$$anon$1.read(PythonRunner.scala:571)\n\tat org.apache.spark.api.python.BasePythonRunner$ReaderIterator.hasNext(PythonRunner.scala:406)\n\tat org.apache.spark.InterruptibleIterator.hasNext(InterruptibleIterator.scala:37)\n\tat scala.collection.Iterator$GroupedIterator.fill(Iterator.scala:1124)\n\tat scala.collection.Iterator$GroupedIterator.hasNext(Iterator.scala:1130)\n\tat scala.collection.Iterator$$anon$11.hasNext(Iterator.scala:409)\n\tat org.apache.spark.shuffle.sort.BypassMergeSortShuffleWriter.write(BypassMergeSortShuffleWriter.java:125)\n\tat org.apache.spark.scheduler.ShuffleMapTask.runTask(ShuffleMapTask.scala:99)\n\tat org.apache.spark.scheduler.ShuffleMapTask.runTask(ShuffleMapTask.scala:55)\n\tat org.apache.spark.scheduler.Task.run(Task.scala:121)\n\tat org.apache.spark.executor.Executor$TaskRunner$$anonfun$10.apply(Executor.scala:408)\n\tat org.apache.spark.util.Utils$.tryWithSafeFinally(Utils.scala:1360)\n\tat org.apache.spark.executor.Executor$TaskRunner.run(Executor.scala:414)\n\tat java.util.concurrent.ThreadPoolExecutor.runWorker(ThreadPoolExecutor.java:1142)\n\tat java.util.concurrent.ThreadPoolExecutor$Worker.run(ThreadPoolExecutor.java:617)\n\tat java.lang.Thread.run(Thread.java:745)\n\nDriver stacktrace:\n\tat org.apache.spark.scheduler.DAGScheduler.org$apache$spark$scheduler$DAGScheduler$$failJobAndIndependentStages(DAGScheduler.scala:1889)\n\tat org.apache.spark.scheduler.DAGScheduler$$anonfun$abortStage$1.apply(DAGScheduler.scala:1877)\n\tat org.apache.spark.scheduler.DAGScheduler$$anonfun$abortStage$1.apply(DAGScheduler.scala:1876)\n\tat scala.collection.mutable.ResizableArray$class.foreach(ResizableArray.scala:59)\n\tat scala.collection.mutable.ArrayBuffer.foreach(ArrayBuffer.scala:48)\n\tat org.apache.spark.scheduler.DAGScheduler.abortStage(DAGScheduler.scala:1876)\n\tat org.apache.spark.scheduler.DAGScheduler$$anonfun$handleTaskSetFailed$1.apply(DAGScheduler.scala:926)\n\tat org.apache.spark.scheduler.DAGScheduler$$anonfun$handleTaskSetFailed$1.apply(DAGScheduler.scala:926)\n\tat scala.Option.foreach(Option.scala:257)\n\tat org.apache.spark.scheduler.DAGScheduler.handleTaskSetFailed(DAGScheduler.scala:926)\n\tat org.apache.spark.scheduler.DAGSchedulerEventProcessLoop.doOnReceive(DAGScheduler.scala:2110)\n\tat org.apache.spark.scheduler.DAGSchedulerEventProcessLoop.onReceive(DAGScheduler.scala:2059)\n\tat org.apache.spark.scheduler.DAGSchedulerEventProcessLoop.onReceive(DAGScheduler.scala:2048)\n\tat org.apache.spark.util.EventLoop$$anon$1.run(EventLoop.scala:49)\n\tat org.apache.spark.scheduler.DAGScheduler.runJob(DAGScheduler.scala:737)\n\tat org.apache.spark.SparkContext.runJob(SparkContext.scala:2061)\n\tat org.apache.spark.SparkContext.runJob(SparkContext.scala:2082)\n\tat org.apache.spark.SparkContext.runJob(SparkContext.scala:2101)\n\tat org.apache.spark.SparkContext.runJob(SparkContext.scala:2126)\n\tat org.apache.spark.rdd.RDD$$anonfun$collect$1.apply(RDD.scala:945)\n\tat org.apache.spark.rdd.RDDOperationScope$.withScope(RDDOperationScope.scala:151)\n\tat org.apache.spark.rdd.RDDOperationScope$.withScope(RDDOperationScope.scala:112)\n\tat org.apache.spark.rdd.RDD.withScope(RDD.scala:363)\n\tat org.apache.spark.rdd.RDD.collect(RDD.scala:944)\n\tat org.apache.spark.api.python.PythonRDD$.collectAndServe(PythonRDD.scala:166)\n\tat org.apache.spark.api.python.PythonRDD.collectAndServe(PythonRDD.scala)\n\tat sun.reflect.NativeMethodAccessorImpl.invoke0(Native Method)\n\tat sun.reflect.NativeMethodAccessorImpl.invoke(NativeMethodAccessorImpl.java:62)\n\tat sun.reflect.DelegatingMethodAccessorImpl.invoke(DelegatingMethodAccessorImpl.java:43)\n\tat java.lang.reflect.Method.invoke(Method.java:498)\n\tat py4j.reflection.MethodInvoker.invoke(MethodInvoker.java:244)\n\tat py4j.reflection.ReflectionEngine.invoke(ReflectionEngine.java:357)\n\tat py4j.Gateway.invoke(Gateway.java:282)\n\tat py4j.commands.AbstractCommand.invokeMethod(AbstractCommand.java:132)\n\tat py4j.commands.CallCommand.execute(CallCommand.java:79)\n\tat py4j.GatewayConnection.run(GatewayConnection.java:238)\n\tat java.lang.Thread.run(Thread.java:745)\nCaused by: org.apache.spark.api.python.PythonException: Traceback (most recent call last):\n  File \"/cvmfs/sft-nightlies.cern.ch/lcg/nightlies/dev3python3/Thu/spark/2.4.3-cern2/x86_64-centos7-gcc8-opt/python/lib/pyspark.zip/pyspark/worker.py\", line 377, in main\n    process()\n  File \"/cvmfs/sft-nightlies.cern.ch/lcg/nightlies/dev3python3/Thu/spark/2.4.3-cern2/x86_64-centos7-gcc8-opt/python/lib/pyspark.zip/pyspark/worker.py\", line 372, in process\n    serializer.dump_stream(func(split_index, iterator), outfile)\n  File \"/cvmfs/sft-nightlies.cern.ch/lcg/views/dev3python3/Thu/x86_64-centos7-gcc8-opt/python/pyspark/rdd.py\", line 2499, in pipeline_func\n    return func(split, prev_func(split, iterator))\n  File \"/cvmfs/sft-nightlies.cern.ch/lcg/views/dev3python3/Thu/x86_64-centos7-gcc8-opt/python/pyspark/rdd.py\", line 2499, in pipeline_func\n    return func(split, prev_func(split, iterator))\n  File \"/cvmfs/sft-nightlies.cern.ch/lcg/views/dev3python3/Thu/x86_64-centos7-gcc8-opt/python/pyspark/rdd.py\", line 352, in func\n    return f(iterator)\n  File \"/cvmfs/sft-nightlies.cern.ch/lcg/views/dev3python3/Thu/x86_64-centos7-gcc8-opt/python/pyspark/rdd.py\", line 1861, in combineLocally\n    merger.mergeValues(iterator)\n  File \"/cvmfs/sft-nightlies.cern.ch/lcg/nightlies/dev3python3/Thu/spark/2.4.3-cern2/x86_64-centos7-gcc8-opt/python/lib/pyspark.zip/pyspark/shuffle.py\", line 238, in mergeValues\n    for k, v in iterator:\n  File \"/cvmfs/sft-nightlies.cern.ch/lcg/views/dev3python3/Thu/x86_64-centos7-gcc8-opt/python/pyspark/rdd.py\", line 997, in mapPartition\n    for obj in iterator:\n  File \"/cvmfs/sft-nightlies.cern.ch/lcg/views/dev3python3/Thu/x86_64-centos7-gcc8-opt/python/pyspark/rdd.py\", line 983, in aggregatePartition\n    for obj in iterator:\n  File \"/cvmfs/sft-nightlies.cern.ch/lcg/nightlies/dev3python3/Thu/spark/2.4.3-cern2/x86_64-centos7-gcc8-opt/python/lib/pyspark.zip/pyspark/util.py\", line 99, in wrapper\n    return f(*args, **kwargs)\n  File \"/cvmfs/sft-nightlies.cern.ch/lcg/views/dev3python3/Thu/x86_64-centos7-gcc8-opt/lib/python3.6/site-packages/PyRDF/backend/Spark.py\", line 104, in spark_mapper\n    return mapper(current_range)\n  File \"/cvmfs/sft-nightlies.cern.ch/lcg/views/dev3python3/Thu/x86_64-centos7-gcc8-opt/lib/python3.6/site-packages/PyRDF/backend/Dist.py\", line 460, in mapper\n    output = callable_function(rdf, rdf_range=current_range)\n  File \"/cvmfs/sft-nightlies.cern.ch/lcg/views/dev3python3/Thu/x86_64-centos7-gcc8-opt/lib/python3.6/site-packages/PyRDF/CallableGenerator.py\", line 133, in mapper\n    prev_vals = mapper(parent_node, node_py=n, rdf_range=rdf_range)\n  File \"/cvmfs/sft-nightlies.cern.ch/lcg/views/dev3python3/Thu/x86_64-centos7-gcc8-opt/lib/python3.6/site-packages/PyRDF/CallableGenerator.py\", line 133, in mapper\n    prev_vals = mapper(parent_node, node_py=n, rdf_range=rdf_range)\n  File \"/cvmfs/sft-nightlies.cern.ch/lcg/views/dev3python3/Thu/x86_64-centos7-gcc8-opt/lib/python3.6/site-packages/PyRDF/CallableGenerator.py\", line 133, in mapper\n    prev_vals = mapper(parent_node, node_py=n, rdf_range=rdf_range)\n  [Previous line repeated 1 more times]\n  File \"/cvmfs/sft-nightlies.cern.ch/lcg/views/dev3python3/Thu/x86_64-centos7-gcc8-opt/lib/python3.6/site-packages/PyRDF/CallableGenerator.py\", line 109, in mapper\n    **operation.kwargs)\nTypeError: can not resolve method template call for 'Define'\n\n\tat org.apache.spark.api.python.BasePythonRunner$ReaderIterator.handlePythonException(PythonRunner.scala:452)\n\tat org.apache.spark.api.python.PythonRunner$$anon$1.read(PythonRunner.scala:588)\n\tat org.apache.spark.api.python.PythonRunner$$anon$1.read(PythonRunner.scala:571)\n\tat org.apache.spark.api.python.BasePythonRunner$ReaderIterator.hasNext(PythonRunner.scala:406)\n\tat org.apache.spark.InterruptibleIterator.hasNext(InterruptibleIterator.scala:37)\n\tat scala.collection.Iterator$GroupedIterator.fill(Iterator.scala:1124)\n\tat scala.collection.Iterator$GroupedIterator.hasNext(Iterator.scala:1130)\n\tat scala.collection.Iterator$$anon$11.hasNext(Iterator.scala:409)\n\tat org.apache.spark.shuffle.sort.BypassMergeSortShuffleWriter.write(BypassMergeSortShuffleWriter.java:125)\n\tat org.apache.spark.scheduler.ShuffleMapTask.runTask(ShuffleMapTask.scala:99)\n\tat org.apache.spark.scheduler.ShuffleMapTask.runTask(ShuffleMapTask.scala:55)\n\tat org.apache.spark.scheduler.Task.run(Task.scala:121)\n\tat org.apache.spark.executor.Executor$TaskRunner$$anonfun$10.apply(Executor.scala:408)\n\tat org.apache.spark.util.Utils$.tryWithSafeFinally(Utils.scala:1360)\n\tat org.apache.spark.executor.Executor$TaskRunner.run(Executor.scala:414)\n\tat java.util.concurrent.ThreadPoolExecutor.runWorker(ThreadPoolExecutor.java:1142)\n\tat java.util.concurrent.ThreadPoolExecutor$Worker.run(ThreadPoolExecutor.java:617)\n\t... 1 more\n",
     "output_type": "error",
     "traceback": [
      "\u001b[0;31m---------------------------------------------------------------------------\u001b[0m",
      "\u001b[0;31mPy4JJavaError\u001b[0m                             Traceback (most recent call last)",
      "\u001b[0;32m<ipython-input-8-910c801fd488>\u001b[0m in \u001b[0;36m<module>\u001b[0;34m\u001b[0m\n\u001b[1;32m      1\u001b[0m \u001b[0;32mfor\u001b[0m \u001b[0msample\u001b[0m \u001b[0;32min\u001b[0m \u001b[0msamples\u001b[0m\u001b[0;34m:\u001b[0m\u001b[0;34m\u001b[0m\u001b[0m\n\u001b[0;32m----> 2\u001b[0;31m     \u001b[0msample_to_numpy\u001b[0m\u001b[0;34m(\u001b[0m\u001b[0msample\u001b[0m\u001b[0;34m,\u001b[0m \u001b[0moutput_basedir\u001b[0m\u001b[0;34m)\u001b[0m\u001b[0;34m\u001b[0m\u001b[0m\n\u001b[0m",
      "\u001b[0;32m<ipython-input-7-eb8309af4fbb>\u001b[0m in \u001b[0;36msample_to_numpy\u001b[0;34m(sample, basedir)\u001b[0m\n\u001b[1;32m      6\u001b[0m     \u001b[0;32mfor\u001b[0m \u001b[0mtree\u001b[0m \u001b[0;32min\u001b[0m \u001b[0mtrees\u001b[0m\u001b[0;34m:\u001b[0m\u001b[0;34m\u001b[0m\u001b[0m\n\u001b[1;32m      7\u001b[0m         \u001b[0mprint\u001b[0m\u001b[0;34m(\u001b[0m\u001b[0mtree\u001b[0m\u001b[0;34m)\u001b[0m\u001b[0;34m\u001b[0m\u001b[0m\n\u001b[0;32m----> 8\u001b[0;31m         \u001b[0mdf\u001b[0m \u001b[0;34m=\u001b[0m \u001b[0mpd\u001b[0m\u001b[0;34m.\u001b[0m\u001b[0mDataFrame\u001b[0m\u001b[0;34m(\u001b[0m\u001b[0mtree\u001b[0m\u001b[0;34m[\u001b[0m\u001b[0mcut\u001b[0m\u001b[0;34m]\u001b[0m\u001b[0;34m.\u001b[0m\u001b[0mrdf_node\u001b[0m\u001b[0;34m.\u001b[0m\u001b[0mAsNumpy\u001b[0m\u001b[0;34m(\u001b[0m\u001b[0mcolumns\u001b[0m\u001b[0;34m=\u001b[0m\u001b[0mcolumns\u001b[0m\u001b[0;34m)\u001b[0m\u001b[0;34m)\u001b[0m\u001b[0;34m\u001b[0m\u001b[0m\n\u001b[0m\u001b[1;32m      9\u001b[0m         \u001b[0mdfs\u001b[0m\u001b[0;34m.\u001b[0m\u001b[0mappend\u001b[0m\u001b[0;34m(\u001b[0m\u001b[0mdf\u001b[0m\u001b[0;34m)\u001b[0m\u001b[0;34m\u001b[0m\u001b[0m\n\u001b[1;32m     10\u001b[0m \u001b[0;34m\u001b[0m\u001b[0m\n",
      "\u001b[0;32m/cvmfs/sft-nightlies.cern.ch/lcg/views/dev3python3/Thu/x86_64-centos7-gcc8-opt/lib/python3.6/site-packages/PyRDF/Proxy.py\u001b[0m in \u001b[0;36m_create_new_op\u001b[0;34m(self, *args, **kwargs)\u001b[0m\n\u001b[1;32m    181\u001b[0m             \u001b[0;32mfrom\u001b[0m \u001b[0mPyRDF\u001b[0m \u001b[0;32mimport\u001b[0m \u001b[0mcurrent_backend\u001b[0m\u001b[0;34m\u001b[0m\u001b[0m\n\u001b[1;32m    182\u001b[0m             \u001b[0mgenerator\u001b[0m \u001b[0;34m=\u001b[0m \u001b[0mCallableGenerator\u001b[0m\u001b[0;34m(\u001b[0m\u001b[0mself\u001b[0m\u001b[0;34m.\u001b[0m\u001b[0mproxied_node\u001b[0m\u001b[0;34m.\u001b[0m\u001b[0mget_head\u001b[0m\u001b[0;34m(\u001b[0m\u001b[0;34m)\u001b[0m\u001b[0;34m)\u001b[0m\u001b[0;34m\u001b[0m\u001b[0m\n\u001b[0;32m--> 183\u001b[0;31m             \u001b[0mcurrent_backend\u001b[0m\u001b[0;34m.\u001b[0m\u001b[0mexecute\u001b[0m\u001b[0;34m(\u001b[0m\u001b[0mgenerator\u001b[0m\u001b[0;34m)\u001b[0m\u001b[0;34m\u001b[0m\u001b[0m\n\u001b[0m\u001b[1;32m    184\u001b[0m             \u001b[0;32mreturn\u001b[0m \u001b[0mnewNode\u001b[0m\u001b[0;34m.\u001b[0m\u001b[0mvalue\u001b[0m\u001b[0;34m\u001b[0m\u001b[0m\n\u001b[1;32m    185\u001b[0m         \u001b[0;32melse\u001b[0m\u001b[0;34m:\u001b[0m\u001b[0;34m\u001b[0m\u001b[0m\n",
      "\u001b[0;32m/cvmfs/sft-nightlies.cern.ch/lcg/views/dev3python3/Thu/x86_64-centos7-gcc8-opt/lib/python3.6/site-packages/PyRDF/backend/Dist.py\u001b[0m in \u001b[0;36mexecute\u001b[0;34m(self, generator)\u001b[0m\n\u001b[1;32m    580\u001b[0m \u001b[0;34m\u001b[0m\u001b[0m\n\u001b[1;32m    581\u001b[0m         \u001b[0;31m# Values produced after Map-Reduce\u001b[0m\u001b[0;34m\u001b[0m\u001b[0;34m\u001b[0m\u001b[0m\n\u001b[0;32m--> 582\u001b[0;31m         \u001b[0mvalues\u001b[0m \u001b[0;34m=\u001b[0m \u001b[0mself\u001b[0m\u001b[0;34m.\u001b[0m\u001b[0mProcessAndMerge\u001b[0m\u001b[0;34m(\u001b[0m\u001b[0mmapper\u001b[0m\u001b[0;34m,\u001b[0m \u001b[0mreducer\u001b[0m\u001b[0;34m)\u001b[0m\u001b[0;34m\u001b[0m\u001b[0m\n\u001b[0m\u001b[1;32m    583\u001b[0m         \u001b[0;31m# List of action nodes in the same order as values\u001b[0m\u001b[0;34m\u001b[0m\u001b[0;34m\u001b[0m\u001b[0m\n\u001b[1;32m    584\u001b[0m         \u001b[0mnodes\u001b[0m \u001b[0;34m=\u001b[0m \u001b[0mgenerator\u001b[0m\u001b[0;34m.\u001b[0m\u001b[0mget_action_nodes\u001b[0m\u001b[0;34m(\u001b[0m\u001b[0;34m)\u001b[0m\u001b[0;34m\u001b[0m\u001b[0m\n",
      "\u001b[0;32m/cvmfs/sft-nightlies.cern.ch/lcg/views/dev3python3/Thu/x86_64-centos7-gcc8-opt/lib/python3.6/site-packages/PyRDF/backend/Spark.py\u001b[0m in \u001b[0;36mProcessAndMerge\u001b[0;34m(self, mapper, reducer)\u001b[0m\n\u001b[1;32m    111\u001b[0m \u001b[0;34m\u001b[0m\u001b[0m\n\u001b[1;32m    112\u001b[0m         \u001b[0;31m# Map-Reduce using Spark\u001b[0m\u001b[0;34m\u001b[0m\u001b[0;34m\u001b[0m\u001b[0m\n\u001b[0;32m--> 113\u001b[0;31m         \u001b[0;32mreturn\u001b[0m \u001b[0mparallel_collection\u001b[0m\u001b[0;34m.\u001b[0m\u001b[0mmap\u001b[0m\u001b[0;34m(\u001b[0m\u001b[0mspark_mapper\u001b[0m\u001b[0;34m)\u001b[0m\u001b[0;34m.\u001b[0m\u001b[0mtreeReduce\u001b[0m\u001b[0;34m(\u001b[0m\u001b[0mreducer\u001b[0m\u001b[0;34m)\u001b[0m\u001b[0;34m\u001b[0m\u001b[0m\n\u001b[0m\u001b[1;32m    114\u001b[0m \u001b[0;34m\u001b[0m\u001b[0m\n\u001b[1;32m    115\u001b[0m     \u001b[0;32mdef\u001b[0m \u001b[0mdistribute_files\u001b[0m\u001b[0;34m(\u001b[0m\u001b[0mself\u001b[0m\u001b[0;34m,\u001b[0m \u001b[0mincludes_list\u001b[0m\u001b[0;34m)\u001b[0m\u001b[0;34m:\u001b[0m\u001b[0;34m\u001b[0m\u001b[0m\n",
      "\u001b[0;32m/cvmfs/sft-nightlies.cern.ch/lcg/views/dev3python3/Thu/x86_64-centos7-gcc8-opt/python/pyspark/rdd.py\u001b[0m in \u001b[0;36mtreeReduce\u001b[0;34m(self, f, depth)\u001b[0m\n\u001b[1;32m    879\u001b[0m                 \u001b[0;32mreturn\u001b[0m \u001b[0mf\u001b[0m\u001b[0;34m(\u001b[0m\u001b[0mx\u001b[0m\u001b[0;34m[\u001b[0m\u001b[0;36m0\u001b[0m\u001b[0;34m]\u001b[0m\u001b[0;34m,\u001b[0m \u001b[0my\u001b[0m\u001b[0;34m[\u001b[0m\u001b[0;36m0\u001b[0m\u001b[0;34m]\u001b[0m\u001b[0;34m)\u001b[0m\u001b[0;34m,\u001b[0m \u001b[0;32mFalse\u001b[0m\u001b[0;34m\u001b[0m\u001b[0m\n\u001b[1;32m    880\u001b[0m \u001b[0;34m\u001b[0m\u001b[0m\n\u001b[0;32m--> 881\u001b[0;31m         \u001b[0mreduced\u001b[0m \u001b[0;34m=\u001b[0m \u001b[0mself\u001b[0m\u001b[0;34m.\u001b[0m\u001b[0mmap\u001b[0m\u001b[0;34m(\u001b[0m\u001b[0;32mlambda\u001b[0m \u001b[0mx\u001b[0m\u001b[0;34m:\u001b[0m \u001b[0;34m(\u001b[0m\u001b[0mx\u001b[0m\u001b[0;34m,\u001b[0m \u001b[0;32mFalse\u001b[0m\u001b[0;34m)\u001b[0m\u001b[0;34m)\u001b[0m\u001b[0;34m.\u001b[0m\u001b[0mtreeAggregate\u001b[0m\u001b[0;34m(\u001b[0m\u001b[0mzeroValue\u001b[0m\u001b[0;34m,\u001b[0m \u001b[0mop\u001b[0m\u001b[0;34m,\u001b[0m \u001b[0mop\u001b[0m\u001b[0;34m,\u001b[0m \u001b[0mdepth\u001b[0m\u001b[0;34m)\u001b[0m\u001b[0;34m\u001b[0m\u001b[0m\n\u001b[0m\u001b[1;32m    882\u001b[0m         \u001b[0;32mif\u001b[0m \u001b[0mreduced\u001b[0m\u001b[0;34m[\u001b[0m\u001b[0;36m1\u001b[0m\u001b[0;34m]\u001b[0m\u001b[0;34m:\u001b[0m\u001b[0;34m\u001b[0m\u001b[0m\n\u001b[1;32m    883\u001b[0m             \u001b[0;32mraise\u001b[0m \u001b[0mValueError\u001b[0m\u001b[0;34m(\u001b[0m\u001b[0;34m\"Cannot reduce empty RDD.\"\u001b[0m\u001b[0;34m)\u001b[0m\u001b[0;34m\u001b[0m\u001b[0m\n",
      "\u001b[0;32m/cvmfs/sft-nightlies.cern.ch/lcg/views/dev3python3/Thu/x86_64-centos7-gcc8-opt/python/pyspark/rdd.py\u001b[0m in \u001b[0;36mtreeAggregate\u001b[0;34m(self, zeroValue, seqOp, combOp, depth)\u001b[0m\n\u001b[1;32m   1003\u001b[0m                 \u001b[0;34m.\u001b[0m\u001b[0mvalues\u001b[0m\u001b[0;34m(\u001b[0m\u001b[0;34m)\u001b[0m\u001b[0;34m\u001b[0m\u001b[0m\n\u001b[1;32m   1004\u001b[0m \u001b[0;34m\u001b[0m\u001b[0m\n\u001b[0;32m-> 1005\u001b[0;31m         \u001b[0;32mreturn\u001b[0m \u001b[0mpartiallyAggregated\u001b[0m\u001b[0;34m.\u001b[0m\u001b[0mreduce\u001b[0m\u001b[0;34m(\u001b[0m\u001b[0mcombOp\u001b[0m\u001b[0;34m)\u001b[0m\u001b[0;34m\u001b[0m\u001b[0m\n\u001b[0m\u001b[1;32m   1006\u001b[0m \u001b[0;34m\u001b[0m\u001b[0m\n\u001b[1;32m   1007\u001b[0m     \u001b[0;32mdef\u001b[0m \u001b[0mmax\u001b[0m\u001b[0;34m(\u001b[0m\u001b[0mself\u001b[0m\u001b[0;34m,\u001b[0m \u001b[0mkey\u001b[0m\u001b[0;34m=\u001b[0m\u001b[0;32mNone\u001b[0m\u001b[0;34m)\u001b[0m\u001b[0;34m:\u001b[0m\u001b[0;34m\u001b[0m\u001b[0m\n",
      "\u001b[0;32m/cvmfs/sft-nightlies.cern.ch/lcg/views/dev3python3/Thu/x86_64-centos7-gcc8-opt/python/pyspark/rdd.py\u001b[0m in \u001b[0;36mreduce\u001b[0;34m(self, f)\u001b[0m\n\u001b[1;32m    842\u001b[0m             \u001b[0;32myield\u001b[0m \u001b[0mreduce\u001b[0m\u001b[0;34m(\u001b[0m\u001b[0mf\u001b[0m\u001b[0;34m,\u001b[0m \u001b[0miterator\u001b[0m\u001b[0;34m,\u001b[0m \u001b[0minitial\u001b[0m\u001b[0;34m)\u001b[0m\u001b[0;34m\u001b[0m\u001b[0m\n\u001b[1;32m    843\u001b[0m \u001b[0;34m\u001b[0m\u001b[0m\n\u001b[0;32m--> 844\u001b[0;31m         \u001b[0mvals\u001b[0m \u001b[0;34m=\u001b[0m \u001b[0mself\u001b[0m\u001b[0;34m.\u001b[0m\u001b[0mmapPartitions\u001b[0m\u001b[0;34m(\u001b[0m\u001b[0mfunc\u001b[0m\u001b[0;34m)\u001b[0m\u001b[0;34m.\u001b[0m\u001b[0mcollect\u001b[0m\u001b[0;34m(\u001b[0m\u001b[0;34m)\u001b[0m\u001b[0;34m\u001b[0m\u001b[0m\n\u001b[0m\u001b[1;32m    845\u001b[0m         \u001b[0;32mif\u001b[0m \u001b[0mvals\u001b[0m\u001b[0;34m:\u001b[0m\u001b[0;34m\u001b[0m\u001b[0m\n\u001b[1;32m    846\u001b[0m             \u001b[0;32mreturn\u001b[0m \u001b[0mreduce\u001b[0m\u001b[0;34m(\u001b[0m\u001b[0mf\u001b[0m\u001b[0;34m,\u001b[0m \u001b[0mvals\u001b[0m\u001b[0;34m)\u001b[0m\u001b[0;34m\u001b[0m\u001b[0m\n",
      "\u001b[0;32m/cvmfs/sft-nightlies.cern.ch/lcg/views/dev3python3/Thu/x86_64-centos7-gcc8-opt/python/pyspark/rdd.py\u001b[0m in \u001b[0;36mcollect\u001b[0;34m(self)\u001b[0m\n\u001b[1;32m    814\u001b[0m         \"\"\"\n\u001b[1;32m    815\u001b[0m         \u001b[0;32mwith\u001b[0m \u001b[0mSCCallSiteSync\u001b[0m\u001b[0;34m(\u001b[0m\u001b[0mself\u001b[0m\u001b[0;34m.\u001b[0m\u001b[0mcontext\u001b[0m\u001b[0;34m)\u001b[0m \u001b[0;32mas\u001b[0m \u001b[0mcss\u001b[0m\u001b[0;34m:\u001b[0m\u001b[0;34m\u001b[0m\u001b[0m\n\u001b[0;32m--> 816\u001b[0;31m             \u001b[0msock_info\u001b[0m \u001b[0;34m=\u001b[0m \u001b[0mself\u001b[0m\u001b[0;34m.\u001b[0m\u001b[0mctx\u001b[0m\u001b[0;34m.\u001b[0m\u001b[0m_jvm\u001b[0m\u001b[0;34m.\u001b[0m\u001b[0mPythonRDD\u001b[0m\u001b[0;34m.\u001b[0m\u001b[0mcollectAndServe\u001b[0m\u001b[0;34m(\u001b[0m\u001b[0mself\u001b[0m\u001b[0;34m.\u001b[0m\u001b[0m_jrdd\u001b[0m\u001b[0;34m.\u001b[0m\u001b[0mrdd\u001b[0m\u001b[0;34m(\u001b[0m\u001b[0;34m)\u001b[0m\u001b[0;34m)\u001b[0m\u001b[0;34m\u001b[0m\u001b[0m\n\u001b[0m\u001b[1;32m    817\u001b[0m         \u001b[0;32mreturn\u001b[0m \u001b[0mlist\u001b[0m\u001b[0;34m(\u001b[0m\u001b[0m_load_from_socket\u001b[0m\u001b[0;34m(\u001b[0m\u001b[0msock_info\u001b[0m\u001b[0;34m,\u001b[0m \u001b[0mself\u001b[0m\u001b[0;34m.\u001b[0m\u001b[0m_jrdd_deserializer\u001b[0m\u001b[0;34m)\u001b[0m\u001b[0;34m)\u001b[0m\u001b[0;34m\u001b[0m\u001b[0m\n\u001b[1;32m    818\u001b[0m \u001b[0;34m\u001b[0m\u001b[0m\n",
      "\u001b[0;32m/cvmfs/sft-nightlies.cern.ch/lcg/views/dev3python3/Thu/x86_64-centos7-gcc8-opt/lib/python3.6/site-packages/py4j/java_gateway.py\u001b[0m in \u001b[0;36m__call__\u001b[0;34m(self, *args)\u001b[0m\n\u001b[1;32m   1255\u001b[0m         \u001b[0manswer\u001b[0m \u001b[0;34m=\u001b[0m \u001b[0mself\u001b[0m\u001b[0;34m.\u001b[0m\u001b[0mgateway_client\u001b[0m\u001b[0;34m.\u001b[0m\u001b[0msend_command\u001b[0m\u001b[0;34m(\u001b[0m\u001b[0mcommand\u001b[0m\u001b[0;34m)\u001b[0m\u001b[0;34m\u001b[0m\u001b[0m\n\u001b[1;32m   1256\u001b[0m         return_value = get_return_value(\n\u001b[0;32m-> 1257\u001b[0;31m             answer, self.gateway_client, self.target_id, self.name)\n\u001b[0m\u001b[1;32m   1258\u001b[0m \u001b[0;34m\u001b[0m\u001b[0m\n\u001b[1;32m   1259\u001b[0m         \u001b[0;32mfor\u001b[0m \u001b[0mtemp_arg\u001b[0m \u001b[0;32min\u001b[0m \u001b[0mtemp_args\u001b[0m\u001b[0;34m:\u001b[0m\u001b[0;34m\u001b[0m\u001b[0m\n",
      "\u001b[0;32m/cvmfs/sft-nightlies.cern.ch/lcg/views/dev3python3/Thu/x86_64-centos7-gcc8-opt/python/pyspark/sql/utils.py\u001b[0m in \u001b[0;36mdeco\u001b[0;34m(*a, **kw)\u001b[0m\n\u001b[1;32m     61\u001b[0m     \u001b[0;32mdef\u001b[0m \u001b[0mdeco\u001b[0m\u001b[0;34m(\u001b[0m\u001b[0;34m*\u001b[0m\u001b[0ma\u001b[0m\u001b[0;34m,\u001b[0m \u001b[0;34m**\u001b[0m\u001b[0mkw\u001b[0m\u001b[0;34m)\u001b[0m\u001b[0;34m:\u001b[0m\u001b[0;34m\u001b[0m\u001b[0m\n\u001b[1;32m     62\u001b[0m         \u001b[0;32mtry\u001b[0m\u001b[0;34m:\u001b[0m\u001b[0;34m\u001b[0m\u001b[0m\n\u001b[0;32m---> 63\u001b[0;31m             \u001b[0;32mreturn\u001b[0m \u001b[0mf\u001b[0m\u001b[0;34m(\u001b[0m\u001b[0;34m*\u001b[0m\u001b[0ma\u001b[0m\u001b[0;34m,\u001b[0m \u001b[0;34m**\u001b[0m\u001b[0mkw\u001b[0m\u001b[0;34m)\u001b[0m\u001b[0;34m\u001b[0m\u001b[0m\n\u001b[0m\u001b[1;32m     64\u001b[0m         \u001b[0;32mexcept\u001b[0m \u001b[0mpy4j\u001b[0m\u001b[0;34m.\u001b[0m\u001b[0mprotocol\u001b[0m\u001b[0;34m.\u001b[0m\u001b[0mPy4JJavaError\u001b[0m \u001b[0;32mas\u001b[0m \u001b[0me\u001b[0m\u001b[0;34m:\u001b[0m\u001b[0;34m\u001b[0m\u001b[0m\n\u001b[1;32m     65\u001b[0m             \u001b[0ms\u001b[0m \u001b[0;34m=\u001b[0m \u001b[0me\u001b[0m\u001b[0;34m.\u001b[0m\u001b[0mjava_exception\u001b[0m\u001b[0;34m.\u001b[0m\u001b[0mtoString\u001b[0m\u001b[0;34m(\u001b[0m\u001b[0;34m)\u001b[0m\u001b[0;34m\u001b[0m\u001b[0m\n",
      "\u001b[0;32m/cvmfs/sft-nightlies.cern.ch/lcg/views/dev3python3/Thu/x86_64-centos7-gcc8-opt/lib/python3.6/site-packages/py4j/protocol.py\u001b[0m in \u001b[0;36mget_return_value\u001b[0;34m(answer, gateway_client, target_id, name)\u001b[0m\n\u001b[1;32m    326\u001b[0m                 raise Py4JJavaError(\n\u001b[1;32m    327\u001b[0m                     \u001b[0;34m\"An error occurred while calling {0}{1}{2}.\\n\"\u001b[0m\u001b[0;34m.\u001b[0m\u001b[0;34m\u001b[0m\u001b[0m\n\u001b[0;32m--> 328\u001b[0;31m                     format(target_id, \".\", name), value)\n\u001b[0m\u001b[1;32m    329\u001b[0m             \u001b[0;32melse\u001b[0m\u001b[0;34m:\u001b[0m\u001b[0;34m\u001b[0m\u001b[0m\n\u001b[1;32m    330\u001b[0m                 raise Py4JError(\n",
      "\u001b[0;31mPy4JJavaError\u001b[0m: An error occurred while calling z:org.apache.spark.api.python.PythonRDD.collectAndServe.\n: org.apache.spark.SparkException: Job aborted due to stage failure: Task 93 in stage 0.0 failed 4 times, most recent failure: Lost task 93.3 in stage 0.0 (TID 304, 10.100.71.232, executor 58): org.apache.spark.api.python.PythonException: Traceback (most recent call last):\n  File \"/cvmfs/sft-nightlies.cern.ch/lcg/nightlies/dev3python3/Thu/spark/2.4.3-cern2/x86_64-centos7-gcc8-opt/python/lib/pyspark.zip/pyspark/worker.py\", line 377, in main\n    process()\n  File \"/cvmfs/sft-nightlies.cern.ch/lcg/nightlies/dev3python3/Thu/spark/2.4.3-cern2/x86_64-centos7-gcc8-opt/python/lib/pyspark.zip/pyspark/worker.py\", line 372, in process\n    serializer.dump_stream(func(split_index, iterator), outfile)\n  File \"/cvmfs/sft-nightlies.cern.ch/lcg/views/dev3python3/Thu/x86_64-centos7-gcc8-opt/python/pyspark/rdd.py\", line 2499, in pipeline_func\n    return func(split, prev_func(split, iterator))\n  File \"/cvmfs/sft-nightlies.cern.ch/lcg/views/dev3python3/Thu/x86_64-centos7-gcc8-opt/python/pyspark/rdd.py\", line 2499, in pipeline_func\n    return func(split, prev_func(split, iterator))\n  File \"/cvmfs/sft-nightlies.cern.ch/lcg/views/dev3python3/Thu/x86_64-centos7-gcc8-opt/python/pyspark/rdd.py\", line 352, in func\n    return f(iterator)\n  File \"/cvmfs/sft-nightlies.cern.ch/lcg/views/dev3python3/Thu/x86_64-centos7-gcc8-opt/python/pyspark/rdd.py\", line 1861, in combineLocally\n    merger.mergeValues(iterator)\n  File \"/cvmfs/sft-nightlies.cern.ch/lcg/nightlies/dev3python3/Thu/spark/2.4.3-cern2/x86_64-centos7-gcc8-opt/python/lib/pyspark.zip/pyspark/shuffle.py\", line 238, in mergeValues\n    for k, v in iterator:\n  File \"/cvmfs/sft-nightlies.cern.ch/lcg/views/dev3python3/Thu/x86_64-centos7-gcc8-opt/python/pyspark/rdd.py\", line 997, in mapPartition\n    for obj in iterator:\n  File \"/cvmfs/sft-nightlies.cern.ch/lcg/views/dev3python3/Thu/x86_64-centos7-gcc8-opt/python/pyspark/rdd.py\", line 983, in aggregatePartition\n    for obj in iterator:\n  File \"/cvmfs/sft-nightlies.cern.ch/lcg/nightlies/dev3python3/Thu/spark/2.4.3-cern2/x86_64-centos7-gcc8-opt/python/lib/pyspark.zip/pyspark/util.py\", line 99, in wrapper\n    return f(*args, **kwargs)\n  File \"/cvmfs/sft-nightlies.cern.ch/lcg/views/dev3python3/Thu/x86_64-centos7-gcc8-opt/lib/python3.6/site-packages/PyRDF/backend/Spark.py\", line 104, in spark_mapper\n    return mapper(current_range)\n  File \"/cvmfs/sft-nightlies.cern.ch/lcg/views/dev3python3/Thu/x86_64-centos7-gcc8-opt/lib/python3.6/site-packages/PyRDF/backend/Dist.py\", line 460, in mapper\n    output = callable_function(rdf, rdf_range=current_range)\n  File \"/cvmfs/sft-nightlies.cern.ch/lcg/views/dev3python3/Thu/x86_64-centos7-gcc8-opt/lib/python3.6/site-packages/PyRDF/CallableGenerator.py\", line 133, in mapper\n    prev_vals = mapper(parent_node, node_py=n, rdf_range=rdf_range)\n  File \"/cvmfs/sft-nightlies.cern.ch/lcg/views/dev3python3/Thu/x86_64-centos7-gcc8-opt/lib/python3.6/site-packages/PyRDF/CallableGenerator.py\", line 133, in mapper\n    prev_vals = mapper(parent_node, node_py=n, rdf_range=rdf_range)\n  File \"/cvmfs/sft-nightlies.cern.ch/lcg/views/dev3python3/Thu/x86_64-centos7-gcc8-opt/lib/python3.6/site-packages/PyRDF/CallableGenerator.py\", line 133, in mapper\n    prev_vals = mapper(parent_node, node_py=n, rdf_range=rdf_range)\n  [Previous line repeated 1 more times]\n  File \"/cvmfs/sft-nightlies.cern.ch/lcg/views/dev3python3/Thu/x86_64-centos7-gcc8-opt/lib/python3.6/site-packages/PyRDF/CallableGenerator.py\", line 109, in mapper\n    **operation.kwargs)\nTypeError: can not resolve method template call for 'Define'\n\n\tat org.apache.spark.api.python.BasePythonRunner$ReaderIterator.handlePythonException(PythonRunner.scala:452)\n\tat org.apache.spark.api.python.PythonRunner$$anon$1.read(PythonRunner.scala:588)\n\tat org.apache.spark.api.python.PythonRunner$$anon$1.read(PythonRunner.scala:571)\n\tat org.apache.spark.api.python.BasePythonRunner$ReaderIterator.hasNext(PythonRunner.scala:406)\n\tat org.apache.spark.InterruptibleIterator.hasNext(InterruptibleIterator.scala:37)\n\tat scala.collection.Iterator$GroupedIterator.fill(Iterator.scala:1124)\n\tat scala.collection.Iterator$GroupedIterator.hasNext(Iterator.scala:1130)\n\tat scala.collection.Iterator$$anon$11.hasNext(Iterator.scala:409)\n\tat org.apache.spark.shuffle.sort.BypassMergeSortShuffleWriter.write(BypassMergeSortShuffleWriter.java:125)\n\tat org.apache.spark.scheduler.ShuffleMapTask.runTask(ShuffleMapTask.scala:99)\n\tat org.apache.spark.scheduler.ShuffleMapTask.runTask(ShuffleMapTask.scala:55)\n\tat org.apache.spark.scheduler.Task.run(Task.scala:121)\n\tat org.apache.spark.executor.Executor$TaskRunner$$anonfun$10.apply(Executor.scala:408)\n\tat org.apache.spark.util.Utils$.tryWithSafeFinally(Utils.scala:1360)\n\tat org.apache.spark.executor.Executor$TaskRunner.run(Executor.scala:414)\n\tat java.util.concurrent.ThreadPoolExecutor.runWorker(ThreadPoolExecutor.java:1142)\n\tat java.util.concurrent.ThreadPoolExecutor$Worker.run(ThreadPoolExecutor.java:617)\n\tat java.lang.Thread.run(Thread.java:745)\n\nDriver stacktrace:\n\tat org.apache.spark.scheduler.DAGScheduler.org$apache$spark$scheduler$DAGScheduler$$failJobAndIndependentStages(DAGScheduler.scala:1889)\n\tat org.apache.spark.scheduler.DAGScheduler$$anonfun$abortStage$1.apply(DAGScheduler.scala:1877)\n\tat org.apache.spark.scheduler.DAGScheduler$$anonfun$abortStage$1.apply(DAGScheduler.scala:1876)\n\tat scala.collection.mutable.ResizableArray$class.foreach(ResizableArray.scala:59)\n\tat scala.collection.mutable.ArrayBuffer.foreach(ArrayBuffer.scala:48)\n\tat org.apache.spark.scheduler.DAGScheduler.abortStage(DAGScheduler.scala:1876)\n\tat org.apache.spark.scheduler.DAGScheduler$$anonfun$handleTaskSetFailed$1.apply(DAGScheduler.scala:926)\n\tat org.apache.spark.scheduler.DAGScheduler$$anonfun$handleTaskSetFailed$1.apply(DAGScheduler.scala:926)\n\tat scala.Option.foreach(Option.scala:257)\n\tat org.apache.spark.scheduler.DAGScheduler.handleTaskSetFailed(DAGScheduler.scala:926)\n\tat org.apache.spark.scheduler.DAGSchedulerEventProcessLoop.doOnReceive(DAGScheduler.scala:2110)\n\tat org.apache.spark.scheduler.DAGSchedulerEventProcessLoop.onReceive(DAGScheduler.scala:2059)\n\tat org.apache.spark.scheduler.DAGSchedulerEventProcessLoop.onReceive(DAGScheduler.scala:2048)\n\tat org.apache.spark.util.EventLoop$$anon$1.run(EventLoop.scala:49)\n\tat org.apache.spark.scheduler.DAGScheduler.runJob(DAGScheduler.scala:737)\n\tat org.apache.spark.SparkContext.runJob(SparkContext.scala:2061)\n\tat org.apache.spark.SparkContext.runJob(SparkContext.scala:2082)\n\tat org.apache.spark.SparkContext.runJob(SparkContext.scala:2101)\n\tat org.apache.spark.SparkContext.runJob(SparkContext.scala:2126)\n\tat org.apache.spark.rdd.RDD$$anonfun$collect$1.apply(RDD.scala:945)\n\tat org.apache.spark.rdd.RDDOperationScope$.withScope(RDDOperationScope.scala:151)\n\tat org.apache.spark.rdd.RDDOperationScope$.withScope(RDDOperationScope.scala:112)\n\tat org.apache.spark.rdd.RDD.withScope(RDD.scala:363)\n\tat org.apache.spark.rdd.RDD.collect(RDD.scala:944)\n\tat org.apache.spark.api.python.PythonRDD$.collectAndServe(PythonRDD.scala:166)\n\tat org.apache.spark.api.python.PythonRDD.collectAndServe(PythonRDD.scala)\n\tat sun.reflect.NativeMethodAccessorImpl.invoke0(Native Method)\n\tat sun.reflect.NativeMethodAccessorImpl.invoke(NativeMethodAccessorImpl.java:62)\n\tat sun.reflect.DelegatingMethodAccessorImpl.invoke(DelegatingMethodAccessorImpl.java:43)\n\tat java.lang.reflect.Method.invoke(Method.java:498)\n\tat py4j.reflection.MethodInvoker.invoke(MethodInvoker.java:244)\n\tat py4j.reflection.ReflectionEngine.invoke(ReflectionEngine.java:357)\n\tat py4j.Gateway.invoke(Gateway.java:282)\n\tat py4j.commands.AbstractCommand.invokeMethod(AbstractCommand.java:132)\n\tat py4j.commands.CallCommand.execute(CallCommand.java:79)\n\tat py4j.GatewayConnection.run(GatewayConnection.java:238)\n\tat java.lang.Thread.run(Thread.java:745)\nCaused by: org.apache.spark.api.python.PythonException: Traceback (most recent call last):\n  File \"/cvmfs/sft-nightlies.cern.ch/lcg/nightlies/dev3python3/Thu/spark/2.4.3-cern2/x86_64-centos7-gcc8-opt/python/lib/pyspark.zip/pyspark/worker.py\", line 377, in main\n    process()\n  File \"/cvmfs/sft-nightlies.cern.ch/lcg/nightlies/dev3python3/Thu/spark/2.4.3-cern2/x86_64-centos7-gcc8-opt/python/lib/pyspark.zip/pyspark/worker.py\", line 372, in process\n    serializer.dump_stream(func(split_index, iterator), outfile)\n  File \"/cvmfs/sft-nightlies.cern.ch/lcg/views/dev3python3/Thu/x86_64-centos7-gcc8-opt/python/pyspark/rdd.py\", line 2499, in pipeline_func\n    return func(split, prev_func(split, iterator))\n  File \"/cvmfs/sft-nightlies.cern.ch/lcg/views/dev3python3/Thu/x86_64-centos7-gcc8-opt/python/pyspark/rdd.py\", line 2499, in pipeline_func\n    return func(split, prev_func(split, iterator))\n  File \"/cvmfs/sft-nightlies.cern.ch/lcg/views/dev3python3/Thu/x86_64-centos7-gcc8-opt/python/pyspark/rdd.py\", line 352, in func\n    return f(iterator)\n  File \"/cvmfs/sft-nightlies.cern.ch/lcg/views/dev3python3/Thu/x86_64-centos7-gcc8-opt/python/pyspark/rdd.py\", line 1861, in combineLocally\n    merger.mergeValues(iterator)\n  File \"/cvmfs/sft-nightlies.cern.ch/lcg/nightlies/dev3python3/Thu/spark/2.4.3-cern2/x86_64-centos7-gcc8-opt/python/lib/pyspark.zip/pyspark/shuffle.py\", line 238, in mergeValues\n    for k, v in iterator:\n  File \"/cvmfs/sft-nightlies.cern.ch/lcg/views/dev3python3/Thu/x86_64-centos7-gcc8-opt/python/pyspark/rdd.py\", line 997, in mapPartition\n    for obj in iterator:\n  File \"/cvmfs/sft-nightlies.cern.ch/lcg/views/dev3python3/Thu/x86_64-centos7-gcc8-opt/python/pyspark/rdd.py\", line 983, in aggregatePartition\n    for obj in iterator:\n  File \"/cvmfs/sft-nightlies.cern.ch/lcg/nightlies/dev3python3/Thu/spark/2.4.3-cern2/x86_64-centos7-gcc8-opt/python/lib/pyspark.zip/pyspark/util.py\", line 99, in wrapper\n    return f(*args, **kwargs)\n  File \"/cvmfs/sft-nightlies.cern.ch/lcg/views/dev3python3/Thu/x86_64-centos7-gcc8-opt/lib/python3.6/site-packages/PyRDF/backend/Spark.py\", line 104, in spark_mapper\n    return mapper(current_range)\n  File \"/cvmfs/sft-nightlies.cern.ch/lcg/views/dev3python3/Thu/x86_64-centos7-gcc8-opt/lib/python3.6/site-packages/PyRDF/backend/Dist.py\", line 460, in mapper\n    output = callable_function(rdf, rdf_range=current_range)\n  File \"/cvmfs/sft-nightlies.cern.ch/lcg/views/dev3python3/Thu/x86_64-centos7-gcc8-opt/lib/python3.6/site-packages/PyRDF/CallableGenerator.py\", line 133, in mapper\n    prev_vals = mapper(parent_node, node_py=n, rdf_range=rdf_range)\n  File \"/cvmfs/sft-nightlies.cern.ch/lcg/views/dev3python3/Thu/x86_64-centos7-gcc8-opt/lib/python3.6/site-packages/PyRDF/CallableGenerator.py\", line 133, in mapper\n    prev_vals = mapper(parent_node, node_py=n, rdf_range=rdf_range)\n  File \"/cvmfs/sft-nightlies.cern.ch/lcg/views/dev3python3/Thu/x86_64-centos7-gcc8-opt/lib/python3.6/site-packages/PyRDF/CallableGenerator.py\", line 133, in mapper\n    prev_vals = mapper(parent_node, node_py=n, rdf_range=rdf_range)\n  [Previous line repeated 1 more times]\n  File \"/cvmfs/sft-nightlies.cern.ch/lcg/views/dev3python3/Thu/x86_64-centos7-gcc8-opt/lib/python3.6/site-packages/PyRDF/CallableGenerator.py\", line 109, in mapper\n    **operation.kwargs)\nTypeError: can not resolve method template call for 'Define'\n\n\tat org.apache.spark.api.python.BasePythonRunner$ReaderIterator.handlePythonException(PythonRunner.scala:452)\n\tat org.apache.spark.api.python.PythonRunner$$anon$1.read(PythonRunner.scala:588)\n\tat org.apache.spark.api.python.PythonRunner$$anon$1.read(PythonRunner.scala:571)\n\tat org.apache.spark.api.python.BasePythonRunner$ReaderIterator.hasNext(PythonRunner.scala:406)\n\tat org.apache.spark.InterruptibleIterator.hasNext(InterruptibleIterator.scala:37)\n\tat scala.collection.Iterator$GroupedIterator.fill(Iterator.scala:1124)\n\tat scala.collection.Iterator$GroupedIterator.hasNext(Iterator.scala:1130)\n\tat scala.collection.Iterator$$anon$11.hasNext(Iterator.scala:409)\n\tat org.apache.spark.shuffle.sort.BypassMergeSortShuffleWriter.write(BypassMergeSortShuffleWriter.java:125)\n\tat org.apache.spark.scheduler.ShuffleMapTask.runTask(ShuffleMapTask.scala:99)\n\tat org.apache.spark.scheduler.ShuffleMapTask.runTask(ShuffleMapTask.scala:55)\n\tat org.apache.spark.scheduler.Task.run(Task.scala:121)\n\tat org.apache.spark.executor.Executor$TaskRunner$$anonfun$10.apply(Executor.scala:408)\n\tat org.apache.spark.util.Utils$.tryWithSafeFinally(Utils.scala:1360)\n\tat org.apache.spark.executor.Executor$TaskRunner.run(Executor.scala:414)\n\tat java.util.concurrent.ThreadPoolExecutor.runWorker(ThreadPoolExecutor.java:1142)\n\tat java.util.concurrent.ThreadPoolExecutor$Worker.run(ThreadPoolExecutor.java:617)\n\t... 1 more\n"
     ]
    },
    {
     "name": "stderr",
     "output_type": "stream",
     "text": [
      "Warning in <TClass::Init>: no dictionary for class edm::Hash<1> is available\n",
      "Warning in <TClass::Init>: no dictionary for class edm::ParameterSetBlob is available\n",
      "Warning in <TClass::Init>: no dictionary for class edm::ProcessHistory is available\n",
      "Warning in <TClass::Init>: no dictionary for class edm::ProcessConfiguration is available\n",
      "Warning in <TClass::Init>: no dictionary for class pair<edm::Hash<1>,edm::ParameterSetBlob> is available\n"
     ]
    }
   ],
   "source": [
    "for sample in samples:\n",
    "    sample_to_numpy(sample, output_basedir)"
   ]
  },
  {
   "cell_type": "code",
   "execution_count": null,
   "metadata": {},
   "outputs": [],
   "source": []
  }
 ],
 "metadata": {
  "kernelspec": {
   "display_name": "Python 3",
   "language": "python",
   "name": "python3"
  },
  "language_info": {
   "codemirror_mode": {
    "name": "ipython",
    "version": 3
   },
   "file_extension": ".py",
   "mimetype": "text/x-python",
   "name": "python",
   "nbconvert_exporter": "python",
   "pygments_lexer": "ipython3",
   "version": "3.6.5"
  },
  "sparkconnect": {
   "bundled_options": [
    "MemoryIntensive",
    "SparkMetrics",
    "EnableS3",
    "ComputeIntensive"
   ],
   "list_of_options": [
    {
     "name": "spark.app.name",
     "value": "NanoAOD_PyRDF"
    },
    {
     "name": "spark.dynamicAllocation.enabled",
     "value": "False"
    },
    {
     "name": "spark.executor.instances",
     "value": "100"
    }
   ]
  },
  "toc": {
   "base_numbering": 1,
   "nav_menu": {},
   "number_sections": true,
   "sideBar": true,
   "skip_h1_title": false,
   "title_cell": "Table of Contents",
   "title_sidebar": "Contents",
   "toc_cell": false,
   "toc_position": {},
   "toc_section_display": true,
   "toc_window_display": false
  },
  "varInspector": {
   "cols": {
    "lenName": 16,
    "lenType": 16,
    "lenVar": 40
   },
   "kernels_config": {
    "python": {
     "delete_cmd_postfix": "",
     "delete_cmd_prefix": "del ",
     "library": "var_list.py",
     "varRefreshCmd": "print(var_dic_list())"
    },
    "r": {
     "delete_cmd_postfix": ") ",
     "delete_cmd_prefix": "rm(",
     "library": "var_list.r",
     "varRefreshCmd": "cat(var_dic_list()) "
    }
   },
   "types_to_exclude": [
    "module",
    "function",
    "builtin_function_or_method",
    "instance",
    "_Feature"
   ],
   "window_display": false
  }
 },
 "nbformat": 4,
 "nbformat_minor": 2
}
