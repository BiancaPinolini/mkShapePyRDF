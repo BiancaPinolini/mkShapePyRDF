{
 "cells": [
  {
   "cell_type": "code",
   "execution_count": 1,
   "metadata": {
    "ExecuteTime": {
     "end_time": "2020-01-19T14:44:26.388817Z",
     "start_time": "2020-01-19T14:44:22.588192Z"
    }
   },
   "outputs": [
    {
     "name": "stdout",
     "output_type": "stream",
     "text": [
      "Welcome to JupyROOT 6.19/01\n"
     ]
    }
   ],
   "source": [
    "debug = False\n",
    "\n",
    "import ROOT as R\n",
    "if debug:\n",
    "    R.ROOT.EnableImplicitMT() # only for ROOT rdf\n",
    "\n",
    "import os\n",
    "from pprint import pprint\n",
    "import pandas as pd \n"
   ]
  },
  {
   "cell_type": "code",
   "execution_count": 2,
   "metadata": {
    "ExecuteTime": {
     "end_time": "2020-01-19T14:44:41.102972Z",
     "start_time": "2020-01-19T14:44:36.240846Z"
    }
   },
   "outputs": [
    {
     "name": "stdout",
     "output_type": "stream",
     "text": [
      "['Define', 'Filter', 'Histo1D', 'Histo2D', 'Histo3D', 'Profile1D', 'Profile2D', 'Profile3D', 'Count', 'Sum', 'Fill', 'Snapshot', 'Graph', 'AsNumpy']\n"
     ]
    }
   ],
   "source": [
    "import PyRDF\n",
    "if not debug:\n",
    "    PyRDF.use(\"spark\")\n",
    "PyRDF.include_headers(\"headers.hh\")\n",
    "\n",
    "print(PyRDF.current_backend.supported_operations)"
   ]
  },
  {
   "cell_type": "code",
   "execution_count": 3,
   "metadata": {
    "ExecuteTime": {
     "end_time": "2020-01-19T11:47:12.440368Z",
     "start_time": "2020-01-19T11:47:12.306788Z"
    }
   },
   "outputs": [],
   "source": [
    "# this is only for root rdf \"interactive\"\n",
    "if debug:\n",
    "    R.gInterpreter.ProcessLine(\".L headers.hh\")"
   ]
  },
  {
   "cell_type": "code",
   "execution_count": 4,
   "metadata": {
    "ExecuteTime": {
     "end_time": "2020-01-19T14:44:31.729863Z",
     "start_time": "2020-01-19T14:44:31.657770Z"
    }
   },
   "outputs": [],
   "source": [
    "import latinos_rdf as lrdf"
   ]
  },
  {
   "cell_type": "code",
   "execution_count": 5,
   "metadata": {
    "ExecuteTime": {
     "end_time": "2020-01-19T14:44:32.058200Z",
     "start_time": "2020-01-19T14:44:32.049433Z"
    }
   },
   "outputs": [],
   "source": [
    "#samples = [\"DATA\",\"VBS\", \"VBF-V\", \"Wjets\", \"singleTop\", \"ttbar\",  \"VV\",\"DY\",\"FakeQCD\", \"VVV\"]\n",
    "samples = [\"VBS\", \"Wjets\", \"DY\", \"top\"]\n",
    "weights = [\"weight\", \"XSWeight\"]\n",
    "cut = \"lowen_looseVBS\"\n",
    "#cut = \"boost_looseVBS\"\n",
    "output_basedir = \"/eos/user/d/dmapelli/public/latino/Full2017v6_200121_v0/\"\n",
    "output_dir = output_basedir + cut + \"/\"\n",
    "config_dir = \"Full2017v6\"\n",
    "\n",
    "import os \n",
    "os.makedirs(output_dir, exist_ok=True)"
   ]
  },
  {
   "cell_type": "code",
   "execution_count": 6,
   "metadata": {
    "ExecuteTime": {
     "end_time": "2020-01-19T14:44:46.107033Z",
     "start_time": "2020-01-19T14:44:46.096029Z"
    }
   },
   "outputs": [],
   "source": [
    "config = lrdf.ConfigReader(config_dir)\n",
    "\n",
    "columns_MC = config.variables\n",
    "\n",
    "#columns_DATA = columns\n",
    "columns_MC = [ cut+\"_\"+c for c in columns_MC]\n",
    "columns_MC = weights + columns_MC"
   ]
  },
  {
   "cell_type": "code",
   "execution_count": 7,
   "metadata": {
    "ExecuteTime": {
     "end_time": "2020-01-19T14:44:49.173947Z",
     "start_time": "2020-01-19T14:44:48.443091Z"
    },
    "scrolled": false
   },
   "outputs": [],
   "source": [
    "joblist = []\n",
    "\n",
    "for sample in samples:\n",
    "    if debug:\n",
    "        trees, nfiles = lrdf.build_dataframe(config_dir, sample, R, \"root\") # ROOT RDF \"interactive\"\n",
    "    else:\n",
    "        trees, nfiles = lrdf.build_dataframe(config_dir,  sample, PyRDF , \"pyrdf\") # Spark\n",
    "    for tree, nfile in zip(trees,nfiles):\n",
    "        joblist.append((tree,nfile))\n",
    "        \n",
    "######## Now sort by number of files\n",
    "jobslist = sorted(joblist, key=lambda v: v[1], reverse=True)\n"
   ]
  },
  {
   "cell_type": "code",
   "execution_count": null,
   "metadata": {
    "scrolled": false
   },
   "outputs": [
    {
     "name": "stdout",
     "output_type": "stream",
     "text": [
      "Wjets (605804, 56)\n",
      "top (52217, 56)\n"
     ]
    }
   ],
   "source": [
    "########\n",
    "dfs = {}\n",
    "for tree,_ in jobslist:\n",
    "        # print(tree)\n",
    "        # Choose the right output columns\n",
    "        if sample == \"DATA\": outputcols = columns_DATA\n",
    "        else: outputcols = columns_MC\n",
    "\n",
    "        df = pd.DataFrame(tree[cut].rdf_node.AsNumpy(columns=outputcols))\n",
    "        print(tree.name, df.shape)\n",
    "        \n",
    "        if tree.name in dfs:\n",
    "            df.to_pickle(output_dir + tree.name + f\"_part{dfs[tree.name]+1}.pkl\")\n",
    "            dfs[tree.name] +=1\n",
    "        else:\n",
    "            df.to_pickle(output_dir + tree.name +\"_part1.pkl\")\n",
    "            dfs[tree.name] =1\n",
    "            \n",
    "        "
   ]
  },
  {
   "cell_type": "code",
   "execution_count": null,
   "metadata": {},
   "outputs": [],
   "source": []
  }
 ],
 "metadata": {
  "kernelspec": {
   "display_name": "Python 3",
   "language": "python",
   "name": "python3"
  },
  "language_info": {
   "codemirror_mode": {
    "name": "ipython",
    "version": 3
   },
   "file_extension": ".py",
   "mimetype": "text/x-python",
   "name": "python",
   "nbconvert_exporter": "python",
   "pygments_lexer": "ipython3",
   "version": "3.6.5"
  },
  "sparkconnect": {
   "bundled_options": [
    "SparkMetrics",
    "EnableS3",
    "ComputeIntensive",
    "LongRunningAnalysis",
    "MemoryIntensive"
   ],
   "list_of_options": [
    {
     "name": "spark.app.name",
     "value": "NanoAOD_PyRDF"
    },
    {
     "name": "spark.dynamicAllocation.enabled",
     "value": "False"
    },
    {
     "name": "spark.executor.instances",
     "value": "100"
    }
   ]
  },
  "toc": {
   "base_numbering": 1,
   "nav_menu": {},
   "number_sections": true,
   "sideBar": true,
   "skip_h1_title": false,
   "title_cell": "Table of Contents",
   "title_sidebar": "Contents",
   "toc_cell": false,
   "toc_position": {},
   "toc_section_display": true,
   "toc_window_display": false
  },
  "varInspector": {
   "cols": {
    "lenName": 16,
    "lenType": 16,
    "lenVar": 40
   },
   "kernels_config": {
    "python": {
     "delete_cmd_postfix": "",
     "delete_cmd_prefix": "del ",
     "library": "var_list.py",
     "varRefreshCmd": "print(var_dic_list())"
    },
    "r": {
     "delete_cmd_postfix": ") ",
     "delete_cmd_prefix": "rm(",
     "library": "var_list.r",
     "varRefreshCmd": "cat(var_dic_list()) "
    }
   },
   "types_to_exclude": [
    "module",
    "function",
    "builtin_function_or_method",
    "instance",
    "_Feature"
   ],
   "window_display": false
  }
 },
 "nbformat": 4,
 "nbformat_minor": 2
}
