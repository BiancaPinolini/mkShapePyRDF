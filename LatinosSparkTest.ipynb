{
 "cells": [
  {
   "cell_type": "code",
   "execution_count": 1,
   "metadata": {
    "ExecuteTime": {
     "end_time": "2020-01-19T14:44:26.388817Z",
     "start_time": "2020-01-19T14:44:22.588192Z"
    }
   },
   "outputs": [
    {
     "name": "stdout",
     "output_type": "stream",
     "text": [
      "Welcome to JupyROOT 6.19/01\n"
     ]
    }
   ],
   "source": [
    "import ROOT as R\n",
    "#R.ROOT.EnableImplicitMT()\n",
    "\n",
    "import os\n",
    "from pprint import pprint\n",
    "import pandas as pd \n"
   ]
  },
  {
   "cell_type": "code",
   "execution_count": 5,
   "metadata": {
    "ExecuteTime": {
     "end_time": "2020-01-19T14:44:41.102972Z",
     "start_time": "2020-01-19T14:44:36.240846Z"
    }
   },
   "outputs": [
    {
     "name": "stdout",
     "output_type": "stream",
     "text": [
      "['Define', 'Filter', 'Histo1D', 'Histo2D', 'Histo3D', 'Profile1D', 'Profile2D', 'Profile3D', 'Count', 'Sum', 'Fill', 'Snapshot', 'Graph', 'AsNumpy']\n"
     ]
    },
    {
     "name": "stderr",
     "output_type": "stream",
     "text": [
      "SLF4J: Class path contains multiple SLF4J bindings.\n",
      "SLF4J: Found binding in [jar:file:/cvmfs/sft-nightlies.cern.ch/lcg/nightlies/dev3python3/Sun/spark/2.4.4-cern2/x86_64-centos7-gcc8-opt/jars/slf4j-log4j12-1.7.16.jar!/org/slf4j/impl/StaticLoggerBinder.class]\n",
      "SLF4J: Found binding in [jar:file:/cvmfs/sft.cern.ch/lcg/releases/hadoop/2.7.5.1-79196/x86_64-centos7-gcc8-opt/share/hadoop/common/lib/slf4j-log4j12-1.7.10.jar!/org/slf4j/impl/StaticLoggerBinder.class]\n",
      "SLF4J: See http://www.slf4j.org/codes.html#multiple_bindings for an explanation.\n",
      "SLF4J: Actual binding is of type [org.slf4j.impl.Log4jLoggerFactory]\n",
      "20/01/19 15:44:38 WARN util.NativeCodeLoader: Unable to load native-hadoop library for your platform... using builtin-java classes where applicable\n",
      "Setting default log level to \"WARN\".\n",
      "To adjust logging level use sc.setLogLevel(newLevel). For SparkR, use setLogLevel(newLevel).\n",
      "20/01/19 15:44:39 WARN spark.SparkConf: Note that spark.local.dir will be overridden by the value set by the cluster manager (via SPARK_LOCAL_DIRS in mesos/standalone/kubernetes and LOCAL_DIRS in YARN).\n"
     ]
    }
   ],
   "source": [
    "import PyRDF\n",
    "PyRDF.use(\"spark\")\n",
    "PyRDF.include_headers(\"headers.hh\")\n",
    "\n",
    "print(PyRDF.current_backend.supported_operations)"
   ]
  },
  {
   "cell_type": "code",
   "execution_count": 2,
   "metadata": {
    "ExecuteTime": {
     "end_time": "2020-01-19T11:47:12.440368Z",
     "start_time": "2020-01-19T11:47:12.306788Z"
    }
   },
   "outputs": [
    {
     "data": {
      "text/plain": [
       "0"
      ]
     },
     "execution_count": 2,
     "metadata": {},
     "output_type": "execute_result"
    }
   ],
   "source": [
    "#R.gInterpreter.ProcessLine(\".L headers.hh\")"
   ]
  },
  {
   "cell_type": "code",
   "execution_count": 2,
   "metadata": {
    "ExecuteTime": {
     "end_time": "2020-01-19T14:44:31.729863Z",
     "start_time": "2020-01-19T14:44:31.657770Z"
    }
   },
   "outputs": [],
   "source": [
    "import latinos_rdf as lrdf"
   ]
  },
  {
   "cell_type": "code",
   "execution_count": 3,
   "metadata": {
    "ExecuteTime": {
     "end_time": "2020-01-19T14:44:32.058200Z",
     "start_time": "2020-01-19T14:44:32.049433Z"
    }
   },
   "outputs": [],
   "source": [
    "#samples = [\"DATA\",\"VBS\", \"VBF-V\", \"Wjets\", \"singleTop\", \"ttbar\",  \"VV\",\"DY\",\"FakeQCD\", \"VVV\"]\n",
    "samples = [\"VBS\", \"Wjets\", \"DY\", \"singleTop\", \"ttbar\"]\n",
    "cut = \"muon_looseVBS\"\n",
    "output_basedir = \"/eos/user/d/dmapelli/public/latino/Full2017_v1_200118/\""
   ]
  },
  {
   "cell_type": "code",
   "execution_count": 6,
   "metadata": {
    "ExecuteTime": {
     "end_time": "2020-01-19T14:44:46.107033Z",
     "start_time": "2020-01-19T14:44:46.096029Z"
    }
   },
   "outputs": [],
   "source": [
    "columns_MC = [ \"events\"]\n",
    "#columns_MC = [\"weight\", \"XSWeight\", \"TriggerEffWeight_1l\", \"btagSF\"] + columns\n",
    "#columns_DATA = columns\n",
    "columns_MC = [ cut+\"_\"+c for c in columns_MC]"
   ]
  },
  {
   "cell_type": "code",
   "execution_count": 7,
   "metadata": {
    "ExecuteTime": {
     "end_time": "2020-01-19T14:44:49.173947Z",
     "start_time": "2020-01-19T14:44:48.443091Z"
    },
    "scrolled": false
   },
   "outputs": [
    {
     "name": "stdout",
     "output_type": "stream",
     "text": [
      "VBS\n",
      "1 [1]\n",
      "-,  1\n",
      "Wjets\n",
      "1 [1]\n",
      "-,  1\n",
      "DY\n",
      "3 [8, 24, 58]\n",
      "-,  8\n",
      "-,  24\n",
      "-,  58\n",
      "singleTop\n",
      "1 [1]\n",
      "-,  1\n",
      "ttbar\n",
      "1 [1]\n",
      "-,  1\n"
     ]
    }
   ],
   "source": [
    "joblist = []\n",
    "\n",
    "for sample in samples:\n",
    "    #trees = lrdf.build_dataframe(\"lowenergy\", sample, R, \"root\")\n",
    "    print(sample)\n",
    "    trees, nfiles = lrdf.build_dataframe(\"Full2017v6\",  sample, PyRDF , \"pyrdf\")\n",
    "    for tree, nfile in zip(trees,nfiles):\n",
    "        joblist.append((tree,nfile))\n",
    "        \n",
    "######## Now sort by number of files\n",
    "jobslist = sorted(joblist, key=lambda v: v[1], reverse=True)\n",
    "    \n"
   ]
  },
  {
   "cell_type": "code",
   "execution_count": 8,
   "metadata": {
    "ExecuteTime": {
     "end_time": "2020-01-19T14:44:52.617957Z",
     "start_time": "2020-01-19T14:44:52.584234Z"
    },
    "scrolled": false
   },
   "outputs": [
    {
     "data": {
      "text/plain": [
       "[(name: supercut\n",
       "  parent: None\n",
       "  cut: METFilter_MC && nLepton==1 && Lepton_pt[0]>30 && VBS_category==1\n",
       "  vars: \n",
       "  aliases: bVeto,bReq,bVetoSF,bReqSF,btagSF\n",
       "  weight: (puWeight*                   TriggerEffWeight_1l*                   Lepton_RecoSF[0]*                   EMTFbug_veto*Lepton_tightElectron_mvaFall17V1Iso_WP90_IdIsoSF[0]*                Lepton_tightMuon_cut_Tight_HWWW_IdIsoSF[0]*(Lepton_isTightElectron_mvaFall17V1Iso_WP90[0]>0.5 || Lepton_isTightMuon_cut_Tight_HWWW[0]>0.5)*PrefireWeight*btagSF*(Sum(GenPart_pdgId == 22 && TMath::Odd(GenPart_statusFlags) && GenPart_pt > 20.) == 0))*((1.)*(((0.632927+0.0456956*gen_ptll-0.00154485*gen_ptll*gen_ptll+2.64397e-05*gen_ptll*gen_ptll*gen_ptll-2.19374e-07*gen_ptll*gen_ptll*gen_ptll*gen_ptll+6.99751e-10*gen_ptll*gen_ptll*gen_ptll*gen_ptll*gen_ptll)*(gen_ptll>0)*(gen_ptll<100)+(1.41713-0.00165342*gen_ptll)*(gen_ptll>=100)*(gen_ptll<300)+1*(gen_ptll>=300))))\n",
       "  --------------------------------------------------------------------------------\n",
       "  name: muon_looseVBS\n",
       "  parent: supercut\n",
       "  cut: abs(Lepton_pdgId[0])==11         && Lepton_pt[0] >= 40         && vbs_0_pt > 30 && vbs_1_pt > 30          && vjet_0_pt > 30 && vjet_1_pt > 30         \n",
       "  vars: muon_looseVBS_events,muon_looseVBS_Lepton_pt,muon_looseVBS_deltaeta_vbs\n",
       "  aliases: \n",
       "  weight: None\n",
       "  --------------------------------------------------------------------------------,\n",
       "  58),\n",
       " (name: supercut\n",
       "  parent: None\n",
       "  cut: METFilter_MC && nLepton==1 && Lepton_pt[0]>30 && VBS_category==1\n",
       "  vars: \n",
       "  aliases: bVeto,bReq,bVetoSF,bReqSF,btagSF\n",
       "  weight: (puWeight*                   TriggerEffWeight_1l*                   Lepton_RecoSF[0]*                   EMTFbug_veto*Lepton_tightElectron_mvaFall17V1Iso_WP90_IdIsoSF[0]*                Lepton_tightMuon_cut_Tight_HWWW_IdIsoSF[0]*(Lepton_isTightElectron_mvaFall17V1Iso_WP90[0]>0.5 || Lepton_isTightMuon_cut_Tight_HWWW[0]>0.5)*PrefireWeight*btagSF*(Sum(GenPart_pdgId == 22 && TMath::Odd(GenPart_statusFlags) && GenPart_pt > 20.) == 0))*((1.)*(((0.623108 + 0.0722934*gen_ptll - 0.00364918*gen_ptll*gen_ptll + 6.97227e-05*gen_ptll*gen_ptll*gen_ptll - 4.52903e-07*gen_ptll*gen_ptll*gen_ptll*gen_ptll)*(gen_ptll<45)*(gen_ptll>0) + 1*(gen_ptll>=45))*(LHE_HT<100)))\n",
       "  --------------------------------------------------------------------------------\n",
       "  name: muon_looseVBS\n",
       "  parent: supercut\n",
       "  cut: abs(Lepton_pdgId[0])==11         && Lepton_pt[0] >= 40         && vbs_0_pt > 30 && vbs_1_pt > 30          && vjet_0_pt > 30 && vjet_1_pt > 30         \n",
       "  vars: muon_looseVBS_events,muon_looseVBS_Lepton_pt,muon_looseVBS_deltaeta_vbs\n",
       "  aliases: \n",
       "  weight: None\n",
       "  --------------------------------------------------------------------------------,\n",
       "  24),\n",
       " (name: supercut\n",
       "  parent: None\n",
       "  cut: METFilter_MC && nLepton==1 && Lepton_pt[0]>30 && VBS_category==1\n",
       "  vars: \n",
       "  aliases: bVeto,bReq,bVetoSF,bReqSF,btagSF\n",
       "  weight: (puWeight*                   TriggerEffWeight_1l*                   Lepton_RecoSF[0]*                   EMTFbug_veto*Lepton_tightElectron_mvaFall17V1Iso_WP90_IdIsoSF[0]*                Lepton_tightMuon_cut_Tight_HWWW_IdIsoSF[0]*(Lepton_isTightElectron_mvaFall17V1Iso_WP90[0]>0.5 || Lepton_isTightMuon_cut_Tight_HWWW[0]>0.5)*PrefireWeight*btagSF*(Sum(GenPart_pdgId == 22 && TMath::Odd(GenPart_statusFlags) && GenPart_pt > 20.) == 0))*((1.)*(((0.632927+0.0456956*gen_ptll-0.00154485*gen_ptll*gen_ptll+2.64397e-05*gen_ptll*gen_ptll*gen_ptll-2.19374e-07*gen_ptll*gen_ptll*gen_ptll*gen_ptll+6.99751e-10*gen_ptll*gen_ptll*gen_ptll*gen_ptll*gen_ptll)*(gen_ptll>0)*(gen_ptll<100)+(1.41713-0.00165342*gen_ptll)*(gen_ptll>=100)*(gen_ptll<300)+1*(gen_ptll>=300))*(LHE_HT<100)))\n",
       "  --------------------------------------------------------------------------------\n",
       "  name: muon_looseVBS\n",
       "  parent: supercut\n",
       "  cut: abs(Lepton_pdgId[0])==11         && Lepton_pt[0] >= 40         && vbs_0_pt > 30 && vbs_1_pt > 30          && vjet_0_pt > 30 && vjet_1_pt > 30         \n",
       "  vars: muon_looseVBS_events,muon_looseVBS_Lepton_pt,muon_looseVBS_deltaeta_vbs\n",
       "  aliases: \n",
       "  weight: None\n",
       "  --------------------------------------------------------------------------------,\n",
       "  8),\n",
       " (name: supercut\n",
       "  parent: None\n",
       "  cut: METFilter_MC && nLepton==1 && Lepton_pt[0]>30 && VBS_category==1\n",
       "  vars: \n",
       "  aliases: bVeto,bReq,bVetoSF,bReqSF,btagSF\n",
       "  weight: (puWeight*                   TriggerEffWeight_1l*                   Lepton_RecoSF[0]*                   EMTFbug_veto*Lepton_tightElectron_mvaFall17V1Iso_WP90_IdIsoSF[0]*                Lepton_tightMuon_cut_Tight_HWWW_IdIsoSF[0]*(Lepton_isTightElectron_mvaFall17V1Iso_WP90[0]>0.5 || Lepton_isTightMuon_cut_Tight_HWWW[0]>0.5)*PrefireWeight*btagSF)\n",
       "  --------------------------------------------------------------------------------\n",
       "  name: muon_looseVBS\n",
       "  parent: supercut\n",
       "  cut: abs(Lepton_pdgId[0])==11         && Lepton_pt[0] >= 40         && vbs_0_pt > 30 && vbs_1_pt > 30          && vjet_0_pt > 30 && vjet_1_pt > 30         \n",
       "  vars: muon_looseVBS_events,muon_looseVBS_Lepton_pt,muon_looseVBS_deltaeta_vbs\n",
       "  aliases: \n",
       "  weight: None\n",
       "  --------------------------------------------------------------------------------,\n",
       "  1),\n",
       " (name: supercut\n",
       "  parent: None\n",
       "  cut: METFilter_MC && nLepton==1 && Lepton_pt[0]>30 && VBS_category==1\n",
       "  vars: \n",
       "  aliases: bVeto,bReq,bVetoSF,bReqSF,btagSF\n",
       "  weight: (puWeight*                   TriggerEffWeight_1l*                   Lepton_RecoSF[0]*                   EMTFbug_veto*Lepton_tightElectron_mvaFall17V1Iso_WP90_IdIsoSF[0]*                Lepton_tightMuon_cut_Tight_HWWW_IdIsoSF[0]*(Lepton_isTightElectron_mvaFall17V1Iso_WP90[0]>0.5 || Lepton_isTightMuon_cut_Tight_HWWW[0]>0.5)*PrefireWeight*btagSF)\n",
       "  --------------------------------------------------------------------------------\n",
       "  name: muon_looseVBS\n",
       "  parent: supercut\n",
       "  cut: abs(Lepton_pdgId[0])==11         && Lepton_pt[0] >= 40         && vbs_0_pt > 30 && vbs_1_pt > 30          && vjet_0_pt > 30 && vjet_1_pt > 30         \n",
       "  vars: muon_looseVBS_events,muon_looseVBS_Lepton_pt,muon_looseVBS_deltaeta_vbs\n",
       "  aliases: \n",
       "  weight: None\n",
       "  --------------------------------------------------------------------------------,\n",
       "  1),\n",
       " (name: supercut\n",
       "  parent: None\n",
       "  cut: METFilter_MC && nLepton==1 && Lepton_pt[0]>30 && VBS_category==1\n",
       "  vars: \n",
       "  aliases: bVeto,bReq,bVetoSF,bReqSF,btagSF,Top_pTrw\n",
       "  weight: (puWeight*                   TriggerEffWeight_1l*                   Lepton_RecoSF[0]*                   EMTFbug_veto*Lepton_tightElectron_mvaFall17V1Iso_WP90_IdIsoSF[0]*                Lepton_tightMuon_cut_Tight_HWWW_IdIsoSF[0]*(Lepton_isTightElectron_mvaFall17V1Iso_WP90[0]>0.5 || Lepton_isTightMuon_cut_Tight_HWWW[0]>0.5)*PrefireWeight*btagSF* Top_pTrw)\n",
       "  --------------------------------------------------------------------------------\n",
       "  name: muon_looseVBS\n",
       "  parent: supercut\n",
       "  cut: abs(Lepton_pdgId[0])==11         && Lepton_pt[0] >= 40         && vbs_0_pt > 30 && vbs_1_pt > 30          && vjet_0_pt > 30 && vjet_1_pt > 30         \n",
       "  vars: muon_looseVBS_events,muon_looseVBS_Lepton_pt,muon_looseVBS_deltaeta_vbs\n",
       "  aliases: \n",
       "  weight: None\n",
       "  --------------------------------------------------------------------------------,\n",
       "  1),\n",
       " (name: supercut\n",
       "  parent: None\n",
       "  cut: METFilter_MC && nLepton==1 && Lepton_pt[0]>30 && VBS_category==1\n",
       "  vars: \n",
       "  aliases: bVeto,bReq,bVetoSF,bReqSF,btagSF,Top_pTrw\n",
       "  weight: (puWeight*                   TriggerEffWeight_1l*                   Lepton_RecoSF[0]*                   EMTFbug_veto*Lepton_tightElectron_mvaFall17V1Iso_WP90_IdIsoSF[0]*                Lepton_tightMuon_cut_Tight_HWWW_IdIsoSF[0]*(Lepton_isTightElectron_mvaFall17V1Iso_WP90[0]>0.5 || Lepton_isTightMuon_cut_Tight_HWWW[0]>0.5)*PrefireWeight*btagSF* Top_pTrw)\n",
       "  --------------------------------------------------------------------------------\n",
       "  name: muon_looseVBS\n",
       "  parent: supercut\n",
       "  cut: abs(Lepton_pdgId[0])==11         && Lepton_pt[0] >= 40         && vbs_0_pt > 30 && vbs_1_pt > 30          && vjet_0_pt > 30 && vjet_1_pt > 30         \n",
       "  vars: muon_looseVBS_events,muon_looseVBS_Lepton_pt,muon_looseVBS_deltaeta_vbs\n",
       "  aliases: \n",
       "  weight: None\n",
       "  --------------------------------------------------------------------------------,\n",
       "  1)]"
      ]
     },
     "execution_count": 8,
     "metadata": {},
     "output_type": "execute_result"
    }
   ],
   "source": [
    "jobslist"
   ]
  },
  {
   "cell_type": "code",
   "execution_count": null,
   "metadata": {},
   "outputs": [],
   "source": [
    "########\n",
    "dfs = []\n",
    "for tree,_ in jobslist:\n",
    "        print(tree)\n",
    "        # Choose the right output columns\n",
    "        if sample == \"DATA\": outputcols = columns_DATA\n",
    "        else: outputcols = columns_MC\n",
    "\n",
    "        df = pd.DataFrame(tree[cut].rdf_node.AsNumpy(columns=outputcols))\n",
    "        dfs.append(df)\n",
    "\n",
    "    all_df = dfs[0]\n",
    "    for df in dfs[1:]:\n",
    "        all_df = all_df.append(df)  \n",
    "\n",
    "    all_df = all_df[ ( (all_df.lep_flavour == 11) & (all_df.lep_pt > 40))  | (all_df.lep_flavour == 13)]\n",
    "\n",
    "    all_df.to_pickle(output_basedir + sample + \".pkl\")"
   ]
  },
  {
   "cell_type": "code",
   "execution_count": 7,
   "metadata": {
    "ExecuteTime": {
     "end_time": "2020-01-19T14:17:26.843371Z",
     "start_time": "2020-01-19T14:17:26.745239Z"
    }
   },
   "outputs": [
    {
     "data": {
      "text/html": [
       "<div>\n",
       "<style scoped>\n",
       "    .dataframe tbody tr th:only-of-type {\n",
       "        vertical-align: middle;\n",
       "    }\n",
       "\n",
       "    .dataframe tbody tr th {\n",
       "        vertical-align: top;\n",
       "    }\n",
       "\n",
       "    .dataframe thead th {\n",
       "        text-align: right;\n",
       "    }\n",
       "</style>\n",
       "<table border=\"1\" class=\"dataframe\">\n",
       "  <thead>\n",
       "    <tr style=\"text-align: right;\">\n",
       "      <th></th>\n",
       "      <th>muon_looseVBS_var_events</th>\n",
       "    </tr>\n",
       "  </thead>\n",
       "  <tbody>\n",
       "    <tr>\n",
       "      <th>0</th>\n",
       "      <td>1</td>\n",
       "    </tr>\n",
       "    <tr>\n",
       "      <th>1</th>\n",
       "      <td>1</td>\n",
       "    </tr>\n",
       "    <tr>\n",
       "      <th>2</th>\n",
       "      <td>1</td>\n",
       "    </tr>\n",
       "    <tr>\n",
       "      <th>3</th>\n",
       "      <td>1</td>\n",
       "    </tr>\n",
       "    <tr>\n",
       "      <th>4</th>\n",
       "      <td>1</td>\n",
       "    </tr>\n",
       "    <tr>\n",
       "      <th>5</th>\n",
       "      <td>1</td>\n",
       "    </tr>\n",
       "    <tr>\n",
       "      <th>6</th>\n",
       "      <td>1</td>\n",
       "    </tr>\n",
       "    <tr>\n",
       "      <th>7</th>\n",
       "      <td>1</td>\n",
       "    </tr>\n",
       "    <tr>\n",
       "      <th>8</th>\n",
       "      <td>1</td>\n",
       "    </tr>\n",
       "    <tr>\n",
       "      <th>9</th>\n",
       "      <td>1</td>\n",
       "    </tr>\n",
       "    <tr>\n",
       "      <th>10</th>\n",
       "      <td>1</td>\n",
       "    </tr>\n",
       "    <tr>\n",
       "      <th>11</th>\n",
       "      <td>1</td>\n",
       "    </tr>\n",
       "    <tr>\n",
       "      <th>12</th>\n",
       "      <td>1</td>\n",
       "    </tr>\n",
       "    <tr>\n",
       "      <th>13</th>\n",
       "      <td>1</td>\n",
       "    </tr>\n",
       "    <tr>\n",
       "      <th>14</th>\n",
       "      <td>1</td>\n",
       "    </tr>\n",
       "    <tr>\n",
       "      <th>15</th>\n",
       "      <td>1</td>\n",
       "    </tr>\n",
       "    <tr>\n",
       "      <th>16</th>\n",
       "      <td>1</td>\n",
       "    </tr>\n",
       "    <tr>\n",
       "      <th>17</th>\n",
       "      <td>1</td>\n",
       "    </tr>\n",
       "    <tr>\n",
       "      <th>18</th>\n",
       "      <td>1</td>\n",
       "    </tr>\n",
       "    <tr>\n",
       "      <th>19</th>\n",
       "      <td>1</td>\n",
       "    </tr>\n",
       "    <tr>\n",
       "      <th>20</th>\n",
       "      <td>1</td>\n",
       "    </tr>\n",
       "    <tr>\n",
       "      <th>21</th>\n",
       "      <td>1</td>\n",
       "    </tr>\n",
       "    <tr>\n",
       "      <th>22</th>\n",
       "      <td>1</td>\n",
       "    </tr>\n",
       "    <tr>\n",
       "      <th>23</th>\n",
       "      <td>1</td>\n",
       "    </tr>\n",
       "    <tr>\n",
       "      <th>24</th>\n",
       "      <td>1</td>\n",
       "    </tr>\n",
       "    <tr>\n",
       "      <th>25</th>\n",
       "      <td>1</td>\n",
       "    </tr>\n",
       "    <tr>\n",
       "      <th>26</th>\n",
       "      <td>1</td>\n",
       "    </tr>\n",
       "    <tr>\n",
       "      <th>27</th>\n",
       "      <td>1</td>\n",
       "    </tr>\n",
       "    <tr>\n",
       "      <th>28</th>\n",
       "      <td>1</td>\n",
       "    </tr>\n",
       "    <tr>\n",
       "      <th>29</th>\n",
       "      <td>1</td>\n",
       "    </tr>\n",
       "    <tr>\n",
       "      <th>...</th>\n",
       "      <td>...</td>\n",
       "    </tr>\n",
       "    <tr>\n",
       "      <th>860499</th>\n",
       "      <td>1</td>\n",
       "    </tr>\n",
       "    <tr>\n",
       "      <th>860500</th>\n",
       "      <td>1</td>\n",
       "    </tr>\n",
       "    <tr>\n",
       "      <th>860501</th>\n",
       "      <td>1</td>\n",
       "    </tr>\n",
       "    <tr>\n",
       "      <th>860502</th>\n",
       "      <td>1</td>\n",
       "    </tr>\n",
       "    <tr>\n",
       "      <th>860503</th>\n",
       "      <td>1</td>\n",
       "    </tr>\n",
       "    <tr>\n",
       "      <th>860504</th>\n",
       "      <td>1</td>\n",
       "    </tr>\n",
       "    <tr>\n",
       "      <th>860505</th>\n",
       "      <td>1</td>\n",
       "    </tr>\n",
       "    <tr>\n",
       "      <th>860506</th>\n",
       "      <td>1</td>\n",
       "    </tr>\n",
       "    <tr>\n",
       "      <th>860507</th>\n",
       "      <td>1</td>\n",
       "    </tr>\n",
       "    <tr>\n",
       "      <th>860508</th>\n",
       "      <td>1</td>\n",
       "    </tr>\n",
       "    <tr>\n",
       "      <th>860509</th>\n",
       "      <td>1</td>\n",
       "    </tr>\n",
       "    <tr>\n",
       "      <th>860510</th>\n",
       "      <td>1</td>\n",
       "    </tr>\n",
       "    <tr>\n",
       "      <th>860511</th>\n",
       "      <td>1</td>\n",
       "    </tr>\n",
       "    <tr>\n",
       "      <th>860512</th>\n",
       "      <td>1</td>\n",
       "    </tr>\n",
       "    <tr>\n",
       "      <th>860513</th>\n",
       "      <td>1</td>\n",
       "    </tr>\n",
       "    <tr>\n",
       "      <th>860514</th>\n",
       "      <td>1</td>\n",
       "    </tr>\n",
       "    <tr>\n",
       "      <th>860515</th>\n",
       "      <td>1</td>\n",
       "    </tr>\n",
       "    <tr>\n",
       "      <th>860516</th>\n",
       "      <td>1</td>\n",
       "    </tr>\n",
       "    <tr>\n",
       "      <th>860517</th>\n",
       "      <td>1</td>\n",
       "    </tr>\n",
       "    <tr>\n",
       "      <th>860518</th>\n",
       "      <td>1</td>\n",
       "    </tr>\n",
       "    <tr>\n",
       "      <th>860519</th>\n",
       "      <td>1</td>\n",
       "    </tr>\n",
       "    <tr>\n",
       "      <th>860520</th>\n",
       "      <td>1</td>\n",
       "    </tr>\n",
       "    <tr>\n",
       "      <th>860521</th>\n",
       "      <td>1</td>\n",
       "    </tr>\n",
       "    <tr>\n",
       "      <th>860522</th>\n",
       "      <td>1</td>\n",
       "    </tr>\n",
       "    <tr>\n",
       "      <th>860523</th>\n",
       "      <td>1</td>\n",
       "    </tr>\n",
       "    <tr>\n",
       "      <th>860524</th>\n",
       "      <td>1</td>\n",
       "    </tr>\n",
       "    <tr>\n",
       "      <th>860525</th>\n",
       "      <td>1</td>\n",
       "    </tr>\n",
       "    <tr>\n",
       "      <th>860526</th>\n",
       "      <td>1</td>\n",
       "    </tr>\n",
       "    <tr>\n",
       "      <th>860527</th>\n",
       "      <td>1</td>\n",
       "    </tr>\n",
       "    <tr>\n",
       "      <th>860528</th>\n",
       "      <td>1</td>\n",
       "    </tr>\n",
       "  </tbody>\n",
       "</table>\n",
       "<p>860529 rows × 1 columns</p>\n",
       "</div>"
      ],
      "text/plain": [
       "        muon_looseVBS_var_events\n",
       "0                              1\n",
       "1                              1\n",
       "2                              1\n",
       "3                              1\n",
       "4                              1\n",
       "5                              1\n",
       "6                              1\n",
       "7                              1\n",
       "8                              1\n",
       "9                              1\n",
       "10                             1\n",
       "11                             1\n",
       "12                             1\n",
       "13                             1\n",
       "14                             1\n",
       "15                             1\n",
       "16                             1\n",
       "17                             1\n",
       "18                             1\n",
       "19                             1\n",
       "20                             1\n",
       "21                             1\n",
       "22                             1\n",
       "23                             1\n",
       "24                             1\n",
       "25                             1\n",
       "26                             1\n",
       "27                             1\n",
       "28                             1\n",
       "29                             1\n",
       "...                          ...\n",
       "860499                         1\n",
       "860500                         1\n",
       "860501                         1\n",
       "860502                         1\n",
       "860503                         1\n",
       "860504                         1\n",
       "860505                         1\n",
       "860506                         1\n",
       "860507                         1\n",
       "860508                         1\n",
       "860509                         1\n",
       "860510                         1\n",
       "860511                         1\n",
       "860512                         1\n",
       "860513                         1\n",
       "860514                         1\n",
       "860515                         1\n",
       "860516                         1\n",
       "860517                         1\n",
       "860518                         1\n",
       "860519                         1\n",
       "860520                         1\n",
       "860521                         1\n",
       "860522                         1\n",
       "860523                         1\n",
       "860524                         1\n",
       "860525                         1\n",
       "860526                         1\n",
       "860527                         1\n",
       "860528                         1\n",
       "\n",
       "[860529 rows x 1 columns]"
      ]
     },
     "execution_count": 7,
     "metadata": {},
     "output_type": "execute_result"
    }
   ],
   "source": [
    "df"
   ]
  },
  {
   "cell_type": "code",
   "execution_count": null,
   "metadata": {},
   "outputs": [],
   "source": []
  }
 ],
 "metadata": {
  "kernelspec": {
   "display_name": "Python 3",
   "language": "python",
   "name": "python3"
  },
  "sparkconnect": {
   "bundled_options": [
    "MemoryIntensive",
    "SparkMetrics",
    "EnableS3",
    "ComputeIntensive",
    "LongRunningAnalysis"
   ],
   "list_of_options": [
    {
     "name": "spark.app.name",
     "value": "NanoAOD_PyRDF"
    },
    {
     "name": "spark.dynamicAllocation.enabled",
     "value": "False"
    },
    {
     "name": "spark.executor.instances",
     "value": "100"
    }
   ]
  },
  "toc": {
   "base_numbering": 1,
   "nav_menu": {},
   "number_sections": true,
   "sideBar": true,
   "skip_h1_title": false,
   "title_cell": "Table of Contents",
   "title_sidebar": "Contents",
   "toc_cell": false,
   "toc_position": {},
   "toc_section_display": true,
   "toc_window_display": false
  },
  "varInspector": {
   "cols": {
    "lenName": 16,
    "lenType": 16,
    "lenVar": 40
   },
   "kernels_config": {
    "python": {
     "delete_cmd_postfix": "",
     "delete_cmd_prefix": "del ",
     "library": "var_list.py",
     "varRefreshCmd": "print(var_dic_list())"
    },
    "r": {
     "delete_cmd_postfix": ") ",
     "delete_cmd_prefix": "rm(",
     "library": "var_list.r",
     "varRefreshCmd": "cat(var_dic_list()) "
    }
   },
   "types_to_exclude": [
    "module",
    "function",
    "builtin_function_or_method",
    "instance",
    "_Feature"
   ],
   "window_display": false
  }
 },
 "nbformat": 4,
 "nbformat_minor": 2
}
