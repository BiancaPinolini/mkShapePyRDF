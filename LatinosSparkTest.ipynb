{
 "cells": [
  {
   "cell_type": "code",
   "execution_count": 1,
   "metadata": {
    "ExecuteTime": {
     "end_time": "2020-01-27T15:55:34.549451Z",
     "start_time": "2020-01-27T15:55:30.687858Z"
    }
   },
   "outputs": [
    {
     "name": "stdout",
     "output_type": "stream",
     "text": [
      "Welcome to JupyROOT 6.19/01\n"
     ]
    }
   ],
   "source": [
    "debug = False\n",
    "\n",
    "import ROOT as R\n",
    "\n",
    "if debug:\n",
    "    R.ROOT.EnableImplicitMT() # only for ROOT rdf\n",
    "\n",
    "import os\n",
    "from pprint import pprint\n",
    "import pandas as pd \n"
   ]
  },
  {
   "cell_type": "code",
   "execution_count": 2,
   "metadata": {
    "ExecuteTime": {
     "end_time": "2020-01-27T15:55:42.156713Z",
     "start_time": "2020-01-27T15:55:42.000084Z"
    }
   },
   "outputs": [
    {
     "name": "stdout",
     "output_type": "stream",
     "text": [
      "['Define', 'Filter', 'Histo1D', 'Histo2D', 'Histo3D', 'Profile1D', 'Profile2D', 'Profile3D', 'Count', 'Sum', 'Fill', 'Snapshot', 'Graph', 'AsNumpy']\n"
     ]
    }
   ],
   "source": [
    "import PyRDF\n",
    "if not debug:\n",
    "    PyRDF.use(\"spark\")\n",
    "PyRDF.include_headers(\"headers.hh\")\n",
    "\n",
    "print(PyRDF.current_backend.supported_operations)"
   ]
  },
  {
   "cell_type": "code",
   "execution_count": 3,
   "metadata": {
    "ExecuteTime": {
     "end_time": "2020-01-27T15:55:42.650335Z",
     "start_time": "2020-01-27T15:55:42.620148Z"
    }
   },
   "outputs": [],
   "source": [
    "# this is only for root rdf \"interactive\"\n",
    "if debug:\n",
    "    R.gInterpreter.ProcessLine(\".L headers.hh\")"
   ]
  },
  {
   "cell_type": "code",
   "execution_count": 4,
   "metadata": {
    "ExecuteTime": {
     "end_time": "2020-01-27T15:55:43.152336Z",
     "start_time": "2020-01-27T15:55:43.130555Z"
    }
   },
   "outputs": [],
   "source": [
    "import latinos_rdf as lrdf"
   ]
  },
  {
   "cell_type": "code",
   "execution_count": 9,
   "metadata": {
    "ExecuteTime": {
     "end_time": "2020-01-27T15:55:43.609661Z",
     "start_time": "2020-01-27T15:55:43.568687Z"
    }
   },
   "outputs": [],
   "source": [
    "version = \"v5\"\n",
    "\n",
    "# input\n",
    "config_dir = \"Full2017v6\"\n",
    "\n",
    "# selection\n",
    "#samples = [\"DATA\",\"VBS\", \"VBF-V\", \"Wjets\", \"singleTop\", \"ttbar\",  \"VV\",\"DY\",\"FakeQCD\", \"VVV\"]\n",
    "samples = [\"VBS\", \"top\", \"DY\", \"Wjets\"]\n",
    "weights = [\"weight_\", \"XSWeight\"]\n",
    "cut = \"lowen_looseVBS\"\n",
    "#cut = \"boost_looseVBS\"\n",
    "\n",
    "# output\n",
    "output_basedir = \"/eos/user/d/dmapelli/public/latino/Full2017v6\" # replace the last dir with the \"config\" variable?\n",
    "output_dir = output_basedir + \"/\" + cut + \"/samples/\" + version + \"/\"\n",
    "\n",
    "\n",
    "import os \n",
    "os.makedirs(output_dir, exist_ok=True)"
   ]
  },
  {
   "cell_type": "code",
   "execution_count": 11,
   "metadata": {
    "ExecuteTime": {
     "end_time": "2020-01-27T15:55:44.433151Z",
     "start_time": "2020-01-27T15:55:44.391113Z"
    }
   },
   "outputs": [
    {
     "name": "stdout",
     "output_type": "stream",
     "text": [
      "['weight_', 'XSWeight', 'lowen_looseVBS_Lepton_RecoSF', 'lowen_looseVBS_LepWPWeight', 'lowen_looseVBS_puWeight', 'lowen_looseVBS_TriggerEffWeight_1l', 'lowen_looseVBS_btagSF', 'lowen_looseVBS_events', 'lowen_looseVBS_Lepton_pt', 'lowen_looseVBS_Lepton_eta', 'lowen_looseVBS_Lepton_phi', 'lowen_looseVBS_Lepton_flavour', 'lowen_looseVBS_PuppiMET', 'lowen_looseVBS_PuppiMET_phi', 'lowen_looseVBS_MET_pt', 'lowen_looseVBS_recoMET_pz', 'lowen_looseVBS_nJets', 'lowen_looseVBS_N_jets_central', 'lowen_looseVBS_N_jets_forward', 'lowen_looseVBS_mjj_vbs', 'lowen_looseVBS_deltaeta_vbs', 'lowen_looseVBS_deltaphi_vbs', 'lowen_looseVBS_vbs_etaprod', 'lowen_looseVBS_vbs_0_pt', 'lowen_looseVBS_vbs_1_pt', 'lowen_looseVBS_vbs_0_eta', 'lowen_looseVBS_vbs_1_eta', 'lowen_looseVBS_vbs_0_phi', 'lowen_looseVBS_vbs_1_phi', 'lowen_looseVBS_vbs_index_0', 'lowen_looseVBS_vbs_index_1', 'lowen_looseVBS_mjj_vjet', 'lowen_looseVBS_vjet_0_pt', 'lowen_looseVBS_vjet_1_pt', 'lowen_looseVBS_vjet_0_eta', 'lowen_looseVBS_vjet_1_eta', 'lowen_looseVBS_vjet_0_phi', 'lowen_looseVBS_vjet_1_phi', 'lowen_looseVBS_vjet_index_0', 'lowen_looseVBS_vjet_index_1', 'lowen_looseVBS_Zvjets_0', 'lowen_looseVBS_Zlep', 'lowen_looseVBS_Asym_vbs', 'lowen_looseVBS_Asym_vjet', 'lowen_looseVBS_Mw_lep_reco', 'lowen_looseVBS_Mtw_lep', 'lowen_looseVBS_w_lep_pt', 'lowen_looseVBS_Mww', 'lowen_looseVBS_R_ww', 'lowen_looseVBS_R_mw', 'lowen_looseVBS_A_ww', 'lowen_looseVBS_Centr_vbs', 'lowen_looseVBS_Centr_ww', 'lowen_looseVBS_nvtx', 'lowen_looseVBS_qgl']\n"
     ]
    }
   ],
   "source": [
    "config = lrdf.ConfigReader(config_dir)\n",
    "\n",
    "columns_MC = config.variables\n",
    "\n",
    "#columns_DATA = columns\n",
    "columns_MC = [ cut+\"_\"+c for c in columns_MC]\n",
    "\n",
    "columns_MC = weights + columns_MC\n",
    "\n",
    "print(columns_MC)"
   ]
  },
  {
   "cell_type": "code",
   "execution_count": 12,
   "metadata": {
    "ExecuteTime": {
     "end_time": "2020-01-27T15:55:48.632949Z",
     "start_time": "2020-01-27T15:55:45.354748Z"
    },
    "scrolled": false
   },
   "outputs": [],
   "source": [
    "joblist = []\n",
    "\n",
    "for sample in samples:\n",
    "    if debug:\n",
    "        trees, nfiles = lrdf.build_dataframe(config_dir, sample, R, \"root\") # ROOT RDF \"interactive\"\n",
    "    else:\n",
    "        trees, nfiles = lrdf.build_dataframe(config_dir,  sample, PyRDF , \"pyrdf\") # Spark\n",
    "    for tree, nfile in zip(trees,nfiles):\n",
    "        joblist.append((tree,nfile))\n",
    "        \n",
    "######## Now sort by number of files\n",
    "jobslist = sorted(joblist, key=lambda v: v[1], reverse=True)\n"
   ]
  },
  {
   "cell_type": "code",
   "execution_count": 13,
   "metadata": {
    "ExecuteTime": {
     "start_time": "2020-01-27T15:55:46.313Z"
    },
    "scrolled": false
   },
   "outputs": [
    {
     "name": "stdout",
     "output_type": "stream",
     "text": [
      "Tree: Wjets\n",
      "name: supercut\n",
      "parent: None\n",
      "cut: (                      ( (abs(Lepton_pdgId[0])==11) && (Lepton_pt[0]>40) ) ||                      ( (abs(Lepton_pdgId[0])==13) && (Lepton_pt[0]>30) )                       )\n",
      "vars: \n",
      "aliases: bVeto,bReq,bVetoSF,bReqSF,btagSF\n",
      "weight: (XSWeight*puWeight*                   TriggerEffWeight_1l*                   Lepton_RecoSF[0]*                   EMTFbug_veto*Lepton_tightElectron_mvaFall17V1Iso_WP90_IdIsoSF[0]*                Lepton_tightMuon_cut_Tight_HWWW_IdIsoSF[0]*(Lepton_isTightElectron_mvaFall17V1Iso_WP90[0]>0.5 || Lepton_isTightMuon_cut_Tight_HWWW[0]>0.5)*PrefireWeight*btagSF*METFilter_MC*Lepton_genmatched[0])*((1.))\n",
      "--------------------------------------------------------------------------------\n",
      "name: lowen_looseVBS\n",
      "parent: supercut\n",
      "cut: VBS_category==1             && vbs_0_pt > 30 && vbs_1_pt > 30              && vjet_0_pt > 30 && vjet_1_pt > 30             && mjj_vbs >=300                && deltaeta_vbs >= 2              && PuppiMET_pt > 30             && bVeto             && mjj_vjet > 65 && mjj_vjet < 105             \n",
      "vars: lowen_looseVBS_Lepton_RecoSF,lowen_looseVBS_LepWPWeight,lowen_looseVBS_puWeight,lowen_looseVBS_TriggerEffWeight_1l,lowen_looseVBS_btagSF,lowen_looseVBS_events,lowen_looseVBS_Lepton_pt,lowen_looseVBS_Lepton_eta,lowen_looseVBS_Lepton_phi,lowen_looseVBS_Lepton_flavour,lowen_looseVBS_PuppiMET,lowen_looseVBS_PuppiMET_phi,lowen_looseVBS_MET_pt,lowen_looseVBS_recoMET_pz,lowen_looseVBS_nJets,lowen_looseVBS_N_jets_central,lowen_looseVBS_N_jets_forward,lowen_looseVBS_mjj_vbs,lowen_looseVBS_deltaeta_vbs,lowen_looseVBS_deltaphi_vbs,lowen_looseVBS_vbs_etaprod,lowen_looseVBS_vbs_0_pt,lowen_looseVBS_vbs_1_pt,lowen_looseVBS_vbs_0_eta,lowen_looseVBS_vbs_1_eta,lowen_looseVBS_vbs_0_phi,lowen_looseVBS_vbs_1_phi,lowen_looseVBS_vbs_index_0,lowen_looseVBS_vbs_index_1,lowen_looseVBS_mjj_vjet,lowen_looseVBS_vjet_0_pt,lowen_looseVBS_vjet_1_pt,lowen_looseVBS_vjet_0_eta,lowen_looseVBS_vjet_1_eta,lowen_looseVBS_vjet_0_phi,lowen_looseVBS_vjet_1_phi,lowen_looseVBS_vjet_index_0,lowen_looseVBS_vjet_index_1,lowen_looseVBS_Zvjets_0,lowen_looseVBS_Zlep,lowen_looseVBS_Asym_vbs,lowen_looseVBS_Asym_vjet,lowen_looseVBS_Mw_lep_reco,lowen_looseVBS_Mtw_lep,lowen_looseVBS_w_lep_pt,lowen_looseVBS_Mww,lowen_looseVBS_R_ww,lowen_looseVBS_R_mw,lowen_looseVBS_A_ww,lowen_looseVBS_Centr_vbs,lowen_looseVBS_Centr_ww,lowen_looseVBS_nvtx,lowen_looseVBS_qgl\n",
      "aliases: \n",
      "weight: None\n",
      "--------------------------------------------------------------------------------\n",
      "name: boost_looseVBS\n",
      "parent: supercut\n",
      "cut: VBS_category==0             && vbs_0_pt > 30 && vbs_1_pt > 30              && vjet_0_pt > 200             && mjj_vbs >=300                && deltaeta_vbs >= 2              && PuppiMET_pt > 30             && bVeto             && mjj_vjet > 65 && mjj_vjet < 105             \n",
      "vars: boost_looseVBS_Lepton_RecoSF,boost_looseVBS_LepWPWeight,boost_looseVBS_puWeight,boost_looseVBS_TriggerEffWeight_1l,boost_looseVBS_btagSF,boost_looseVBS_events,boost_looseVBS_Lepton_pt,boost_looseVBS_Lepton_eta,boost_looseVBS_Lepton_phi,boost_looseVBS_Lepton_flavour,boost_looseVBS_PuppiMET,boost_looseVBS_PuppiMET_phi,boost_looseVBS_MET_pt,boost_looseVBS_recoMET_pz,boost_looseVBS_nJets,boost_looseVBS_N_jets_central,boost_looseVBS_N_jets_forward,boost_looseVBS_mjj_vbs,boost_looseVBS_deltaeta_vbs,boost_looseVBS_deltaphi_vbs,boost_looseVBS_vbs_etaprod,boost_looseVBS_vbs_0_pt,boost_looseVBS_vbs_1_pt,boost_looseVBS_vbs_0_eta,boost_looseVBS_vbs_1_eta,boost_looseVBS_vbs_0_phi,boost_looseVBS_vbs_1_phi,boost_looseVBS_vbs_index_0,boost_looseVBS_vbs_index_1,boost_looseVBS_mjj_vjet,boost_looseVBS_vjet_0_pt,boost_looseVBS_vjet_1_pt,boost_looseVBS_vjet_0_eta,boost_looseVBS_vjet_1_eta,boost_looseVBS_vjet_0_phi,boost_looseVBS_vjet_1_phi,boost_looseVBS_vjet_index_0,boost_looseVBS_vjet_index_1,boost_looseVBS_Zvjets_0,boost_looseVBS_Zlep,boost_looseVBS_Asym_vbs,boost_looseVBS_Asym_vjet,boost_looseVBS_Mw_lep_reco,boost_looseVBS_Mtw_lep,boost_looseVBS_w_lep_pt,boost_looseVBS_Mww,boost_looseVBS_R_ww,boost_looseVBS_R_mw,boost_looseVBS_A_ww,boost_looseVBS_Centr_vbs,boost_looseVBS_Centr_ww,boost_looseVBS_nvtx,boost_looseVBS_qgl\n",
      "aliases: \n",
      "weight: None\n",
      "--------------------------------------------------------------------------------\n",
      "Wjets (601289, 55)\n",
      "Tree: top\n",
      "name: supercut\n",
      "parent: None\n",
      "cut: (                      ( (abs(Lepton_pdgId[0])==11) && (Lepton_pt[0]>40) ) ||                      ( (abs(Lepton_pdgId[0])==13) && (Lepton_pt[0]>30) )                       )\n",
      "vars: \n",
      "aliases: bVeto,bReq,bVetoSF,bReqSF,btagSF,isTTbar,isSingleTop,topGenPtOTF,antitopGenPtOTF,Top_pTrw\n",
      "weight: (XSWeight*puWeight*                   TriggerEffWeight_1l*                   Lepton_RecoSF[0]*                   EMTFbug_veto*Lepton_tightElectron_mvaFall17V1Iso_WP90_IdIsoSF[0]*                Lepton_tightMuon_cut_Tight_HWWW_IdIsoSF[0]*(Lepton_isTightElectron_mvaFall17V1Iso_WP90[0]>0.5 || Lepton_isTightMuon_cut_Tight_HWWW[0]>0.5)*PrefireWeight*btagSF*METFilter_MC*Lepton_genmatched[0]* Top_pTrw)\n",
      "--------------------------------------------------------------------------------\n",
      "name: lowen_looseVBS\n",
      "parent: supercut\n",
      "cut: VBS_category==1             && vbs_0_pt > 30 && vbs_1_pt > 30              && vjet_0_pt > 30 && vjet_1_pt > 30             && mjj_vbs >=300                && deltaeta_vbs >= 2              && PuppiMET_pt > 30             && bVeto             && mjj_vjet > 65 && mjj_vjet < 105             \n",
      "vars: lowen_looseVBS_Lepton_RecoSF,lowen_looseVBS_LepWPWeight,lowen_looseVBS_puWeight,lowen_looseVBS_TriggerEffWeight_1l,lowen_looseVBS_btagSF,lowen_looseVBS_events,lowen_looseVBS_Lepton_pt,lowen_looseVBS_Lepton_eta,lowen_looseVBS_Lepton_phi,lowen_looseVBS_Lepton_flavour,lowen_looseVBS_PuppiMET,lowen_looseVBS_PuppiMET_phi,lowen_looseVBS_MET_pt,lowen_looseVBS_recoMET_pz,lowen_looseVBS_nJets,lowen_looseVBS_N_jets_central,lowen_looseVBS_N_jets_forward,lowen_looseVBS_mjj_vbs,lowen_looseVBS_deltaeta_vbs,lowen_looseVBS_deltaphi_vbs,lowen_looseVBS_vbs_etaprod,lowen_looseVBS_vbs_0_pt,lowen_looseVBS_vbs_1_pt,lowen_looseVBS_vbs_0_eta,lowen_looseVBS_vbs_1_eta,lowen_looseVBS_vbs_0_phi,lowen_looseVBS_vbs_1_phi,lowen_looseVBS_vbs_index_0,lowen_looseVBS_vbs_index_1,lowen_looseVBS_mjj_vjet,lowen_looseVBS_vjet_0_pt,lowen_looseVBS_vjet_1_pt,lowen_looseVBS_vjet_0_eta,lowen_looseVBS_vjet_1_eta,lowen_looseVBS_vjet_0_phi,lowen_looseVBS_vjet_1_phi,lowen_looseVBS_vjet_index_0,lowen_looseVBS_vjet_index_1,lowen_looseVBS_Zvjets_0,lowen_looseVBS_Zlep,lowen_looseVBS_Asym_vbs,lowen_looseVBS_Asym_vjet,lowen_looseVBS_Mw_lep_reco,lowen_looseVBS_Mtw_lep,lowen_looseVBS_w_lep_pt,lowen_looseVBS_Mww,lowen_looseVBS_R_ww,lowen_looseVBS_R_mw,lowen_looseVBS_A_ww,lowen_looseVBS_Centr_vbs,lowen_looseVBS_Centr_ww,lowen_looseVBS_nvtx,lowen_looseVBS_qgl\n",
      "aliases: \n",
      "weight: None\n",
      "--------------------------------------------------------------------------------\n",
      "name: boost_looseVBS\n",
      "parent: supercut\n",
      "cut: VBS_category==0             && vbs_0_pt > 30 && vbs_1_pt > 30              && vjet_0_pt > 200             && mjj_vbs >=300                && deltaeta_vbs >= 2              && PuppiMET_pt > 30             && bVeto             && mjj_vjet > 65 && mjj_vjet < 105             \n",
      "vars: boost_looseVBS_Lepton_RecoSF,boost_looseVBS_LepWPWeight,boost_looseVBS_puWeight,boost_looseVBS_TriggerEffWeight_1l,boost_looseVBS_btagSF,boost_looseVBS_events,boost_looseVBS_Lepton_pt,boost_looseVBS_Lepton_eta,boost_looseVBS_Lepton_phi,boost_looseVBS_Lepton_flavour,boost_looseVBS_PuppiMET,boost_looseVBS_PuppiMET_phi,boost_looseVBS_MET_pt,boost_looseVBS_recoMET_pz,boost_looseVBS_nJets,boost_looseVBS_N_jets_central,boost_looseVBS_N_jets_forward,boost_looseVBS_mjj_vbs,boost_looseVBS_deltaeta_vbs,boost_looseVBS_deltaphi_vbs,boost_looseVBS_vbs_etaprod,boost_looseVBS_vbs_0_pt,boost_looseVBS_vbs_1_pt,boost_looseVBS_vbs_0_eta,boost_looseVBS_vbs_1_eta,boost_looseVBS_vbs_0_phi,boost_looseVBS_vbs_1_phi,boost_looseVBS_vbs_index_0,boost_looseVBS_vbs_index_1,boost_looseVBS_mjj_vjet,boost_looseVBS_vjet_0_pt,boost_looseVBS_vjet_1_pt,boost_looseVBS_vjet_0_eta,boost_looseVBS_vjet_1_eta,boost_looseVBS_vjet_0_phi,boost_looseVBS_vjet_1_phi,boost_looseVBS_vjet_index_0,boost_looseVBS_vjet_index_1,boost_looseVBS_Zvjets_0,boost_looseVBS_Zlep,boost_looseVBS_Asym_vbs,boost_looseVBS_Asym_vjet,boost_looseVBS_Mw_lep_reco,boost_looseVBS_Mtw_lep,boost_looseVBS_w_lep_pt,boost_looseVBS_Mww,boost_looseVBS_R_ww,boost_looseVBS_R_mw,boost_looseVBS_A_ww,boost_looseVBS_Centr_vbs,boost_looseVBS_Centr_ww,boost_looseVBS_nvtx,boost_looseVBS_qgl\n",
      "aliases: \n",
      "weight: None\n",
      "--------------------------------------------------------------------------------\n"
     ]
    },
    {
     "name": "stdout",
     "output_type": "stream",
     "text": [
      "top (52037, 55)\n",
      "Tree: DY\n",
      "name: supercut\n",
      "parent: None\n",
      "cut: (                      ( (abs(Lepton_pdgId[0])==11) && (Lepton_pt[0]>40) ) ||                      ( (abs(Lepton_pdgId[0])==13) && (Lepton_pt[0]>30) )                       )\n",
      "vars: \n",
      "aliases: bVeto,bReq,bVetoSF,bReqSF,btagSF\n",
      "weight: (XSWeight*puWeight*                   TriggerEffWeight_1l*                   Lepton_RecoSF[0]*                   EMTFbug_veto*Lepton_tightElectron_mvaFall17V1Iso_WP90_IdIsoSF[0]*                Lepton_tightMuon_cut_Tight_HWWW_IdIsoSF[0]*(Lepton_isTightElectron_mvaFall17V1Iso_WP90[0]>0.5 || Lepton_isTightMuon_cut_Tight_HWWW[0]>0.5)*PrefireWeight*btagSF*METFilter_MC*Lepton_genmatched[0]*(Sum(GenPart_pdgId == 22 && OddVec(GenPart_statusFlags) && GenPart_pt > 20.) == 0))*((1.)*(((0.632927+0.0456956*gen_ptll-0.00154485*gen_ptll*gen_ptll+2.64397e-05*gen_ptll*gen_ptll*gen_ptll-2.19374e-07*gen_ptll*gen_ptll*gen_ptll*gen_ptll+6.99751e-10*gen_ptll*gen_ptll*gen_ptll*gen_ptll*gen_ptll)*(gen_ptll>0)*(gen_ptll<100)+(1.41713-0.00165342*gen_ptll)*(gen_ptll>=100)*(gen_ptll<300)+1*(gen_ptll>=300))))\n",
      "--------------------------------------------------------------------------------\n",
      "name: lowen_looseVBS\n",
      "parent: supercut\n",
      "cut: VBS_category==1             && vbs_0_pt > 30 && vbs_1_pt > 30              && vjet_0_pt > 30 && vjet_1_pt > 30             && mjj_vbs >=300                && deltaeta_vbs >= 2              && PuppiMET_pt > 30             && bVeto             && mjj_vjet > 65 && mjj_vjet < 105             \n",
      "vars: lowen_looseVBS_Lepton_RecoSF,lowen_looseVBS_LepWPWeight,lowen_looseVBS_puWeight,lowen_looseVBS_TriggerEffWeight_1l,lowen_looseVBS_btagSF,lowen_looseVBS_events,lowen_looseVBS_Lepton_pt,lowen_looseVBS_Lepton_eta,lowen_looseVBS_Lepton_phi,lowen_looseVBS_Lepton_flavour,lowen_looseVBS_PuppiMET,lowen_looseVBS_PuppiMET_phi,lowen_looseVBS_MET_pt,lowen_looseVBS_recoMET_pz,lowen_looseVBS_nJets,lowen_looseVBS_N_jets_central,lowen_looseVBS_N_jets_forward,lowen_looseVBS_mjj_vbs,lowen_looseVBS_deltaeta_vbs,lowen_looseVBS_deltaphi_vbs,lowen_looseVBS_vbs_etaprod,lowen_looseVBS_vbs_0_pt,lowen_looseVBS_vbs_1_pt,lowen_looseVBS_vbs_0_eta,lowen_looseVBS_vbs_1_eta,lowen_looseVBS_vbs_0_phi,lowen_looseVBS_vbs_1_phi,lowen_looseVBS_vbs_index_0,lowen_looseVBS_vbs_index_1,lowen_looseVBS_mjj_vjet,lowen_looseVBS_vjet_0_pt,lowen_looseVBS_vjet_1_pt,lowen_looseVBS_vjet_0_eta,lowen_looseVBS_vjet_1_eta,lowen_looseVBS_vjet_0_phi,lowen_looseVBS_vjet_1_phi,lowen_looseVBS_vjet_index_0,lowen_looseVBS_vjet_index_1,lowen_looseVBS_Zvjets_0,lowen_looseVBS_Zlep,lowen_looseVBS_Asym_vbs,lowen_looseVBS_Asym_vjet,lowen_looseVBS_Mw_lep_reco,lowen_looseVBS_Mtw_lep,lowen_looseVBS_w_lep_pt,lowen_looseVBS_Mww,lowen_looseVBS_R_ww,lowen_looseVBS_R_mw,lowen_looseVBS_A_ww,lowen_looseVBS_Centr_vbs,lowen_looseVBS_Centr_ww,lowen_looseVBS_nvtx,lowen_looseVBS_qgl\n",
      "aliases: \n",
      "weight: None\n",
      "--------------------------------------------------------------------------------\n",
      "name: boost_looseVBS\n",
      "parent: supercut\n",
      "cut: VBS_category==0             && vbs_0_pt > 30 && vbs_1_pt > 30              && vjet_0_pt > 200             && mjj_vbs >=300                && deltaeta_vbs >= 2              && PuppiMET_pt > 30             && bVeto             && mjj_vjet > 65 && mjj_vjet < 105             \n",
      "vars: boost_looseVBS_Lepton_RecoSF,boost_looseVBS_LepWPWeight,boost_looseVBS_puWeight,boost_looseVBS_TriggerEffWeight_1l,boost_looseVBS_btagSF,boost_looseVBS_events,boost_looseVBS_Lepton_pt,boost_looseVBS_Lepton_eta,boost_looseVBS_Lepton_phi,boost_looseVBS_Lepton_flavour,boost_looseVBS_PuppiMET,boost_looseVBS_PuppiMET_phi,boost_looseVBS_MET_pt,boost_looseVBS_recoMET_pz,boost_looseVBS_nJets,boost_looseVBS_N_jets_central,boost_looseVBS_N_jets_forward,boost_looseVBS_mjj_vbs,boost_looseVBS_deltaeta_vbs,boost_looseVBS_deltaphi_vbs,boost_looseVBS_vbs_etaprod,boost_looseVBS_vbs_0_pt,boost_looseVBS_vbs_1_pt,boost_looseVBS_vbs_0_eta,boost_looseVBS_vbs_1_eta,boost_looseVBS_vbs_0_phi,boost_looseVBS_vbs_1_phi,boost_looseVBS_vbs_index_0,boost_looseVBS_vbs_index_1,boost_looseVBS_mjj_vjet,boost_looseVBS_vjet_0_pt,boost_looseVBS_vjet_1_pt,boost_looseVBS_vjet_0_eta,boost_looseVBS_vjet_1_eta,boost_looseVBS_vjet_0_phi,boost_looseVBS_vjet_1_phi,boost_looseVBS_vjet_index_0,boost_looseVBS_vjet_index_1,boost_looseVBS_Zvjets_0,boost_looseVBS_Zlep,boost_looseVBS_Asym_vbs,boost_looseVBS_Asym_vjet,boost_looseVBS_Mw_lep_reco,boost_looseVBS_Mtw_lep,boost_looseVBS_w_lep_pt,boost_looseVBS_Mww,boost_looseVBS_R_ww,boost_looseVBS_R_mw,boost_looseVBS_A_ww,boost_looseVBS_Centr_vbs,boost_looseVBS_Centr_ww,boost_looseVBS_nvtx,boost_looseVBS_qgl\n",
      "aliases: \n",
      "weight: None\n",
      "--------------------------------------------------------------------------------\n",
      "DY (85055, 55)\n",
      "Tree: VBS\n",
      "name: supercut\n",
      "parent: None\n",
      "cut: (                      ( (abs(Lepton_pdgId[0])==11) && (Lepton_pt[0]>40) ) ||                      ( (abs(Lepton_pdgId[0])==13) && (Lepton_pt[0]>30) )                       )\n",
      "vars: \n",
      "aliases: bVeto,bReq,bVetoSF,bReqSF,btagSF\n",
      "weight: (XSWeight*puWeight*                   TriggerEffWeight_1l*                   Lepton_RecoSF[0]*                   EMTFbug_veto*Lepton_tightElectron_mvaFall17V1Iso_WP90_IdIsoSF[0]*                Lepton_tightMuon_cut_Tight_HWWW_IdIsoSF[0]*(Lepton_isTightElectron_mvaFall17V1Iso_WP90[0]>0.5 || Lepton_isTightMuon_cut_Tight_HWWW[0]>0.5)*PrefireWeight*btagSF*METFilter_MC*Lepton_genmatched[0])\n",
      "--------------------------------------------------------------------------------\n",
      "name: lowen_looseVBS\n",
      "parent: supercut\n",
      "cut: VBS_category==1             && vbs_0_pt > 30 && vbs_1_pt > 30              && vjet_0_pt > 30 && vjet_1_pt > 30             && mjj_vbs >=300                && deltaeta_vbs >= 2              && PuppiMET_pt > 30             && bVeto             && mjj_vjet > 65 && mjj_vjet < 105             \n",
      "vars: lowen_looseVBS_Lepton_RecoSF,lowen_looseVBS_LepWPWeight,lowen_looseVBS_puWeight,lowen_looseVBS_TriggerEffWeight_1l,lowen_looseVBS_btagSF,lowen_looseVBS_events,lowen_looseVBS_Lepton_pt,lowen_looseVBS_Lepton_eta,lowen_looseVBS_Lepton_phi,lowen_looseVBS_Lepton_flavour,lowen_looseVBS_PuppiMET,lowen_looseVBS_PuppiMET_phi,lowen_looseVBS_MET_pt,lowen_looseVBS_recoMET_pz,lowen_looseVBS_nJets,lowen_looseVBS_N_jets_central,lowen_looseVBS_N_jets_forward,lowen_looseVBS_mjj_vbs,lowen_looseVBS_deltaeta_vbs,lowen_looseVBS_deltaphi_vbs,lowen_looseVBS_vbs_etaprod,lowen_looseVBS_vbs_0_pt,lowen_looseVBS_vbs_1_pt,lowen_looseVBS_vbs_0_eta,lowen_looseVBS_vbs_1_eta,lowen_looseVBS_vbs_0_phi,lowen_looseVBS_vbs_1_phi,lowen_looseVBS_vbs_index_0,lowen_looseVBS_vbs_index_1,lowen_looseVBS_mjj_vjet,lowen_looseVBS_vjet_0_pt,lowen_looseVBS_vjet_1_pt,lowen_looseVBS_vjet_0_eta,lowen_looseVBS_vjet_1_eta,lowen_looseVBS_vjet_0_phi,lowen_looseVBS_vjet_1_phi,lowen_looseVBS_vjet_index_0,lowen_looseVBS_vjet_index_1,lowen_looseVBS_Zvjets_0,lowen_looseVBS_Zlep,lowen_looseVBS_Asym_vbs,lowen_looseVBS_Asym_vjet,lowen_looseVBS_Mw_lep_reco,lowen_looseVBS_Mtw_lep,lowen_looseVBS_w_lep_pt,lowen_looseVBS_Mww,lowen_looseVBS_R_ww,lowen_looseVBS_R_mw,lowen_looseVBS_A_ww,lowen_looseVBS_Centr_vbs,lowen_looseVBS_Centr_ww,lowen_looseVBS_nvtx,lowen_looseVBS_qgl\n",
      "aliases: \n",
      "weight: None\n",
      "--------------------------------------------------------------------------------\n",
      "name: boost_looseVBS\n",
      "parent: supercut\n",
      "cut: VBS_category==0             && vbs_0_pt > 30 && vbs_1_pt > 30              && vjet_0_pt > 200             && mjj_vbs >=300                && deltaeta_vbs >= 2              && PuppiMET_pt > 30             && bVeto             && mjj_vjet > 65 && mjj_vjet < 105             \n",
      "vars: boost_looseVBS_Lepton_RecoSF,boost_looseVBS_LepWPWeight,boost_looseVBS_puWeight,boost_looseVBS_TriggerEffWeight_1l,boost_looseVBS_btagSF,boost_looseVBS_events,boost_looseVBS_Lepton_pt,boost_looseVBS_Lepton_eta,boost_looseVBS_Lepton_phi,boost_looseVBS_Lepton_flavour,boost_looseVBS_PuppiMET,boost_looseVBS_PuppiMET_phi,boost_looseVBS_MET_pt,boost_looseVBS_recoMET_pz,boost_looseVBS_nJets,boost_looseVBS_N_jets_central,boost_looseVBS_N_jets_forward,boost_looseVBS_mjj_vbs,boost_looseVBS_deltaeta_vbs,boost_looseVBS_deltaphi_vbs,boost_looseVBS_vbs_etaprod,boost_looseVBS_vbs_0_pt,boost_looseVBS_vbs_1_pt,boost_looseVBS_vbs_0_eta,boost_looseVBS_vbs_1_eta,boost_looseVBS_vbs_0_phi,boost_looseVBS_vbs_1_phi,boost_looseVBS_vbs_index_0,boost_looseVBS_vbs_index_1,boost_looseVBS_mjj_vjet,boost_looseVBS_vjet_0_pt,boost_looseVBS_vjet_1_pt,boost_looseVBS_vjet_0_eta,boost_looseVBS_vjet_1_eta,boost_looseVBS_vjet_0_phi,boost_looseVBS_vjet_1_phi,boost_looseVBS_vjet_index_0,boost_looseVBS_vjet_index_1,boost_looseVBS_Zvjets_0,boost_looseVBS_Zlep,boost_looseVBS_Asym_vbs,boost_looseVBS_Asym_vjet,boost_looseVBS_Mw_lep_reco,boost_looseVBS_Mtw_lep,boost_looseVBS_w_lep_pt,boost_looseVBS_Mww,boost_looseVBS_R_ww,boost_looseVBS_R_mw,boost_looseVBS_A_ww,boost_looseVBS_Centr_vbs,boost_looseVBS_Centr_ww,boost_looseVBS_nvtx,boost_looseVBS_qgl\n",
      "aliases: \n",
      "weight: None\n",
      "--------------------------------------------------------------------------------\n"
     ]
    },
    {
     "name": "stdout",
     "output_type": "stream",
     "text": [
      "VBS (123132, 55)\n",
      "Tree: DY\n",
      "name: supercut\n",
      "parent: None\n",
      "cut: (                      ( (abs(Lepton_pdgId[0])==11) && (Lepton_pt[0]>40) ) ||                      ( (abs(Lepton_pdgId[0])==13) && (Lepton_pt[0]>30) )                       )\n",
      "vars: \n",
      "aliases: bVeto,bReq,bVetoSF,bReqSF,btagSF\n",
      "weight: (XSWeight*puWeight*                   TriggerEffWeight_1l*                   Lepton_RecoSF[0]*                   EMTFbug_veto*Lepton_tightElectron_mvaFall17V1Iso_WP90_IdIsoSF[0]*                Lepton_tightMuon_cut_Tight_HWWW_IdIsoSF[0]*(Lepton_isTightElectron_mvaFall17V1Iso_WP90[0]>0.5 || Lepton_isTightMuon_cut_Tight_HWWW[0]>0.5)*PrefireWeight*btagSF*METFilter_MC*Lepton_genmatched[0]*(Sum(GenPart_pdgId == 22 && OddVec(GenPart_statusFlags) && GenPart_pt > 20.) == 0))*((1.)*(((0.623108 + 0.0722934*gen_ptll - 0.00364918*gen_ptll*gen_ptll + 6.97227e-05*gen_ptll*gen_ptll*gen_ptll - 4.52903e-07*gen_ptll*gen_ptll*gen_ptll*gen_ptll)*(gen_ptll<45)*(gen_ptll>0) + 1*(gen_ptll>=45))*(LHE_HT<100)))\n",
      "--------------------------------------------------------------------------------\n",
      "name: lowen_looseVBS\n",
      "parent: supercut\n",
      "cut: VBS_category==1             && vbs_0_pt > 30 && vbs_1_pt > 30              && vjet_0_pt > 30 && vjet_1_pt > 30             && mjj_vbs >=300                && deltaeta_vbs >= 2              && PuppiMET_pt > 30             && bVeto             && mjj_vjet > 65 && mjj_vjet < 105             \n",
      "vars: lowen_looseVBS_Lepton_RecoSF,lowen_looseVBS_LepWPWeight,lowen_looseVBS_puWeight,lowen_looseVBS_TriggerEffWeight_1l,lowen_looseVBS_btagSF,lowen_looseVBS_events,lowen_looseVBS_Lepton_pt,lowen_looseVBS_Lepton_eta,lowen_looseVBS_Lepton_phi,lowen_looseVBS_Lepton_flavour,lowen_looseVBS_PuppiMET,lowen_looseVBS_PuppiMET_phi,lowen_looseVBS_MET_pt,lowen_looseVBS_recoMET_pz,lowen_looseVBS_nJets,lowen_looseVBS_N_jets_central,lowen_looseVBS_N_jets_forward,lowen_looseVBS_mjj_vbs,lowen_looseVBS_deltaeta_vbs,lowen_looseVBS_deltaphi_vbs,lowen_looseVBS_vbs_etaprod,lowen_looseVBS_vbs_0_pt,lowen_looseVBS_vbs_1_pt,lowen_looseVBS_vbs_0_eta,lowen_looseVBS_vbs_1_eta,lowen_looseVBS_vbs_0_phi,lowen_looseVBS_vbs_1_phi,lowen_looseVBS_vbs_index_0,lowen_looseVBS_vbs_index_1,lowen_looseVBS_mjj_vjet,lowen_looseVBS_vjet_0_pt,lowen_looseVBS_vjet_1_pt,lowen_looseVBS_vjet_0_eta,lowen_looseVBS_vjet_1_eta,lowen_looseVBS_vjet_0_phi,lowen_looseVBS_vjet_1_phi,lowen_looseVBS_vjet_index_0,lowen_looseVBS_vjet_index_1,lowen_looseVBS_Zvjets_0,lowen_looseVBS_Zlep,lowen_looseVBS_Asym_vbs,lowen_looseVBS_Asym_vjet,lowen_looseVBS_Mw_lep_reco,lowen_looseVBS_Mtw_lep,lowen_looseVBS_w_lep_pt,lowen_looseVBS_Mww,lowen_looseVBS_R_ww,lowen_looseVBS_R_mw,lowen_looseVBS_A_ww,lowen_looseVBS_Centr_vbs,lowen_looseVBS_Centr_ww,lowen_looseVBS_nvtx,lowen_looseVBS_qgl\n",
      "aliases: \n",
      "weight: None\n",
      "--------------------------------------------------------------------------------\n",
      "name: boost_looseVBS\n",
      "parent: supercut\n",
      "cut: VBS_category==0             && vbs_0_pt > 30 && vbs_1_pt > 30              && vjet_0_pt > 200             && mjj_vbs >=300                && deltaeta_vbs >= 2              && PuppiMET_pt > 30             && bVeto             && mjj_vjet > 65 && mjj_vjet < 105             \n",
      "vars: boost_looseVBS_Lepton_RecoSF,boost_looseVBS_LepWPWeight,boost_looseVBS_puWeight,boost_looseVBS_TriggerEffWeight_1l,boost_looseVBS_btagSF,boost_looseVBS_events,boost_looseVBS_Lepton_pt,boost_looseVBS_Lepton_eta,boost_looseVBS_Lepton_phi,boost_looseVBS_Lepton_flavour,boost_looseVBS_PuppiMET,boost_looseVBS_PuppiMET_phi,boost_looseVBS_MET_pt,boost_looseVBS_recoMET_pz,boost_looseVBS_nJets,boost_looseVBS_N_jets_central,boost_looseVBS_N_jets_forward,boost_looseVBS_mjj_vbs,boost_looseVBS_deltaeta_vbs,boost_looseVBS_deltaphi_vbs,boost_looseVBS_vbs_etaprod,boost_looseVBS_vbs_0_pt,boost_looseVBS_vbs_1_pt,boost_looseVBS_vbs_0_eta,boost_looseVBS_vbs_1_eta,boost_looseVBS_vbs_0_phi,boost_looseVBS_vbs_1_phi,boost_looseVBS_vbs_index_0,boost_looseVBS_vbs_index_1,boost_looseVBS_mjj_vjet,boost_looseVBS_vjet_0_pt,boost_looseVBS_vjet_1_pt,boost_looseVBS_vjet_0_eta,boost_looseVBS_vjet_1_eta,boost_looseVBS_vjet_0_phi,boost_looseVBS_vjet_1_phi,boost_looseVBS_vjet_index_0,boost_looseVBS_vjet_index_1,boost_looseVBS_Zvjets_0,boost_looseVBS_Zlep,boost_looseVBS_Asym_vbs,boost_looseVBS_Asym_vjet,boost_looseVBS_Mw_lep_reco,boost_looseVBS_Mtw_lep,boost_looseVBS_w_lep_pt,boost_looseVBS_Mww,boost_looseVBS_R_ww,boost_looseVBS_R_mw,boost_looseVBS_A_ww,boost_looseVBS_Centr_vbs,boost_looseVBS_Centr_ww,boost_looseVBS_nvtx,boost_looseVBS_qgl\n",
      "aliases: \n",
      "weight: None\n",
      "--------------------------------------------------------------------------------\n"
     ]
    },
    {
     "name": "stderr",
     "output_type": "stream",
     "text": [
      "/cvmfs/sft-nightlies.cern.ch/lcg/views/dev3python3/Mon/x86_64-centos7-gcc8-opt/lib/python3.6/site-packages/PyRDF/backend/Dist.py:315: UserWarning: Number of partitions is greater than number of clustersin the filelist\n",
      "Using 24 partition(s)\n",
      "  filelist, self.friend_info)\n"
     ]
    },
    {
     "name": "stdout",
     "output_type": "stream",
     "text": [
      "DY (161, 55)\n",
      "Tree: Wjets\n",
      "name: supercut\n",
      "parent: None\n",
      "cut: (                      ( (abs(Lepton_pdgId[0])==11) && (Lepton_pt[0]>40) ) ||                      ( (abs(Lepton_pdgId[0])==13) && (Lepton_pt[0]>30) )                       )\n",
      "vars: \n",
      "aliases: bVeto,bReq,bVetoSF,bReqSF,btagSF\n",
      "weight: (XSWeight*puWeight*                   TriggerEffWeight_1l*                   Lepton_RecoSF[0]*                   EMTFbug_veto*Lepton_tightElectron_mvaFall17V1Iso_WP90_IdIsoSF[0]*                Lepton_tightMuon_cut_Tight_HWWW_IdIsoSF[0]*(Lepton_isTightElectron_mvaFall17V1Iso_WP90[0]>0.5 || Lepton_isTightMuon_cut_Tight_HWWW[0]>0.5)*PrefireWeight*btagSF*METFilter_MC*Lepton_genmatched[0])*((1.)*(LHE_HT < 100))\n",
      "--------------------------------------------------------------------------------\n",
      "name: lowen_looseVBS\n",
      "parent: supercut\n",
      "cut: VBS_category==1             && vbs_0_pt > 30 && vbs_1_pt > 30              && vjet_0_pt > 30 && vjet_1_pt > 30             && mjj_vbs >=300                && deltaeta_vbs >= 2              && PuppiMET_pt > 30             && bVeto             && mjj_vjet > 65 && mjj_vjet < 105             \n",
      "vars: lowen_looseVBS_Lepton_RecoSF,lowen_looseVBS_LepWPWeight,lowen_looseVBS_puWeight,lowen_looseVBS_TriggerEffWeight_1l,lowen_looseVBS_btagSF,lowen_looseVBS_events,lowen_looseVBS_Lepton_pt,lowen_looseVBS_Lepton_eta,lowen_looseVBS_Lepton_phi,lowen_looseVBS_Lepton_flavour,lowen_looseVBS_PuppiMET,lowen_looseVBS_PuppiMET_phi,lowen_looseVBS_MET_pt,lowen_looseVBS_recoMET_pz,lowen_looseVBS_nJets,lowen_looseVBS_N_jets_central,lowen_looseVBS_N_jets_forward,lowen_looseVBS_mjj_vbs,lowen_looseVBS_deltaeta_vbs,lowen_looseVBS_deltaphi_vbs,lowen_looseVBS_vbs_etaprod,lowen_looseVBS_vbs_0_pt,lowen_looseVBS_vbs_1_pt,lowen_looseVBS_vbs_0_eta,lowen_looseVBS_vbs_1_eta,lowen_looseVBS_vbs_0_phi,lowen_looseVBS_vbs_1_phi,lowen_looseVBS_vbs_index_0,lowen_looseVBS_vbs_index_1,lowen_looseVBS_mjj_vjet,lowen_looseVBS_vjet_0_pt,lowen_looseVBS_vjet_1_pt,lowen_looseVBS_vjet_0_eta,lowen_looseVBS_vjet_1_eta,lowen_looseVBS_vjet_0_phi,lowen_looseVBS_vjet_1_phi,lowen_looseVBS_vjet_index_0,lowen_looseVBS_vjet_index_1,lowen_looseVBS_Zvjets_0,lowen_looseVBS_Zlep,lowen_looseVBS_Asym_vbs,lowen_looseVBS_Asym_vjet,lowen_looseVBS_Mw_lep_reco,lowen_looseVBS_Mtw_lep,lowen_looseVBS_w_lep_pt,lowen_looseVBS_Mww,lowen_looseVBS_R_ww,lowen_looseVBS_R_mw,lowen_looseVBS_A_ww,lowen_looseVBS_Centr_vbs,lowen_looseVBS_Centr_ww,lowen_looseVBS_nvtx,lowen_looseVBS_qgl\n",
      "aliases: \n",
      "weight: None\n",
      "--------------------------------------------------------------------------------\n",
      "name: boost_looseVBS\n",
      "parent: supercut\n",
      "cut: VBS_category==0             && vbs_0_pt > 30 && vbs_1_pt > 30              && vjet_0_pt > 200             && mjj_vbs >=300                && deltaeta_vbs >= 2              && PuppiMET_pt > 30             && bVeto             && mjj_vjet > 65 && mjj_vjet < 105             \n",
      "vars: boost_looseVBS_Lepton_RecoSF,boost_looseVBS_LepWPWeight,boost_looseVBS_puWeight,boost_looseVBS_TriggerEffWeight_1l,boost_looseVBS_btagSF,boost_looseVBS_events,boost_looseVBS_Lepton_pt,boost_looseVBS_Lepton_eta,boost_looseVBS_Lepton_phi,boost_looseVBS_Lepton_flavour,boost_looseVBS_PuppiMET,boost_looseVBS_PuppiMET_phi,boost_looseVBS_MET_pt,boost_looseVBS_recoMET_pz,boost_looseVBS_nJets,boost_looseVBS_N_jets_central,boost_looseVBS_N_jets_forward,boost_looseVBS_mjj_vbs,boost_looseVBS_deltaeta_vbs,boost_looseVBS_deltaphi_vbs,boost_looseVBS_vbs_etaprod,boost_looseVBS_vbs_0_pt,boost_looseVBS_vbs_1_pt,boost_looseVBS_vbs_0_eta,boost_looseVBS_vbs_1_eta,boost_looseVBS_vbs_0_phi,boost_looseVBS_vbs_1_phi,boost_looseVBS_vbs_index_0,boost_looseVBS_vbs_index_1,boost_looseVBS_mjj_vjet,boost_looseVBS_vjet_0_pt,boost_looseVBS_vjet_1_pt,boost_looseVBS_vjet_0_eta,boost_looseVBS_vjet_1_eta,boost_looseVBS_vjet_0_phi,boost_looseVBS_vjet_1_phi,boost_looseVBS_vjet_index_0,boost_looseVBS_vjet_index_1,boost_looseVBS_Zvjets_0,boost_looseVBS_Zlep,boost_looseVBS_Asym_vbs,boost_looseVBS_Asym_vjet,boost_looseVBS_Mw_lep_reco,boost_looseVBS_Mtw_lep,boost_looseVBS_w_lep_pt,boost_looseVBS_Mww,boost_looseVBS_R_ww,boost_looseVBS_R_mw,boost_looseVBS_A_ww,boost_looseVBS_Centr_vbs,boost_looseVBS_Centr_ww,boost_looseVBS_nvtx,boost_looseVBS_qgl\n",
      "aliases: \n",
      "weight: None\n",
      "--------------------------------------------------------------------------------\n"
     ]
    },
    {
     "name": "stderr",
     "output_type": "stream",
     "text": [
      "/cvmfs/sft-nightlies.cern.ch/lcg/views/dev3python3/Mon/x86_64-centos7-gcc8-opt/lib/python3.6/site-packages/PyRDF/backend/Dist.py:315: UserWarning: Number of partitions is greater than number of clustersin the filelist\n",
      "Using 22 partition(s)\n",
      "  filelist, self.friend_info)\n"
     ]
    },
    {
     "name": "stdout",
     "output_type": "stream",
     "text": [
      "Wjets (58, 55)\n",
      "Tree: DY\n",
      "name: supercut\n",
      "parent: None\n",
      "cut: (                      ( (abs(Lepton_pdgId[0])==11) && (Lepton_pt[0]>40) ) ||                      ( (abs(Lepton_pdgId[0])==13) && (Lepton_pt[0]>30) )                       )\n",
      "vars: \n",
      "aliases: bVeto,bReq,bVetoSF,bReqSF,btagSF\n",
      "weight: (XSWeight*puWeight*                   TriggerEffWeight_1l*                   Lepton_RecoSF[0]*                   EMTFbug_veto*Lepton_tightElectron_mvaFall17V1Iso_WP90_IdIsoSF[0]*                Lepton_tightMuon_cut_Tight_HWWW_IdIsoSF[0]*(Lepton_isTightElectron_mvaFall17V1Iso_WP90[0]>0.5 || Lepton_isTightMuon_cut_Tight_HWWW[0]>0.5)*PrefireWeight*btagSF*METFilter_MC*Lepton_genmatched[0]*(Sum(GenPart_pdgId == 22 && OddVec(GenPart_statusFlags) && GenPart_pt > 20.) == 0))*((1.)*(((0.632927+0.0456956*gen_ptll-0.00154485*gen_ptll*gen_ptll+2.64397e-05*gen_ptll*gen_ptll*gen_ptll-2.19374e-07*gen_ptll*gen_ptll*gen_ptll*gen_ptll+6.99751e-10*gen_ptll*gen_ptll*gen_ptll*gen_ptll*gen_ptll)*(gen_ptll>0)*(gen_ptll<100)+(1.41713-0.00165342*gen_ptll)*(gen_ptll>=100)*(gen_ptll<300)+1*(gen_ptll>=300))*(LHE_HT<100)))\n",
      "--------------------------------------------------------------------------------\n",
      "name: lowen_looseVBS\n",
      "parent: supercut\n",
      "cut: VBS_category==1             && vbs_0_pt > 30 && vbs_1_pt > 30              && vjet_0_pt > 30 && vjet_1_pt > 30             && mjj_vbs >=300                && deltaeta_vbs >= 2              && PuppiMET_pt > 30             && bVeto             && mjj_vjet > 65 && mjj_vjet < 105             \n",
      "vars: lowen_looseVBS_Lepton_RecoSF,lowen_looseVBS_LepWPWeight,lowen_looseVBS_puWeight,lowen_looseVBS_TriggerEffWeight_1l,lowen_looseVBS_btagSF,lowen_looseVBS_events,lowen_looseVBS_Lepton_pt,lowen_looseVBS_Lepton_eta,lowen_looseVBS_Lepton_phi,lowen_looseVBS_Lepton_flavour,lowen_looseVBS_PuppiMET,lowen_looseVBS_PuppiMET_phi,lowen_looseVBS_MET_pt,lowen_looseVBS_recoMET_pz,lowen_looseVBS_nJets,lowen_looseVBS_N_jets_central,lowen_looseVBS_N_jets_forward,lowen_looseVBS_mjj_vbs,lowen_looseVBS_deltaeta_vbs,lowen_looseVBS_deltaphi_vbs,lowen_looseVBS_vbs_etaprod,lowen_looseVBS_vbs_0_pt,lowen_looseVBS_vbs_1_pt,lowen_looseVBS_vbs_0_eta,lowen_looseVBS_vbs_1_eta,lowen_looseVBS_vbs_0_phi,lowen_looseVBS_vbs_1_phi,lowen_looseVBS_vbs_index_0,lowen_looseVBS_vbs_index_1,lowen_looseVBS_mjj_vjet,lowen_looseVBS_vjet_0_pt,lowen_looseVBS_vjet_1_pt,lowen_looseVBS_vjet_0_eta,lowen_looseVBS_vjet_1_eta,lowen_looseVBS_vjet_0_phi,lowen_looseVBS_vjet_1_phi,lowen_looseVBS_vjet_index_0,lowen_looseVBS_vjet_index_1,lowen_looseVBS_Zvjets_0,lowen_looseVBS_Zlep,lowen_looseVBS_Asym_vbs,lowen_looseVBS_Asym_vjet,lowen_looseVBS_Mw_lep_reco,lowen_looseVBS_Mtw_lep,lowen_looseVBS_w_lep_pt,lowen_looseVBS_Mww,lowen_looseVBS_R_ww,lowen_looseVBS_R_mw,lowen_looseVBS_A_ww,lowen_looseVBS_Centr_vbs,lowen_looseVBS_Centr_ww,lowen_looseVBS_nvtx,lowen_looseVBS_qgl\n",
      "aliases: \n",
      "weight: None\n",
      "--------------------------------------------------------------------------------\n",
      "name: boost_looseVBS\n",
      "parent: supercut\n",
      "cut: VBS_category==0             && vbs_0_pt > 30 && vbs_1_pt > 30              && vjet_0_pt > 200             && mjj_vbs >=300                && deltaeta_vbs >= 2              && PuppiMET_pt > 30             && bVeto             && mjj_vjet > 65 && mjj_vjet < 105             \n",
      "vars: boost_looseVBS_Lepton_RecoSF,boost_looseVBS_LepWPWeight,boost_looseVBS_puWeight,boost_looseVBS_TriggerEffWeight_1l,boost_looseVBS_btagSF,boost_looseVBS_events,boost_looseVBS_Lepton_pt,boost_looseVBS_Lepton_eta,boost_looseVBS_Lepton_phi,boost_looseVBS_Lepton_flavour,boost_looseVBS_PuppiMET,boost_looseVBS_PuppiMET_phi,boost_looseVBS_MET_pt,boost_looseVBS_recoMET_pz,boost_looseVBS_nJets,boost_looseVBS_N_jets_central,boost_looseVBS_N_jets_forward,boost_looseVBS_mjj_vbs,boost_looseVBS_deltaeta_vbs,boost_looseVBS_deltaphi_vbs,boost_looseVBS_vbs_etaprod,boost_looseVBS_vbs_0_pt,boost_looseVBS_vbs_1_pt,boost_looseVBS_vbs_0_eta,boost_looseVBS_vbs_1_eta,boost_looseVBS_vbs_0_phi,boost_looseVBS_vbs_1_phi,boost_looseVBS_vbs_index_0,boost_looseVBS_vbs_index_1,boost_looseVBS_mjj_vjet,boost_looseVBS_vjet_0_pt,boost_looseVBS_vjet_1_pt,boost_looseVBS_vjet_0_eta,boost_looseVBS_vjet_1_eta,boost_looseVBS_vjet_0_phi,boost_looseVBS_vjet_1_phi,boost_looseVBS_vjet_index_0,boost_looseVBS_vjet_index_1,boost_looseVBS_Zvjets_0,boost_looseVBS_Zlep,boost_looseVBS_Asym_vbs,boost_looseVBS_Asym_vjet,boost_looseVBS_Mw_lep_reco,boost_looseVBS_Mtw_lep,boost_looseVBS_w_lep_pt,boost_looseVBS_Mww,boost_looseVBS_R_ww,boost_looseVBS_R_mw,boost_looseVBS_A_ww,boost_looseVBS_Centr_vbs,boost_looseVBS_Centr_ww,boost_looseVBS_nvtx,boost_looseVBS_qgl\n",
      "aliases: \n",
      "weight: None\n",
      "--------------------------------------------------------------------------------\n"
     ]
    },
    {
     "name": "stderr",
     "output_type": "stream",
     "text": [
      "/cvmfs/sft-nightlies.cern.ch/lcg/views/dev3python3/Mon/x86_64-centos7-gcc8-opt/lib/python3.6/site-packages/PyRDF/backend/Dist.py:315: UserWarning: Number of partitions is greater than number of clustersin the filelist\n",
      "Using 7 partition(s)\n",
      "  filelist, self.friend_info)\n"
     ]
    },
    {
     "name": "stdout",
     "output_type": "stream",
     "text": [
      "DY (0, 55)\n"
     ]
    },
    {
     "name": "stderr",
     "output_type": "stream",
     "text": [
      "Warning in <TClass::Init>: no dictionary for class edm::Hash<1> is available\n",
      "Warning in <TClass::Init>: no dictionary for class edm::ProcessHistory is available\n",
      "Warning in <TClass::Init>: no dictionary for class edm::ProcessConfiguration is available\n",
      "Warning in <TClass::Init>: no dictionary for class edm::ParameterSetBlob is available\n",
      "Warning in <TClass::Init>: no dictionary for class pair<edm::Hash<1>,edm::ParameterSetBlob> is available\n"
     ]
    }
   ],
   "source": [
    "########\n",
    "dfs = {}\n",
    "for tree,_ in jobslist:\n",
    "        print(tree)\n",
    "        # Choose the right output columns\n",
    "        if sample == \"DATA\": outputcols = columns_DATA\n",
    "        else: outputcols = columns_MC\n",
    "\n",
    "        df = pd.DataFrame(tree[cut].rdf_node.AsNumpy(columns=outputcols))\n",
    "        print(tree.name, df.shape)\n",
    "        \n",
    "        if tree.name in dfs:\n",
    "            df.to_pickle(output_dir + tree.name + f\"_part{dfs[tree.name]+1}.pkl\")\n",
    "            dfs[tree.name] +=1\n",
    "        else:\n",
    "            df.to_pickle(output_dir + tree.name +\"_part1.pkl\")\n",
    "            dfs[tree.name] =1\n",
    "            \n",
    "        "
   ]
  },
  {
   "cell_type": "code",
   "execution_count": null,
   "metadata": {},
   "outputs": [],
   "source": []
  }
 ],
 "metadata": {
  "kernelspec": {
   "display_name": "Python 3",
   "language": "python",
   "name": "python3"
  },
  "language_info": {
   "codemirror_mode": {
    "name": "ipython",
    "version": 3
   },
   "file_extension": ".py",
   "mimetype": "text/x-python",
   "name": "python",
   "nbconvert_exporter": "python",
   "pygments_lexer": "ipython3",
   "version": "3.6.5"
  },
  "sparkconnect": {
   "bundled_options": [
    "SparkMetrics",
    "EnableS3",
    "ComputeIntensive",
    "LongRunningAnalysis",
    "MemoryIntensive"
   ],
   "list_of_options": [
    {
     "name": "spark.app.name",
     "value": "NanoAOD_PyRDF"
    },
    {
     "name": "spark.dynamicAllocation.enabled",
     "value": "False"
    },
    {
     "name": "spark.executor.instances",
     "value": "100"
    }
   ]
  },
  "toc": {
   "base_numbering": 1,
   "nav_menu": {},
   "number_sections": true,
   "sideBar": true,
   "skip_h1_title": false,
   "title_cell": "Table of Contents",
   "title_sidebar": "Contents",
   "toc_cell": false,
   "toc_position": {},
   "toc_section_display": true,
   "toc_window_display": false
  },
  "varInspector": {
   "cols": {
    "lenName": 16,
    "lenType": 16,
    "lenVar": 40
   },
   "kernels_config": {
    "python": {
     "delete_cmd_postfix": "",
     "delete_cmd_prefix": "del ",
     "library": "var_list.py",
     "varRefreshCmd": "print(var_dic_list())"
    },
    "r": {
     "delete_cmd_postfix": ") ",
     "delete_cmd_prefix": "rm(",
     "library": "var_list.r",
     "varRefreshCmd": "cat(var_dic_list()) "
    }
   },
   "types_to_exclude": [
    "module",
    "function",
    "builtin_function_or_method",
    "instance",
    "_Feature"
   ],
   "window_display": false
  }
 },
 "nbformat": 4,
 "nbformat_minor": 2
}
